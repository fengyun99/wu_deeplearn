{
 "cells": [
  {
   "cell_type": "code",
   "execution_count": 2,
   "metadata": {
    "collapsed": true,
    "ExecuteTime": {
     "start_time": "2023-04-18T20:39:29.707015Z",
     "end_time": "2023-04-18T20:39:30.726173Z"
    }
   },
   "outputs": [
    {
     "data": {
      "text/plain": "list[<generator object Synset.closure at 0x0000018D643D52A0>]"
     },
     "execution_count": 2,
     "metadata": {},
     "output_type": "execute_result"
    }
   ],
   "source": [
    "from nltk.corpus import wordnet as wn\n",
    "panda = wn.synset('panda.n.01')\n",
    "hyper = lambda s: s.hypernyms()\n",
    "list[panda.closure(hyper)]"
   ]
  },
  {
   "cell_type": "markdown",
   "source": [
    "# 独热码---很难有相关性\n",
    "# 获取中心词\n",
    "# skip-gram\n",
    "每步给定一个中心词，选取上下文\n",
    "![概率](img/img_1.png)\n",
    "将概率最大化为1，θ就是对应的文字向量\n",
    "![](img/img_2.png)\n",
    "最小化上述函数\n",
    "# 反向传播--链式法则"
   ],
   "metadata": {
    "collapsed": false
   }
  }
 ],
 "metadata": {
  "kernelspec": {
   "name": "deeplearn",
   "language": "python",
   "display_name": "deeplearn"
  },
  "language_info": {
   "codemirror_mode": {
    "name": "ipython",
    "version": 2
   },
   "file_extension": ".py",
   "mimetype": "text/x-python",
   "name": "python",
   "nbconvert_exporter": "python",
   "pygments_lexer": "ipython2",
   "version": "2.7.6"
  }
 },
 "nbformat": 4,
 "nbformat_minor": 0
}
