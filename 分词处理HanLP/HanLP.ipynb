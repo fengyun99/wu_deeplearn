{
 "cells": [
  {
   "cell_type": "code",
   "execution_count": 1,
   "metadata": {
    "collapsed": true,
    "ExecuteTime": {
     "start_time": "2023-04-28T15:57:11.937229Z",
     "end_time": "2023-04-28T15:57:12.051263Z"
    }
   },
   "outputs": [
    {
     "data": {
      "text/plain": "{'SIGHAN2005_PKU_CONVSEG': 'https://file.hankcs.com/hanlp/tok/sighan2005-pku-convseg_20200110_153722.zip',\n 'SIGHAN2005_MSR_CONVSEG': 'https://file.hankcs.com/hanlp/tok/convseg-msr-nocrf-noembed_20200110_153524.zip',\n 'CTB6_CONVSEG': 'https://file.hankcs.com/hanlp/tok/ctb6_convseg_nowe_nocrf_20200110_004046.zip',\n 'PKU_NAME_MERGED_SIX_MONTHS_CONVSEG': 'https://file.hankcs.com/hanlp/tok/pku98_6m_conv_ngram_20200110_134736.zip',\n 'LARGE_ALBERT_BASE': 'https://file.hankcs.com/hanlp/tok/large_corpus_cws_albert_base_20211228_160926.zip',\n 'SIGHAN2005_PKU_BERT_BASE_ZH': 'https://file.hankcs.com/hanlp/tok/sighan2005_pku_bert_base_zh_20201231_141130.zip',\n 'COARSE_ELECTRA_SMALL_ZH': 'https://file.hankcs.com/hanlp/tok/coarse_electra_small_20220616_012050.zip',\n 'FINE_ELECTRA_SMALL_ZH': 'https://file.hankcs.com/hanlp/tok/fine_electra_small_20220615_231803.zip',\n 'CTB9_TOK_ELECTRA_SMALL': 'https://file.hankcs.com/hanlp/tok/ctb9_electra_small_20220215_205427.zip',\n 'CTB9_TOK_ELECTRA_BASE': 'http://download.hanlp.com/tok/extra/ctb9_tok_electra_base_20220426_111949.zip',\n 'CTB9_TOK_ELECTRA_BASE_CRF': 'http://download.hanlp.com/tok/extra/ctb9_tok_electra_base_crf_20220426_161255.zip',\n 'MSR_TOK_ELECTRA_BASE_CRF': 'http://download.hanlp.com/tok/extra/msra_crf_electra_base_20220507_113936.zip',\n 'UD_TOK_MMINILMV2L6': 'https://file.hankcs.com/hanlp/tok/ud_tok_mMiniLMv2L6_no_space_mul_20220619_091824.zip',\n 'UD_TOK_MMINILMV2L12': 'https://file.hankcs.com/hanlp/tok/ud_tok_mMiniLMv2L12_no_space_mul_20220619_091159.zip'}"
     },
     "execution_count": 1,
     "metadata": {},
     "output_type": "execute_result"
    }
   ],
   "source": [
    "import hanlp\n",
    "# 语种见名称最后一个字段或相应语料库\n",
    "hanlp.pretrained.tok.ALL"
   ]
  },
  {
   "cell_type": "code",
   "execution_count": 3,
   "outputs": [
    {
     "name": "stderr",
     "output_type": "stream",
     "text": [
      "                                             \r"
     ]
    },
    {
     "data": {
      "text/plain": "<hanlp.components.tokenizers.transformer.TransformerTaggingTokenizer at 0x1a90b89b760>"
     },
     "execution_count": 3,
     "metadata": {},
     "output_type": "execute_result"
    }
   ],
   "source": [
    "tok = hanlp.load(hanlp.pretrained.tok.COARSE_ELECTRA_SMALL_ZH)\n",
    "tok"
   ],
   "metadata": {
    "collapsed": false,
    "ExecuteTime": {
     "start_time": "2023-04-28T16:10:29.528561Z",
     "end_time": "2023-04-28T16:10:30.211359Z"
    }
   }
  },
  {
   "cell_type": "code",
   "execution_count": 4,
   "outputs": [
    {
     "data": {
      "text/plain": "[['商品', '和', '服务', '。'], ['晓美焰', '来到', '北京立方庭', '参观', '自然语义科技公司']]"
     },
     "execution_count": 4,
     "metadata": {},
     "output_type": "execute_result"
    }
   ],
   "source": [
    "tok(['商品和服务。', '晓美焰来到北京立方庭参观自然语义科技公司'])"
   ],
   "metadata": {
    "collapsed": false,
    "ExecuteTime": {
     "start_time": "2023-04-28T16:12:01.272464Z",
     "end_time": "2023-04-28T16:12:05.452109Z"
    }
   }
  },
  {
   "cell_type": "code",
   "execution_count": 5,
   "outputs": [
    {
     "name": "stderr",
     "output_type": "stream",
     "text": [
      "Downloading https://file.hankcs.com/hanlp/tok/fine_electra_small_20220615_231803.zip to C:\\Users\\ASUS\\AppData\\Roaming\\hanlp\\tok/fine_electra_small_20220615_231803.zip\n",
      "100%  43.5 MiB 893.0 KiB/s ETA:  0 s [=========================================]\n",
      "Decompressing C:\\Users\\ASUS\\AppData\\Roaming\\hanlp\\tok/fine_electra_small_20220615_231803.zip to C:\\Users\\ASUS\\AppData\\Roaming\\hanlp\\tok\n",
      "                                             \r"
     ]
    }
   ],
   "source": [
    "# 细颗粒度中文分词\n",
    "tok_fine = hanlp.load(hanlp.pretrained.tok.FINE_ELECTRA_SMALL_ZH)"
   ],
   "metadata": {
    "collapsed": false,
    "ExecuteTime": {
     "start_time": "2023-04-28T16:19:00.925672Z",
     "end_time": "2023-04-28T16:24:06.798389Z"
    }
   }
  },
  {
   "cell_type": "code",
   "execution_count": 6,
   "outputs": [
    {
     "data": {
      "text/plain": "['晓美焰', '来到', '北京', '立方庭', '参观', '自然', '语义', '科技', '公司']"
     },
     "execution_count": 6,
     "metadata": {},
     "output_type": "execute_result"
    }
   ],
   "source": [
    "tok_fine('晓美焰来到北京立方庭参观自然语义科技公司')"
   ],
   "metadata": {
    "collapsed": false,
    "ExecuteTime": {
     "start_time": "2023-04-28T16:24:14.085703Z",
     "end_time": "2023-04-28T16:24:14.145457Z"
    }
   }
  },
  {
   "cell_type": "code",
   "execution_count": 18,
   "outputs": [
    {
     "data": {
      "text/plain": "[['量体裁衣', '，', 'HanLP', '提供', 'RESTful', '和', 'native', '两种', 'API', '。'],\n ['两者', '在', '语义', '上', '保持', '一致', '，', '在', '代码', '上', '坚持', '开源', '。']]"
     },
     "execution_count": 18,
     "metadata": {},
     "output_type": "execute_result"
    }
   ],
   "source": [
    "# 并行分词，无论是CPU还是GPU，同时传入多个句子都将并行分词。也就是说，仅花费1个句子的时间可以处理多个句子。\n",
    "# 分成一句一句的代码\n",
    "HanLP = hanlp.pipeline() \\\n",
    "    .append(hanlp.utils.rules.split_sentence) \\\n",
    "    .append(tok)\n",
    "HanLP('量体裁衣，HanLP提供RESTful和native两种API。两者在语义上保持一致，在代码上坚持开源。')\n",
    "# a = HanLP('量体裁衣，HanLP提供RESTful和native两种API。两者在语义上保持一致，在代码上坚持开源。')\n",
    "# print(len(a))\n",
    "# print(''.join(a[0]))"
   ],
   "metadata": {
    "collapsed": false,
    "ExecuteTime": {
     "start_time": "2023-04-28T16:33:06.314674Z",
     "end_time": "2023-04-28T16:33:06.361749Z"
    }
   }
  },
  {
   "cell_type": "code",
   "execution_count": 8,
   "outputs": [
    {
     "name": "stdout",
     "output_type": "stream",
     "text": [
      "['量体裁衣', '，', 'HanLP', '提供', 'RESTful', '和', 'native', '两种', 'API', '。', '两者', '在', '语义', '上', '保持', '一致', '，', '在', '代码', '上', '坚持', '开源', '。']\n"
     ]
    }
   ],
   "source": [
    "# 分在一个列表中\n",
    "HanLP.append(lambda sents: sum(sents, []))\n",
    "print(HanLP('量体裁衣，HanLP提供RESTful和native两种API。两者在语义上保持一致，在代码上坚持开源。'))"
   ],
   "metadata": {
    "collapsed": false,
    "ExecuteTime": {
     "start_time": "2023-04-28T16:28:19.506100Z",
     "end_time": "2023-04-28T16:28:19.569769Z"
    }
   }
  },
  {
   "cell_type": "code",
   "execution_count": 19,
   "outputs": [
    {
     "name": "stderr",
     "output_type": "stream",
     "text": [
      "Downloading https://file.hankcs.com/hanlp/tok/coarse_electra_small_20220220_013548.zip to C:\\Users\\ASUS\\AppData\\Roaming\\hanlp\\tok/coarse_electra_small_20220220_013548.zip\n",
      "100%  43.5 MiB 218.5 KiB/s ETA:  0 s [=========================================]\n",
      "Decompressing C:\\Users\\ASUS\\AppData\\Roaming\\hanlp\\tok/coarse_electra_small_20220220_013548.zip to C:\\Users\\ASUS\\AppData\\Roaming\\hanlp\\tok\n",
      "                                             \r"
     ]
    },
    {
     "data": {
      "text/plain": "['首相', '和', '川', '普通', '电话']"
     },
     "execution_count": 19,
     "metadata": {},
     "output_type": "execute_result"
    }
   ],
   "source": [
    "tok = hanlp.load('https://file.hankcs.com/hanlp/tok/coarse_electra_small_20220220_013548.zip')\n",
    "tok.dict_force = tok.dict_combine = None\n",
    "tok(\"首相和川普通电话\")"
   ],
   "metadata": {
    "collapsed": false,
    "ExecuteTime": {
     "start_time": "2023-04-28T16:34:17.867942Z",
     "end_time": "2023-04-28T16:35:25.859884Z"
    }
   }
  },
  {
   "cell_type": "code",
   "execution_count": 20,
   "outputs": [
    {
     "data": {
      "text/plain": "(None, None)"
     },
     "execution_count": 20,
     "metadata": {},
     "output_type": "execute_result"
    }
   ],
   "source": [
    "# 自定义词典\n",
    "tok.dict_combine, tok.dict_force"
   ],
   "metadata": {
    "collapsed": false,
    "ExecuteTime": {
     "start_time": "2023-04-28T16:35:52.949545Z",
     "end_time": "2023-04-28T16:35:52.950773Z"
    }
   }
  },
  {
   "cell_type": "code",
   "execution_count": 25,
   "outputs": [
    {
     "data": {
      "text/plain": "[['首相', '和', '川普', '通', '电话'],\n ['银', '川普', '通人', '与', '川普', '通', '电话', '讲', '四', '川普', '通话']]"
     },
     "execution_count": 25,
     "metadata": {},
     "output_type": "execute_result"
    }
   ],
   "source": [
    "# 强制模式,导致歧义，慎用\n",
    "'''强制模式dict_force优先输出正向最长匹配到的自定义词条，在这个案例中，用户的第一反应也许是将川普加入到dict_force中，强制分词器输出川普'''\n",
    "tok.dict_force = {'川普'}\n",
    "tok([\"首相和川普通电话\", \"银川普通人与川普通电话讲四川普通话\"])"
   ],
   "metadata": {
    "collapsed": false,
    "ExecuteTime": {
     "start_time": "2023-04-28T16:41:26.989281Z",
     "end_time": "2023-04-28T16:41:27.036152Z"
    }
   }
  },
  {
   "cell_type": "code",
   "execution_count": 26,
   "outputs": [
    {
     "data": {
      "text/plain": "[['首相', '和', '川普', '通', '电话'],\n ['银川', '普通人', '与', '川普', '通', '电话', '讲', '四川', '普通话']]"
     },
     "execution_count": 26,
     "metadata": {},
     "output_type": "execute_result"
    }
   ],
   "source": [
    "# 强制校正功能\n",
    "tok.dict_force = {'川普通电话': ['川普', '通', '电话']}\n",
    "tok([\"首相和川普通电话\", \"银川普通人与川普通电话讲四川普通话\"])"
   ],
   "metadata": {
    "collapsed": false,
    "ExecuteTime": {
     "start_time": "2023-04-28T16:44:32.459838Z",
     "end_time": "2023-04-28T16:44:32.495233Z"
    }
   }
  },
  {
   "cell_type": "code",
   "execution_count": 27,
   "outputs": [
    {
     "name": "stdout",
     "output_type": "stream",
     "text": [
      "[['首相', '和', '川普', '通', '电话', '，', '川普', '是', '美国', '总统', '。'], ['银川', '普通人', '与', '川普', '通', '电话', '讲', '四川', '普通话', '，', '川普', '是', '美国', '总统', '。']]\n"
     ]
    }
   ],
   "source": [
    "tok.dict_force = tok.dict_combine = None\n",
    "print(tok([\"首相和川普通电话，川普是美国总统。\", \"银川普通人与川普通电话讲四川普通话，川普是美国总统。\"]))"
   ],
   "metadata": {
    "collapsed": false,
    "ExecuteTime": {
     "start_time": "2023-04-28T16:46:37.447669Z",
     "end_time": "2023-04-28T16:46:37.506109Z"
    }
   }
  },
  {
   "cell_type": "code",
   "execution_count": 28,
   "outputs": [
    {
     "name": "stdout",
     "output_type": "stream",
     "text": [
      "[['首相', '和', '川普', '通', '电话', '，', '川普', '是', '美国总统', '。'], ['银川', '普通人', '与', '川普', '通', '电话', '讲', '四川', '普通话', '，', '川普', '是', '美国总统', '。'], ['美国', '总统筹部', '部长', '是', '谁', '？']]\n"
     ]
    }
   ],
   "source": [
    "# 合并模式\n",
    "'''合并模式的优先级低于统计模型，即dict_combine会在统计模型的分词结果上执行最长匹配并合并匹配到的词条。一般情况下，推荐使用该模式。比如，将“美国总统”加入dict_combine后会合并['美国', '总统']，而不会合并['美国', '总', '统筹部']为['美国总统', '筹部']'''\n",
    "tok.dict_force = None\n",
    "tok.dict_combine = {'美国总统'}\n",
    "print(tok([\"首相和川普通电话，川普是美国总统。\", \"银川普通人与川普通电话讲四川普通话，川普是美国总统。\", \"美国总统筹部部长是谁？\"]))"
   ],
   "metadata": {
    "collapsed": false,
    "ExecuteTime": {
     "start_time": "2023-04-28T16:51:02.658578Z",
     "end_time": "2023-04-28T16:51:02.705983Z"
    }
   }
  },
  {
   "cell_type": "code",
   "execution_count": 31,
   "outputs": [
    {
     "data": {
      "text/plain": "['如何', '评价', 'iPad Pro', '？', 'iPad  Pro', '有', '2个空格', 'iPad       Pro']"
     },
     "execution_count": 31,
     "metadata": {},
     "output_type": "execute_result"
    }
   ],
   "source": [
    "# 空格单词\n",
    "'''含有空格、制表符等（Transformer tokenizer去掉的字符）的词语需要用tuple的形式提供：'''\n",
    "tok.dict_combine = {('iPad', 'Pro'), '2个空格'}\n",
    "tok(\"如何评价iPad Pro ？iPad  Pro有2个空格iPad       Pro\")"
   ],
   "metadata": {
    "collapsed": false,
    "ExecuteTime": {
     "start_time": "2023-04-28T16:53:09.270320Z",
     "end_time": "2023-04-28T16:53:09.307448Z"
    }
   }
  },
  {
   "cell_type": "code",
   "execution_count": 32,
   "outputs": [
    {
     "data": {
      "text/plain": "dict_keys([('2个空', '格'), ('iPad', 'Pro'), ('2', '个', '空格'), ('2', '个', '空', '格'), ('2', '个空', '格'), ('2', '个空格'), ('2个', '空', '格'), ('2个', '空格'), ('2个空格',)])"
     },
     "execution_count": 32,
     "metadata": {},
     "output_type": "execute_result"
    }
   ],
   "source": [
    "dict(tok.dict_combine.config[\"dictionary\"]).keys()"
   ],
   "metadata": {
    "collapsed": false,
    "ExecuteTime": {
     "start_time": "2023-04-28T16:53:37.740825Z",
     "end_time": "2023-04-28T16:53:37.791533Z"
    }
   }
  },
  {
   "cell_type": "code",
   "execution_count": 33,
   "outputs": [
    {
     "name": "stdout",
     "output_type": "stream",
     "text": [
      "[['2021', 0, 4], ['年', 5, 6], ['HanLPv2.1', 7, 16], ['为', 17, 18], ['生产', 18, 20], ['环境', 20, 22], ['带来', 22, 24], ['次', 24, 25], ['世代', 25, 27], ['最', 27, 28], ['先进', 28, 30], ['的', 30, 31], ['多', 31, 32], ['语种', 32, 34], ['NLP', 34, 37], ['技术', 37, 39], ['。', 39, 40]]\n"
     ]
    }
   ],
   "source": [
    "# 单词位置\n",
    "'''HanLP支持输出每个单词在文本中的原始位置，以便用于搜索引擎等场景。在词法分析中，非语素字符（空格、换行、制表符等）会被剔除，此时需要额外的位置信息才能定位每个单词：'''\n",
    "tok.config.output_spans = True\n",
    "sent = '2021 年\\nHanLPv2.1 为生产环境带来次世代最先进的多语种NLP技术。'\n",
    "word_offsets = tok(sent)\n",
    "print(word_offsets)"
   ],
   "metadata": {
    "collapsed": false,
    "ExecuteTime": {
     "start_time": "2023-04-28T16:55:31.078950Z",
     "end_time": "2023-04-28T16:55:31.110309Z"
    }
   }
  },
  {
   "cell_type": "code",
   "execution_count": 34,
   "outputs": [],
   "source": [
    "for word, begin, end in word_offsets:\n",
    "    assert word == sent[begin:end]"
   ],
   "metadata": {
    "collapsed": false,
    "ExecuteTime": {
     "start_time": "2023-04-28T16:57:36.535011Z",
     "end_time": "2023-04-28T16:57:36.551341Z"
    }
   }
  },
  {
   "cell_type": "code",
   "execution_count": 35,
   "outputs": [
    {
     "name": "stderr",
     "output_type": "stream",
     "text": [
      "Downloading https://file.hankcs.com/hanlp/tok/ud_tok_mMiniLMv2L6_no_space_mul_20220619_091824.zip to C:\\Users\\ASUS\\AppData\\Roaming\\hanlp\\tok/ud_tok_mMiniLMv2L6_no_space_mul_20220619_091824.zip\n",
      "100% 329.8 MiB   1.3 MiB/s ETA:  0 s [=========================================]\n",
      "Decompressing C:\\Users\\ASUS\\AppData\\Roaming\\hanlp\\tok/ud_tok_mMiniLMv2L6_no_space_mul_20220619_091824.zip to C:\\Users\\ASUS\\AppData\\Roaming\\hanlp\\tok\n",
      "Downloading https://file.hankcs.com/hanlp/transformers/mMiniLMv2L6-no-space-tokenizer_20220616_094859.zip to C:\\Users\\ASUS\\AppData\\Roaming\\hanlp\\transformers/mMiniLMv2L6-no-space-tokenizer_20220616_094859.zip\n",
      "100%   3.6 MiB   3.6 MiB/s ETA:  0 s [=========================================]\n",
      "Decompressing C:\\Users\\ASUS\\AppData\\Roaming\\hanlp\\transformers/mMiniLMv2L6-no-space-tokenizer_20220616_094859.zip to C:\\Users\\ASUS\\AppData\\Roaming\\hanlp\\transformers\n",
      "Building model \u001B[5m\u001B[33m...\u001B[0m\u001B[0mDownloading https://file.hankcs.com/hanlp/transformers/mMiniLMv2L6-no-space_20220616_094949.zip to C:\\Users\\ASUS\\AppData\\Roaming\\hanlp\\transformers/mMiniLMv2L6-no-space_20220616_094949.zip\n",
      "100% 217.9 MiB  97.4 KiB/s ETA:  0 s [=========================================]\n",
      "Decompressing C:\\Users\\ASUS\\AppData\\Roaming\\hanlp\\transformers/mMiniLMv2L6-no-space_20220616_094949.zip to C:\\Users\\ASUS\\AppData\\Roaming\\hanlp\\transformers\n",
      "                                             \r"
     ]
    }
   ],
   "source": [
    "# 多语种支持\n",
    "mul = hanlp.load(hanlp.pretrained.tok.UD_TOK_MMINILMV2L6)"
   ],
   "metadata": {
    "collapsed": false,
    "ExecuteTime": {
     "start_time": "2023-04-28T16:58:11.379785Z",
     "end_time": "2023-04-28T17:14:53.238862Z"
    }
   }
  },
  {
   "cell_type": "code",
   "execution_count": null,
   "outputs": [],
   "source": [],
   "metadata": {
    "collapsed": false
   }
  }
 ],
 "metadata": {
  "kernelspec": {
   "display_name": "Python 3",
   "language": "python",
   "name": "python3"
  },
  "language_info": {
   "codemirror_mode": {
    "name": "ipython",
    "version": 2
   },
   "file_extension": ".py",
   "mimetype": "text/x-python",
   "name": "python",
   "nbconvert_exporter": "python",
   "pygments_lexer": "ipython2",
   "version": "2.7.6"
  }
 },
 "nbformat": 4,
 "nbformat_minor": 0
}
