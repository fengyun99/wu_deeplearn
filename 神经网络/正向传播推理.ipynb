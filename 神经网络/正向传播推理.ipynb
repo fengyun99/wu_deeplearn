{
 "cells": [
  {
   "cell_type": "markdown",
   "source": [
    "![](../img/层级.jpg)\n",
    "输入层--隐藏层--输出层\n",
    "由2输入到3输出\n",
    "上述网络为全连接网络，箭头上由权重，还需要加上一个偏置\n",
    "h = xW + b"
   ],
   "metadata": {
    "collapsed": false
   }
  },
  {
   "cell_type": "code",
   "execution_count": 1,
   "outputs": [
    {
     "data": {
      "text/plain": "array([[ 0.68970889,  2.37991282,  2.60116824,  0.87526424],\n       [-1.50441164, -0.68029665, -1.21772972, -0.6594258 ],\n       [-0.38691803,  0.78353179,  0.57536024, -0.24387992],\n       [ 0.49172477,  2.46892751,  2.84190357,  2.14725623],\n       [ 0.15343017,  1.35421255,  1.22256157, -0.57265517],\n       [-0.529207  ,  0.01070153, -0.59301148, -2.56206067],\n       [-0.30465602,  1.61255247,  1.86353108,  2.57275646],\n       [ 1.64949055,  2.36599551,  2.10355441, -3.6779647 ],\n       [ 2.64033716,  4.27251197,  4.66898552, -0.95871218],\n       [-1.59047115, -0.0971881 , -0.2403962 ,  1.99641242]])"
     },
     "execution_count": 1,
     "metadata": {},
     "output_type": "execute_result"
    }
   ],
   "source": [
    "# 全连接层变换-----mini-batch-------输入到隐藏层\n",
    "import numpy as np\n",
    "W1 = np.random.randn(2,4) # 权重\n",
    "b1 = np.random.randn(4) # 偏置\n",
    "x = np.random.randn(10,2) # 输入\n",
    "h = np.dot(x,W1) + b1\n",
    "h"
   ],
   "metadata": {
    "collapsed": false,
    "ExecuteTime": {
     "start_time": "2023-05-22T20:38:10.688028Z",
     "end_time": "2023-05-22T20:38:11.072592Z"
    }
   }
  },
  {
   "cell_type": "code",
   "execution_count": 2,
   "outputs": [],
   "source": [
    "# 实现sigmoid\n",
    "def sigmoid(x):\n",
    "    return 1 / (1 + np.exp(-x))"
   ],
   "metadata": {
    "collapsed": false,
    "ExecuteTime": {
     "start_time": "2023-05-22T20:39:57.052142Z",
     "end_time": "2023-05-22T20:39:57.081950Z"
    }
   }
  },
  {
   "cell_type": "code",
   "execution_count": 3,
   "outputs": [
    {
     "data": {
      "text/plain": "array([[ 1.10175679, -0.35004817,  0.16880404],\n       [ 1.12690806, -0.25623315,  0.26166814],\n       [ 0.92175115, -1.05835391, -0.16210832],\n       [ 0.85842325, -1.31826974, -0.03950481],\n       [ 1.15388674, -0.15420386,  0.11468429],\n       [ 1.05000989, -0.58104803,  0.24922105],\n       [ 1.05427598, -0.55540622,  0.2328328 ],\n       [ 0.85521596, -1.32197435, -0.45865635],\n       [ 0.61753434, -2.25557017, -1.25019067],\n       [ 0.87269155, -1.24428552, -1.01746062]])"
     },
     "execution_count": 3,
     "metadata": {},
     "output_type": "execute_result"
    }
   ],
   "source": [
    "x = np.random.randn(10,2)\n",
    "W1 = np.random.randn(2,4)\n",
    "b1 = np.random.randn(4)\n",
    "W2 = np.random.randn(4,3)\n",
    "b2 = np.random.randn(3)\n",
    "\n",
    "h = np.dot(x,W1) + b1\n",
    "a = sigmoid(h)\n",
    "s = np.dot(a,W2) + b2\n",
    "# 三维向量各个维度对应各个类的得分\n",
    "s"
   ],
   "metadata": {
    "collapsed": false,
    "ExecuteTime": {
     "start_time": "2023-05-22T20:42:16.156583Z",
     "end_time": "2023-05-22T20:42:16.215761Z"
    }
   }
  },
  {
   "cell_type": "code",
   "execution_count": 4,
   "outputs": [],
   "source": [
    "import numpy as np\n",
    "class Sigmoid:\n",
    "    def __init__(self):\n",
    "        self.params = []\n",
    "    def forward(self, x):\n",
    "        return 1 / (1 + np.exp(-x))\n",
    "\n",
    "class Affine:\n",
    "    def __init__(self, W , b):\n",
    "        self.params = [W, b]\n",
    "    def forward(self, x):\n",
    "        W, b = self.params\n",
    "        out = np.dot(x, W) + b\n",
    "        return out"
   ],
   "metadata": {
    "collapsed": false,
    "ExecuteTime": {
     "start_time": "2023-05-22T20:47:09.913498Z",
     "end_time": "2023-05-22T20:47:09.944918Z"
    }
   }
  },
  {
   "cell_type": "markdown",
   "source": [
    "![](../img/层结构.jpg)"
   ],
   "metadata": {
    "collapsed": false
   }
  },
  {
   "cell_type": "code",
   "execution_count": 6,
   "outputs": [],
   "source": [
    "class TwoLayerNet:\n",
    "    def __init__(self, input_size, hidden_size, output_size):\n",
    "        I, H, O = input_size, hidden_size, output_size\n",
    "\n",
    "        # 初始化权重和偏置\n",
    "        W1 = np.random.randn(I,H)\n",
    "        b1 = np.random.randn(H)\n",
    "        W2 = np.random.randn(H,O)\n",
    "        b2 = np.random.randn(O)\n",
    "\n",
    "        # 生成层\n",
    "        self.layers = [\n",
    "            Affine(W1, b1),\n",
    "            Sigmoid(),\n",
    "            Affine(W2, b2)\n",
    "        ]\n",
    "\n",
    "        # 将所有的权重整理到列表中\n",
    "        self.params = []\n",
    "        for layer in self.layers:\n",
    "            self.params += layer.params\n",
    "\n",
    "    def predict(self, x):\n",
    "        for layer in self.layers:\n",
    "            x = layer.forward(x)\n",
    "        return x"
   ],
   "metadata": {
    "collapsed": false,
    "ExecuteTime": {
     "start_time": "2023-05-22T20:54:56.633555Z",
     "end_time": "2023-05-22T20:54:56.680887Z"
    }
   }
  },
  {
   "cell_type": "code",
   "execution_count": null,
   "outputs": [],
   "source": [],
   "metadata": {
    "collapsed": false
   }
  }
 ],
 "metadata": {
  "kernelspec": {
   "display_name": "Python 3",
   "language": "python",
   "name": "python3"
  },
  "language_info": {
   "codemirror_mode": {
    "name": "ipython",
    "version": 2
   },
   "file_extension": ".py",
   "mimetype": "text/x-python",
   "name": "python",
   "nbconvert_exporter": "python",
   "pygments_lexer": "ipython2",
   "version": "2.7.6"
  }
 },
 "nbformat": 4,
 "nbformat_minor": 0
}
