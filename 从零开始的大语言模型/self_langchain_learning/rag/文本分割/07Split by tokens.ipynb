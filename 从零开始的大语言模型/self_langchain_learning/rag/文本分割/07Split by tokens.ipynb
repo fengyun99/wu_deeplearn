{
 "cells": [
  {
   "cell_type": "markdown",
   "source": [
    "# Split by tokens\n",
    "\n",
    "语言模型有一个令牌限制。您不应超出令牌限制。因此，当您将文本拆分为块时，最好计算标记的数量。有很多标记器。当您计算文本中的标记时，您应该使用与语言模型中使用的相同的标记生成器。\n",
    "\n",
    "## tiktoken\n",
    "\n",
    "tiktoken 是 OpenAI 创建的快速 BPE 标记器。\n",
    "\n",
    "我们可以用它来估计所使用的tokens。对于 OpenAI 模型来说，它可能会更准确。\n",
    "\n",
    "文本如何分割：按传入的字符。\n",
    "如何测量块大小：通过 `tiktoken` 分词器。"
   ],
   "metadata": {
    "collapsed": false
   }
  },
  {
   "cell_type": "code",
   "execution_count": 1,
   "outputs": [
    {
     "name": "stdout",
     "output_type": "stream",
     "text": [
      "Note: you may need to restart the kernel to use updated packages.\n"
     ]
    }
   ],
   "source": [
    "%pip install --upgrade --quiet  tiktoken"
   ],
   "metadata": {
    "collapsed": false,
    "ExecuteTime": {
     "start_time": "2024-01-23T17:18:53.506087Z",
     "end_time": "2024-01-23T17:18:56.497850Z"
    }
   }
  },
  {
   "cell_type": "code",
   "execution_count": 2,
   "outputs": [],
   "source": [
    "# This is a long document we can split up.\n",
    "with open(\"../../data/a.txt\",encoding=\"utf-8\") as f:\n",
    "    state_of_the_union = f.read()\n",
    "from langchain.text_splitter import CharacterTextSplitter"
   ],
   "metadata": {
    "collapsed": false,
    "ExecuteTime": {
     "start_time": "2024-01-23T17:18:56.499850Z",
     "end_time": "2024-01-23T17:18:56.654515Z"
    }
   }
  },
  {
   "cell_type": "code",
   "execution_count": 3,
   "outputs": [],
   "source": [
    "text_splitter = CharacterTextSplitter.from_tiktoken_encoder(\n",
    "    chunk_size=100, chunk_overlap=0\n",
    ")\n",
    "texts = text_splitter.split_text(state_of_the_union)"
   ],
   "metadata": {
    "collapsed": false,
    "ExecuteTime": {
     "start_time": "2024-01-23T17:18:56.657025Z",
     "end_time": "2024-01-23T17:18:56.875606Z"
    }
   }
  },
  {
   "cell_type": "code",
   "execution_count": 4,
   "outputs": [
    {
     "name": "stdout",
     "output_type": "stream",
     "text": [
      "Madam Speaker, Madam Vice President, our First Lady and Second Gentleman. Members of Congress and the Cabinet. Justices of the Supreme Court. My fellow Americans.\n",
      "\n",
      "Last year COVID-19 kept us apart. This year we are finally together again.\n",
      "\n",
      "Tonight, we meet as Democrats Republicans and Independents. But most importantly as Americans.\n",
      "\n",
      "With a duty to one another to the American people to the Constitution.\n"
     ]
    }
   ],
   "source": [
    "print(texts[0])"
   ],
   "metadata": {
    "collapsed": false,
    "ExecuteTime": {
     "start_time": "2024-01-23T17:18:56.876612Z",
     "end_time": "2024-01-23T17:18:56.880093Z"
    }
   }
  },
  {
   "cell_type": "markdown",
   "source": [
    "请注意，如果我们使用CharacterTextSplitter.from_tiktoken_encoder，则文本仅由CharacterTextSplitter分割，并且tiktoken分词器用于合并分割。这意味着 split 可以大于 tiktoken tokenizer 测量的块大小。我们可以使用 RecursiveCharacterTextSplitter.from_tiktoken_encoder 来确保分割不大于语言模型允许的标记块大小，其中如果每个分割具有更大的大小，则每个分割将被递归分割。\n",
    "\n",
    "我们还可以直接加载一个 tiktoken splitter，这确保每个 split 都小于 chunk 大小。"
   ],
   "metadata": {
    "collapsed": false
   }
  },
  {
   "cell_type": "code",
   "execution_count": 5,
   "outputs": [
    {
     "name": "stdout",
     "output_type": "stream",
     "text": [
      "Madam Speaker, Madam Vice President, our\n"
     ]
    }
   ],
   "source": [
    "from langchain.text_splitter import TokenTextSplitter\n",
    "\n",
    "text_splitter = TokenTextSplitter(chunk_size=10, chunk_overlap=0)\n",
    "\n",
    "texts = text_splitter.split_text(state_of_the_union)\n",
    "print(texts[0])"
   ],
   "metadata": {
    "collapsed": false,
    "ExecuteTime": {
     "start_time": "2024-01-23T17:18:56.880093Z",
     "end_time": "2024-01-23T17:18:56.928562Z"
    }
   }
  },
  {
   "cell_type": "markdown",
   "source": [
    "## spaCy\n",
    "[spaCy](https://spacy.io/) 是一个用于高级自然语言处理的开源软件库，用编程语言 Python 和 Cython 编写。\n",
    "\n",
    "NLTK 的另一种替代方法是使用 [spaCy tokenizer](https://spacy.io/api/tokenizer)。\n",
    "\n",
    "1.文本如何分割：通过 spaCy tokenizer。\n",
    "\n",
    "2.如何测量块大小：按字符数。"
   ],
   "metadata": {
    "collapsed": false
   }
  },
  {
   "cell_type": "code",
   "execution_count": 6,
   "outputs": [
    {
     "name": "stdout",
     "output_type": "stream",
     "text": [
      "Note: you may need to restart the kernel to use updated packages.\n"
     ]
    }
   ],
   "source": [
    "%pip install --upgrade --quiet  spacy"
   ],
   "metadata": {
    "collapsed": false,
    "ExecuteTime": {
     "start_time": "2024-01-23T17:18:56.902069Z",
     "end_time": "2024-01-23T17:19:00.127234Z"
    }
   }
  },
  {
   "cell_type": "code",
   "execution_count": 7,
   "outputs": [],
   "source": [
    "# This is a long document we can split up.\n",
    "with open(\"../../data/b.txt\",encoding=\"utf-8\") as f:\n",
    "    state_of_the_union = f.read()"
   ],
   "metadata": {
    "collapsed": false,
    "ExecuteTime": {
     "start_time": "2024-01-23T17:19:00.129899Z",
     "end_time": "2024-01-23T17:19:00.133424Z"
    }
   }
  },
  {
   "cell_type": "code",
   "execution_count": 16,
   "outputs": [
    {
     "name": "stdout",
     "output_type": "stream",
     "text": [
      "Looking in indexes: https://pypi.tuna.tsinghua.edu.cn/simple\n",
      "Collecting https://github.com/explosion/spacy-models/releases/download/en_core_web_sm-3.0.0/en_core_web_sm-3.0.0.tar.gz\n",
      "  Downloading https://github.com/explosion/spacy-models/releases/download/en_core_web_sm-3.0.0/en_core_web_sm-3.0.0.tar.gz (13.7 MB)\n",
      "     ---------------------------------------- 0.0/13.7 MB ? eta -:--:--\n",
      "     ---------------------------------------- 0.0/13.7 MB ? eta -:--:--\n",
      "     --------------------------------------- 0.0/13.7 MB 165.2 kB/s eta 0:01:23\n",
      "     --------------------------------------- 0.0/13.7 MB 326.8 kB/s eta 0:00:42\n",
      "     --------------------------------------- 0.1/13.7 MB 393.8 kB/s eta 0:00:35\n",
      "     --------------------------------------- 0.1/13.7 MB 655.8 kB/s eta 0:00:21\n",
      "      -------------------------------------- 0.2/13.7 MB 850.1 kB/s eta 0:00:16\n",
      "     - -------------------------------------- 0.4/13.7 MB 1.3 MB/s eta 0:00:11\n",
      "     - -------------------------------------- 0.6/13.7 MB 1.7 MB/s eta 0:00:08\n",
      "     -- ------------------------------------- 1.0/13.7 MB 2.4 MB/s eta 0:00:06\n",
      "     ---- ----------------------------------- 1.4/13.7 MB 3.2 MB/s eta 0:00:04\n",
      "     ------ --------------------------------- 2.2/13.7 MB 4.5 MB/s eta 0:00:03\n",
      "     -------- ------------------------------- 2.9/13.7 MB 5.5 MB/s eta 0:00:02\n",
      "     --------- ------------------------------ 3.1/13.7 MB 5.7 MB/s eta 0:00:02\n",
      "     ---------- ----------------------------- 3.4/13.7 MB 5.5 MB/s eta 0:00:02\n",
      "     --------------- ------------------------ 5.2/13.7 MB 8.1 MB/s eta 0:00:02\n",
      "     ------------------ --------------------- 6.5/13.7 MB 9.0 MB/s eta 0:00:01\n",
      "     -------------------- ------------------- 7.2/13.7 MB 9.5 MB/s eta 0:00:01\n",
      "     -------------------- ------------------- 7.2/13.7 MB 9.5 MB/s eta 0:00:01\n",
      "     -------------------- ------------------- 7.2/13.7 MB 9.5 MB/s eta 0:00:01\n",
      "     ------------------------ --------------- 8.4/13.7 MB 9.4 MB/s eta 0:00:01\n",
      "     ------------------------------ -------- 10.8/13.7 MB 16.8 MB/s eta 0:00:01\n",
      "     ---------------------------------- ---- 12.2/13.7 MB 19.3 MB/s eta 0:00:01\n",
      "     --------------------------------------  13.4/13.7 MB 24.2 MB/s eta 0:00:01\n",
      "     --------------------------------------  13.7/13.7 MB 23.4 MB/s eta 0:00:01\n",
      "     --------------------------------------- 13.7/13.7 MB 21.1 MB/s eta 0:00:00\n",
      "  Preparing metadata (setup.py): started\n",
      "  Preparing metadata (setup.py): finished with status 'done'\n",
      "Collecting spacy<3.1.0,>=3.0.0 (from en-core-web-sm==3.0.0)\n",
      "  Downloading https://pypi.tuna.tsinghua.edu.cn/packages/00/7d/1b5e84c2d4934f6752c796238eaf30f80c0f6c7ce75b28200f40ac88a3b8/spacy-3.0.9.tar.gz (989 kB)\n",
      "     ---------------------------------------- 0.0/989.2 kB ? eta -:--:--\n",
      "     - ----------------------------------- 30.7/989.2 kB 660.6 kB/s eta 0:00:02\n",
      "     --- --------------------------------- 92.2/989.2 kB 871.5 kB/s eta 0:00:02\n",
      "     ------- ------------------------------ 194.6/989.2 kB 1.3 MB/s eta 0:00:01\n",
      "     -------------- ----------------------- 389.1/989.2 kB 2.0 MB/s eta 0:00:01\n",
      "     -------------------------- ----------- 686.1/989.2 kB 2.9 MB/s eta 0:00:01\n",
      "     -------------------------------------- 989.2/989.2 kB 3.7 MB/s eta 0:00:00\n",
      "  Installing build dependencies: started\n",
      "  Installing build dependencies: finished with status 'done'\n",
      "  Getting requirements to build wheel: started\n",
      "  Getting requirements to build wheel: finished with status 'done'\n",
      "  Installing backend dependencies: started\n",
      "  Installing backend dependencies: finished with status 'done'\n",
      "  Preparing metadata (pyproject.toml): started\n",
      "  Preparing metadata (pyproject.toml): finished with status 'done'\n",
      "Requirement already satisfied: spacy-legacy<3.1.0,>=3.0.5 in e:\\anaconda3\\envs\\langchain\\lib\\site-packages (from spacy<3.1.0,>=3.0.0->en-core-web-sm==3.0.0) (3.0.12)\n",
      "Requirement already satisfied: murmurhash<1.1.0,>=0.28.0 in e:\\anaconda3\\envs\\langchain\\lib\\site-packages (from spacy<3.1.0,>=3.0.0->en-core-web-sm==3.0.0) (1.0.10)\n",
      "Requirement already satisfied: cymem<2.1.0,>=2.0.2 in e:\\anaconda3\\envs\\langchain\\lib\\site-packages (from spacy<3.1.0,>=3.0.0->en-core-web-sm==3.0.0) (2.0.8)\n",
      "Requirement already satisfied: preshed<3.1.0,>=3.0.2 in e:\\anaconda3\\envs\\langchain\\lib\\site-packages (from spacy<3.1.0,>=3.0.0->en-core-web-sm==3.0.0) (3.0.9)\n",
      "Collecting thinc<8.1.0,>=8.0.3 (from spacy<3.1.0,>=3.0.0->en-core-web-sm==3.0.0)\n",
      "  Using cached thinc-8.0.17-cp311-cp311-win_amd64.whl\n",
      "Requirement already satisfied: blis<0.8.0,>=0.4.0 in e:\\anaconda3\\envs\\langchain\\lib\\site-packages (from spacy<3.1.0,>=3.0.0->en-core-web-sm==3.0.0) (0.7.11)\n",
      "Collecting wasabi<1.1.0,>=0.8.1 (from spacy<3.1.0,>=3.0.0->en-core-web-sm==3.0.0)\n",
      "  Using cached https://pypi.tuna.tsinghua.edu.cn/packages/34/74/bd566f876c2de097e75d525c2696fb9829009987a0d93a4fb3576778a0a8/wasabi-0.10.1-py3-none-any.whl (26 kB)\n",
      "Requirement already satisfied: srsly<3.0.0,>=2.4.1 in e:\\anaconda3\\envs\\langchain\\lib\\site-packages (from spacy<3.1.0,>=3.0.0->en-core-web-sm==3.0.0) (2.4.8)\n",
      "Requirement already satisfied: catalogue<2.1.0,>=2.0.4 in e:\\anaconda3\\envs\\langchain\\lib\\site-packages (from spacy<3.1.0,>=3.0.0->en-core-web-sm==3.0.0) (2.0.10)\n",
      "Collecting typer<0.4.0,>=0.3.0 (from spacy<3.1.0,>=3.0.0->en-core-web-sm==3.0.0)\n",
      "  Downloading https://pypi.tuna.tsinghua.edu.cn/packages/90/34/d138832f6945432c638f32137e6c79a3b682f06a63c488dcfaca6b166c64/typer-0.3.2-py3-none-any.whl (21 kB)\n",
      "Collecting pathy>=0.3.5 (from spacy<3.1.0,>=3.0.0->en-core-web-sm==3.0.0)\n",
      "  Using cached https://pypi.tuna.tsinghua.edu.cn/packages/42/54/c8f12c7cfb9b7a994acd3d92e816130940b3d4510f87ed1c66b3e7976b73/pathy-0.11.0-py3-none-any.whl (47 kB)\n",
      "Requirement already satisfied: smart-open<7.0.0,>=5.2.1 in e:\\anaconda3\\envs\\langchain\\lib\\site-packages (from spacy<3.1.0,>=3.0.0->en-core-web-sm==3.0.0) (6.4.0)\n",
      "Requirement already satisfied: tqdm<5.0.0,>=4.38.0 in e:\\anaconda3\\envs\\langchain\\lib\\site-packages (from spacy<3.1.0,>=3.0.0->en-core-web-sm==3.0.0) (4.66.1)\n",
      "Requirement already satisfied: numpy>=1.15.0 in e:\\anaconda3\\envs\\langchain\\lib\\site-packages (from spacy<3.1.0,>=3.0.0->en-core-web-sm==3.0.0) (1.26.2)\n",
      "Requirement already satisfied: requests<3.0.0,>=2.13.0 in e:\\anaconda3\\envs\\langchain\\lib\\site-packages (from spacy<3.1.0,>=3.0.0->en-core-web-sm==3.0.0) (2.31.0)\n",
      "Collecting pydantic!=1.8,!=1.8.1,<1.9.0,>=1.7.4 (from spacy<3.1.0,>=3.0.0->en-core-web-sm==3.0.0)\n",
      "  Using cached https://pypi.tuna.tsinghua.edu.cn/packages/ff/74/54e030641601112309f6d2af620774e9080f99c7a15742fc6a0b170c4076/pydantic-1.8.2-py3-none-any.whl (126 kB)\n",
      "Requirement already satisfied: jinja2 in e:\\anaconda3\\envs\\langchain\\lib\\site-packages (from spacy<3.1.0,>=3.0.0->en-core-web-sm==3.0.0) (3.1.2)\n",
      "Requirement already satisfied: setuptools in e:\\anaconda3\\envs\\langchain\\lib\\site-packages (from spacy<3.1.0,>=3.0.0->en-core-web-sm==3.0.0) (68.2.2)\n",
      "Requirement already satisfied: packaging>=20.0 in e:\\anaconda3\\envs\\langchain\\lib\\site-packages (from spacy<3.1.0,>=3.0.0->en-core-web-sm==3.0.0) (23.2)\n",
      "Collecting pathlib-abc==0.1.1 (from pathy>=0.3.5->spacy<3.1.0,>=3.0.0->en-core-web-sm==3.0.0)\n",
      "  Using cached https://pypi.tuna.tsinghua.edu.cn/packages/ef/ba/7baa8fe79d48520ae77e594ff1cc1d30a5eb0fefc3846495bcff8bb215a4/pathlib_abc-0.1.1-py3-none-any.whl (23 kB)\n",
      "Requirement already satisfied: typing-extensions>=3.7.4.3 in e:\\anaconda3\\envs\\langchain\\lib\\site-packages (from pydantic!=1.8,!=1.8.1,<1.9.0,>=1.7.4->spacy<3.1.0,>=3.0.0->en-core-web-sm==3.0.0) (4.9.0)\n",
      "Requirement already satisfied: charset-normalizer<4,>=2 in e:\\anaconda3\\envs\\langchain\\lib\\site-packages (from requests<3.0.0,>=2.13.0->spacy<3.1.0,>=3.0.0->en-core-web-sm==3.0.0) (3.3.2)\n",
      "Requirement already satisfied: idna<4,>=2.5 in e:\\anaconda3\\envs\\langchain\\lib\\site-packages (from requests<3.0.0,>=2.13.0->spacy<3.1.0,>=3.0.0->en-core-web-sm==3.0.0) (3.6)\n",
      "Requirement already satisfied: urllib3<3,>=1.21.1 in e:\\anaconda3\\envs\\langchain\\lib\\site-packages (from requests<3.0.0,>=2.13.0->spacy<3.1.0,>=3.0.0->en-core-web-sm==3.0.0) (1.26.18)\n",
      "Requirement already satisfied: certifi>=2017.4.17 in e:\\anaconda3\\envs\\langchain\\lib\\site-packages (from requests<3.0.0,>=2.13.0->spacy<3.1.0,>=3.0.0->en-core-web-sm==3.0.0) (2023.11.17)\n",
      "Requirement already satisfied: colorama in e:\\anaconda3\\envs\\langchain\\lib\\site-packages (from tqdm<5.0.0,>=4.38.0->spacy<3.1.0,>=3.0.0->en-core-web-sm==3.0.0) (0.4.6)\n",
      "Collecting click<7.2.0,>=7.1.1 (from typer<0.4.0,>=0.3.0->spacy<3.1.0,>=3.0.0->en-core-web-sm==3.0.0)\n",
      "  Using cached https://pypi.tuna.tsinghua.edu.cn/packages/d2/3d/fa76db83bf75c4f8d338c2fd15c8d33fdd7ad23a9b5e57eb6c5de26b430e/click-7.1.2-py2.py3-none-any.whl (82 kB)\n",
      "Requirement already satisfied: MarkupSafe>=2.0 in e:\\anaconda3\\envs\\langchain\\lib\\site-packages (from jinja2->spacy<3.1.0,>=3.0.0->en-core-web-sm==3.0.0) (2.1.3)\n",
      "Building wheels for collected packages: en-core-web-sm, spacy\n",
      "  Building wheel for en-core-web-sm (setup.py): started\n",
      "  Building wheel for en-core-web-sm (setup.py): finished with status 'done'\n",
      "  Created wheel for en-core-web-sm: filename=en_core_web_sm-3.0.0-py3-none-any.whl size=13704311 sha256=701950c1e7348e76d898ac1ef4e0696dd053e7cecf594fec364fca01a416e1b2\n",
      "  Stored in directory: c:\\users\\asus\\appdata\\local\\pip\\cache\\wheels\\c5\\5a\\18\\e3681669d38e613bedce7c30998e5e8d5112c1aa1a6e606edd\n",
      "  Building wheel for spacy (pyproject.toml): started\n",
      "  Building wheel for spacy (pyproject.toml): still running...\n",
      "  Building wheel for spacy (pyproject.toml): finished with status 'done'\n",
      "  Created wheel for spacy: filename=spacy-3.0.9-cp311-cp311-win_amd64.whl size=11163597 sha256=77e94712e73b9503627b1656ce5c9169c86c64bf3839e77777da9fd344c0b6b2\n",
      "  Stored in directory: c:\\users\\asus\\appdata\\local\\pip\\cache\\wheels\\fc\\d0\\e2\\127e017b4920bee2c89cfade8464dc73d95e3d0731ff0fd99c\n",
      "Successfully built en-core-web-sm spacy\n",
      "Installing collected packages: wasabi, pydantic, pathlib-abc, click, typer, thinc, pathy, spacy, en-core-web-sm\n",
      "  Attempting uninstall: wasabi\n",
      "    Found existing installation: wasabi 1.1.2\n",
      "    Uninstalling wasabi-1.1.2:\n",
      "      Successfully uninstalled wasabi-1.1.2\n",
      "  Attempting uninstall: pydantic\n",
      "    Found existing installation: pydantic 1.10.13\n",
      "    Uninstalling pydantic-1.10.13:\n",
      "      Successfully uninstalled pydantic-1.10.13\n",
      "  Attempting uninstall: click\n",
      "    Found existing installation: click 8.1.7\n",
      "    Uninstalling click-8.1.7:\n",
      "      Successfully uninstalled click-8.1.7\n",
      "  Attempting uninstall: typer\n",
      "    Found existing installation: typer 0.9.0\n",
      "    Uninstalling typer-0.9.0:\n",
      "      Successfully uninstalled typer-0.9.0\n",
      "  Attempting uninstall: thinc\n",
      "    Found existing installation: thinc 8.2.2\n",
      "    Uninstalling thinc-8.2.2:\n",
      "      Successfully uninstalled thinc-8.2.2\n",
      "  Attempting uninstall: spacy\n",
      "    Found existing installation: spacy 3.7.2\n",
      "    Uninstalling spacy-3.7.2:\n",
      "      Successfully uninstalled spacy-3.7.2\n",
      "  Attempting uninstall: en-core-web-sm\n",
      "    Found existing installation: en-core-web-sm 2.2.0\n",
      "    Uninstalling en-core-web-sm-2.2.0:\n",
      "      Successfully uninstalled en-core-web-sm-2.2.0\n",
      "Successfully installed click-7.1.2 en-core-web-sm-3.0.0 pathlib-abc-0.1.1 pathy-0.11.0 pydantic-1.8.2 spacy-3.0.9 thinc-8.0.17 typer-0.3.2 wasabi-0.10.1\n"
     ]
    },
    {
     "name": "stderr",
     "output_type": "stream",
     "text": [
      "  WARNING: Failed to remove contents in a temporary directory 'E:\\anaconda3\\envs\\langchain\\Lib\\site-packages\\~ydantic'.\n",
      "  You can safely remove it manually.\n",
      "  WARNING: Failed to remove contents in a temporary directory 'E:\\anaconda3\\envs\\langchain\\Lib\\site-packages\\~hinc'.\n",
      "  You can safely remove it manually.\n",
      "  WARNING: Failed to remove contents in a temporary directory 'E:\\anaconda3\\envs\\langchain\\Lib\\site-packages\\~pacy'.\n",
      "  You can safely remove it manually.\n",
      "ERROR: pip's dependency resolver does not currently take into account all the packages that are installed. This behaviour is the source of the following dependency conflicts.\n",
      "chromadb 0.4.22 requires pydantic>=1.9, but you have pydantic 1.8.2 which is incompatible.\n",
      "chromadb 0.4.22 requires typer>=0.9.0, but you have typer 0.3.2 which is incompatible.\n",
      "docarray 0.32.1 requires pydantic>=1.10.2, but you have pydantic 1.8.2 which is incompatible.\n",
      "langfuse 2.6.4 requires pydantic<3.0,>=1.10.7, but you have pydantic 1.8.2 which is incompatible.\n",
      "openai 1.6.1 requires pydantic<3,>=1.9.0, but you have pydantic 1.8.2 which is incompatible.\n"
     ]
    },
    {
     "name": "stdout",
     "output_type": "stream",
     "text": [
      "Looking in indexes: https://pypi.tuna.tsinghua.edu.cn/simple\n",
      "Collecting https://github.com/explosion/spacy-models/releases/download/en_core_web_sm-3.0.0/en_core_web_sm-3.0.0.tar.gz\n",
      "  Downloading https://github.com/explosion/spacy-models/releases/download/en_core_web_sm-3.0.0/en_core_web_sm-3.0.0.tar.gz (13.7 MB)\n",
      "     ---------------------------------------- 0.0/13.7 MB ? eta -:--:--\n",
      "     ---------------------------------------- 0.0/13.7 MB ? eta -:--:--\n",
      "     --------------------------------------- 0.0/13.7 MB 262.6 kB/s eta 0:00:53\n",
      "     --------------------------------------- 0.0/13.7 MB 281.8 kB/s eta 0:00:49\n",
      "     --------------------------------------- 0.1/13.7 MB 438.9 kB/s eta 0:00:32\n",
      "     --------------------------------------- 0.2/13.7 MB 706.2 kB/s eta 0:00:20\n",
      "      -------------------------------------- 0.3/13.7 MB 983.0 kB/s eta 0:00:14\n",
      "     - -------------------------------------- 0.4/13.7 MB 1.4 MB/s eta 0:00:10\n",
      "     - -------------------------------------- 0.6/13.7 MB 1.9 MB/s eta 0:00:08\n",
      "     --- ------------------------------------ 1.1/13.7 MB 2.8 MB/s eta 0:00:05\n",
      "     ---- ----------------------------------- 1.6/13.7 MB 3.7 MB/s eta 0:00:04\n",
      "     ------- -------------------------------- 2.5/13.7 MB 5.2 MB/s eta 0:00:03\n",
      "     --------- ------------------------------ 3.1/13.7 MB 6.0 MB/s eta 0:00:02\n",
      "     ------------- -------------------------- 4.5/13.7 MB 7.8 MB/s eta 0:00:02\n",
      "     --------------- ------------------------ 5.2/13.7 MB 8.8 MB/s eta 0:00:01\n",
      "     --------------------- ------------------ 7.3/13.7 MB 10.8 MB/s eta 0:00:01\n",
      "     ---------------------------- ----------- 9.7/13.7 MB 13.4 MB/s eta 0:00:01\n",
      "     -------------------------------- ------ 11.5/13.7 MB 28.5 MB/s eta 0:00:01\n",
      "     ----------------------------------- --- 12.4/13.7 MB 32.7 MB/s eta 0:00:01\n",
      "     ----------------------------------- --- 12.6/13.7 MB 28.5 MB/s eta 0:00:01\n",
      "     ----------------------------------- --- 12.6/13.7 MB 28.5 MB/s eta 0:00:01\n",
      "     --------------------------------------- 13.7/13.7 MB 27.3 MB/s eta 0:00:00\n",
      "  Preparing metadata (setup.py): started\n",
      "  Preparing metadata (setup.py): finished with status 'done'\n",
      "Collecting spacy<3.1.0,>=3.0.0 (from en-core-web-sm==3.0.0)\n",
      "  Using cached https://pypi.tuna.tsinghua.edu.cn/packages/00/7d/1b5e84c2d4934f6752c796238eaf30f80c0f6c7ce75b28200f40ac88a3b8/spacy-3.0.9.tar.gz (989 kB)\n",
      "  Installing build dependencies: started\n",
      "  Installing build dependencies: finished with status 'done'\n",
      "  Getting requirements to build wheel: started\n",
      "  Getting requirements to build wheel: finished with status 'done'\n",
      "  Installing backend dependencies: started\n",
      "  Installing backend dependencies: finished with status 'done'\n",
      "  Preparing metadata (pyproject.toml): started\n",
      "  Preparing metadata (pyproject.toml): finished with status 'done'\n",
      "Requirement already satisfied: spacy-legacy<3.1.0,>=3.0.5 in e:\\anaconda3\\envs\\langchain\\lib\\site-packages (from spacy<3.1.0,>=3.0.0->en-core-web-sm==3.0.0) (3.0.12)\n",
      "Requirement already satisfied: murmurhash<1.1.0,>=0.28.0 in e:\\anaconda3\\envs\\langchain\\lib\\site-packages (from spacy<3.1.0,>=3.0.0->en-core-web-sm==3.0.0) (1.0.10)\n",
      "Requirement already satisfied: cymem<2.1.0,>=2.0.2 in e:\\anaconda3\\envs\\langchain\\lib\\site-packages (from spacy<3.1.0,>=3.0.0->en-core-web-sm==3.0.0) (2.0.8)\n",
      "Requirement already satisfied: preshed<3.1.0,>=3.0.2 in e:\\anaconda3\\envs\\langchain\\lib\\site-packages (from spacy<3.1.0,>=3.0.0->en-core-web-sm==3.0.0) (3.0.9)\n",
      "Note: you may need to restart the kernel to use updated packages.\n"
     ]
    },
    {
     "name": "stderr",
     "output_type": "stream",
     "text": [
      "ERROR: Exception:\n",
      "Traceback (most recent call last):\n",
      "  File \"E:\\anaconda3\\envs\\langchain\\Lib\\site-packages\\pip\\_internal\\cli\\base_command.py\", line 180, in exc_logging_wrapper\n",
      "    status = run_func(*args)\n",
      "             ^^^^^^^^^^^^^^^\n",
      "  File \"E:\\anaconda3\\envs\\langchain\\Lib\\site-packages\\pip\\_internal\\cli\\req_command.py\", line 245, in wrapper\n",
      "    return func(self, options, args)\n",
      "           ^^^^^^^^^^^^^^^^^^^^^^^^^\n",
      "  File \"E:\\anaconda3\\envs\\langchain\\Lib\\site-packages\\pip\\_internal\\commands\\install.py\", line 377, in run\n",
      "    requirement_set = resolver.resolve(\n",
      "                      ^^^^^^^^^^^^^^^^^\n",
      "  File \"E:\\anaconda3\\envs\\langchain\\Lib\\site-packages\\pip\\_internal\\resolution\\resolvelib\\resolver.py\", line 95, in resolve\n",
      "    result = self._result = resolver.resolve(\n",
      "                            ^^^^^^^^^^^^^^^^^\n",
      "  File \"E:\\anaconda3\\envs\\langchain\\Lib\\site-packages\\pip\\_vendor\\resolvelib\\resolvers.py\", line 546, in resolve\n",
      "    state = resolution.resolve(requirements, max_rounds=max_rounds)\n",
      "            ^^^^^^^^^^^^^^^^^^^^^^^^^^^^^^^^^^^^^^^^^^^^^^^^^^^^^^^\n",
      "  File \"E:\\anaconda3\\envs\\langchain\\Lib\\site-packages\\pip\\_vendor\\resolvelib\\resolvers.py\", line 427, in resolve\n",
      "    failure_causes = self._attempt_to_pin_criterion(name)\n",
      "                     ^^^^^^^^^^^^^^^^^^^^^^^^^^^^^^^^^^^^\n",
      "  File \"E:\\anaconda3\\envs\\langchain\\Lib\\site-packages\\pip\\_vendor\\resolvelib\\resolvers.py\", line 239, in _attempt_to_pin_criterion\n",
      "    criteria = self._get_updated_criteria(candidate)\n",
      "               ^^^^^^^^^^^^^^^^^^^^^^^^^^^^^^^^^^^^^\n",
      "  File \"E:\\anaconda3\\envs\\langchain\\Lib\\site-packages\\pip\\_vendor\\resolvelib\\resolvers.py\", line 230, in _get_updated_criteria\n",
      "    self._add_to_criteria(criteria, requirement, parent=candidate)\n",
      "  File \"E:\\anaconda3\\envs\\langchain\\Lib\\site-packages\\pip\\_vendor\\resolvelib\\resolvers.py\", line 148, in _add_to_criteria\n",
      "    matches = self._p.find_matches(\n",
      "              ^^^^^^^^^^^^^^^^^^^^^\n",
      "  File \"E:\\anaconda3\\envs\\langchain\\Lib\\site-packages\\pip\\_internal\\resolution\\resolvelib\\provider.py\", line 231, in find_matches\n",
      "    return self._factory.find_candidates(\n",
      "           ^^^^^^^^^^^^^^^^^^^^^^^^^^^^^^\n",
      "  File \"E:\\anaconda3\\envs\\langchain\\Lib\\site-packages\\pip\\_internal\\resolution\\resolvelib\\factory.py\", line 434, in find_candidates\n",
      "    return self._iter_found_candidates(\n",
      "           ^^^^^^^^^^^^^^^^^^^^^^^^^^^^\n",
      "  File \"E:\\anaconda3\\envs\\langchain\\Lib\\site-packages\\pip\\_internal\\resolution\\resolvelib\\factory.py\", line 325, in _iter_found_candidates\n",
      "    _get_installed_candidate(),\n",
      "    ^^^^^^^^^^^^^^^^^^^^^^^^^^\n",
      "  File \"E:\\anaconda3\\envs\\langchain\\Lib\\site-packages\\pip\\_internal\\resolution\\resolvelib\\factory.py\", line 271, in _get_installed_candidate\n",
      "    if not specifier.contains(installed_dist.version, prereleases=True):\n",
      "                              ^^^^^^^^^^^^^^^^^^^^^^\n",
      "  File \"E:\\anaconda3\\envs\\langchain\\Lib\\site-packages\\pip\\_internal\\metadata\\importlib\\_dists.py\", line 177, in version\n",
      "    return parse_version(self._dist.version)\n",
      "           ^^^^^^^^^^^^^^^^^^^^^^^^^^^^^^^^^\n",
      "  File \"E:\\anaconda3\\envs\\langchain\\Lib\\site-packages\\pip\\_vendor\\packaging\\version.py\", line 49, in parse\n",
      "    return Version(version)\n",
      "           ^^^^^^^^^^^^^^^^\n",
      "  File \"E:\\anaconda3\\envs\\langchain\\Lib\\site-packages\\pip\\_vendor\\packaging\\version.py\", line 264, in __init__\n",
      "    match = self._regex.search(version)\n",
      "            ^^^^^^^^^^^^^^^^^^^^^^^^^^^\n",
      "TypeError: expected string or bytes-like object, got 'NoneType'\n"
     ]
    }
   ],
   "source": [
    "%pip install https://github.com/explosion/spacy-models/releases/download/en_core_web_sm-3.0.0/en_core_web_sm-3.0.0.tar.gz"
   ],
   "metadata": {
    "collapsed": false,
    "ExecuteTime": {
     "start_time": "2024-01-23T17:23:54.440075Z",
     "end_time": "2024-01-23T17:25:17.376798Z"
    }
   }
  },
  {
   "cell_type": "code",
   "execution_count": 17,
   "outputs": [
    {
     "name": "stderr",
     "output_type": "stream",
     "text": [
      "E:\\anaconda3\\envs\\langchain\\Lib\\site-packages\\spacy\\util.py:910: UserWarning: [W095] Model 'en_core_web_sm' (3.0.0) was trained with spaCy v3.0.0 and may not be 100% compatible with the current version (3.7.2). If you see errors or degraded performance, download a newer compatible model or retrain your custom model with the current spaCy version. For more details and available updates, run: python -m spacy validate\n",
      "  warnings.warn(warn_msg)\n"
     ]
    }
   ],
   "source": [
    "from langchain.text_splitter import SpacyTextSplitter\n",
    "\n",
    "text_splitter = SpacyTextSplitter(chunk_size=1000)"
   ],
   "metadata": {
    "collapsed": false,
    "ExecuteTime": {
     "start_time": "2024-01-23T17:25:17.376798Z",
     "end_time": "2024-01-23T17:25:17.816481Z"
    }
   }
  },
  {
   "cell_type": "code",
   "execution_count": null,
   "outputs": [],
   "source": [],
   "metadata": {
    "collapsed": false
   }
  }
 ],
 "metadata": {
  "kernelspec": {
   "display_name": "Python 3",
   "language": "python",
   "name": "python3"
  },
  "language_info": {
   "codemirror_mode": {
    "name": "ipython",
    "version": 2
   },
   "file_extension": ".py",
   "mimetype": "text/x-python",
   "name": "python",
   "nbconvert_exporter": "python",
   "pygments_lexer": "ipython2",
   "version": "2.7.6"
  }
 },
 "nbformat": 4,
 "nbformat_minor": 0
}
