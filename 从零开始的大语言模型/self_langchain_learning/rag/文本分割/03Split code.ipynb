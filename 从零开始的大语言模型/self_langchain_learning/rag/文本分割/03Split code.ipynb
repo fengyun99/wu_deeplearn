{
 "cells": [
  {
   "cell_type": "markdown",
   "source": [
    "# 分割代码\n",
    "CodeTextSplitter允许您拆分支持多种语言的代码。导入枚举`Language`并指定语言。"
   ],
   "metadata": {
    "collapsed": false
   }
  },
  {
   "cell_type": "code",
   "execution_count": 1,
   "outputs": [],
   "source": [
    "from langchain.text_splitter import (\n",
    "    Language,\n",
    "    RecursiveCharacterTextSplitter,\n",
    ")"
   ],
   "metadata": {
    "collapsed": false,
    "ExecuteTime": {
     "start_time": "2024-01-23T15:49:39.354267Z",
     "end_time": "2024-01-23T15:49:39.484425Z"
    }
   }
  },
  {
   "cell_type": "code",
   "execution_count": 2,
   "outputs": [
    {
     "data": {
      "text/plain": "['cpp',\n 'go',\n 'java',\n 'kotlin',\n 'js',\n 'ts',\n 'php',\n 'proto',\n 'python',\n 'rst',\n 'ruby',\n 'rust',\n 'scala',\n 'swift',\n 'markdown',\n 'latex',\n 'html',\n 'sol',\n 'csharp',\n 'cobol']"
     },
     "execution_count": 2,
     "metadata": {},
     "output_type": "execute_result"
    }
   ],
   "source": [
    "# Full list of supported languages\n",
    "[e.value for e in Language]"
   ],
   "metadata": {
    "collapsed": false,
    "ExecuteTime": {
     "start_time": "2024-01-23T15:49:46.852762Z",
     "end_time": "2024-01-23T15:49:46.860737Z"
    }
   }
  },
  {
   "cell_type": "code",
   "execution_count": 3,
   "outputs": [
    {
     "data": {
      "text/plain": "['\\nclass ', '\\ndef ', '\\n\\tdef ', '\\n\\n', '\\n', ' ', '']"
     },
     "execution_count": 3,
     "metadata": {},
     "output_type": "execute_result"
    }
   ],
   "source": [
    "# You can also see the separators used for a given language\n",
    "RecursiveCharacterTextSplitter.get_separators_for_language(Language.PYTHON)"
   ],
   "metadata": {
    "collapsed": false,
    "ExecuteTime": {
     "start_time": "2024-01-23T15:49:56.932878Z",
     "end_time": "2024-01-23T15:49:56.940525Z"
    }
   }
  },
  {
   "cell_type": "markdown",
   "source": [
    "## Python\n",
    "下面是一个使用PythonTextSplitter的例子:"
   ],
   "metadata": {
    "collapsed": false
   }
  },
  {
   "cell_type": "code",
   "execution_count": 4,
   "outputs": [
    {
     "data": {
      "text/plain": "[Document(page_content='def hello_world():\\n    print(\"Hello, World!\")'),\n Document(page_content='# Call the function\\nhello_world()')]"
     },
     "execution_count": 4,
     "metadata": {},
     "output_type": "execute_result"
    }
   ],
   "source": [
    "PYTHON_CODE = \"\"\"\n",
    "def hello_world():\n",
    "    print(\"Hello, World!\")\n",
    "\n",
    "# Call the function\n",
    "hello_world()\n",
    "\"\"\"\n",
    "python_splitter = RecursiveCharacterTextSplitter.from_language(\n",
    "    language=Language.PYTHON, chunk_size=50, chunk_overlap=0\n",
    ")\n",
    "python_docs = python_splitter.create_documents([PYTHON_CODE])\n",
    "python_docs"
   ],
   "metadata": {
    "collapsed": false,
    "ExecuteTime": {
     "start_time": "2024-01-23T15:50:32.502363Z",
     "end_time": "2024-01-23T15:50:32.508755Z"
    }
   }
  },
  {
   "cell_type": "markdown",
   "source": [
    "## JS"
   ],
   "metadata": {
    "collapsed": false
   }
  },
  {
   "cell_type": "code",
   "execution_count": 5,
   "outputs": [
    {
     "data": {
      "text/plain": "[Document(page_content='function helloWorld() {\\n  console.log(\"Hello, World!\");\\n}'),\n Document(page_content='// Call the function\\nhelloWorld();')]"
     },
     "execution_count": 5,
     "metadata": {},
     "output_type": "execute_result"
    }
   ],
   "source": [
    "JS_CODE = \"\"\"\n",
    "function helloWorld() {\n",
    "  console.log(\"Hello, World!\");\n",
    "}\n",
    "\n",
    "// Call the function\n",
    "helloWorld();\n",
    "\"\"\"\n",
    "\n",
    "js_splitter = RecursiveCharacterTextSplitter.from_language(\n",
    "    language=Language.JS, chunk_size=60, chunk_overlap=0\n",
    ")\n",
    "js_docs = js_splitter.create_documents([JS_CODE])\n",
    "js_docs"
   ],
   "metadata": {
    "collapsed": false,
    "ExecuteTime": {
     "start_time": "2024-01-23T15:51:10.299862Z",
     "end_time": "2024-01-23T15:51:10.316296Z"
    }
   }
  },
  {
   "cell_type": "markdown",
   "source": [
    "## Markdown\n",
    "下面是一个使用Markdown文本分割器的例子"
   ],
   "metadata": {
    "collapsed": false
   }
  },
  {
   "cell_type": "code",
   "execution_count": 6,
   "outputs": [],
   "source": [
    "markdown_text = \"\"\"\n",
    "# 🦜️🔗 LangChain\n",
    "\n",
    "⚡ Building applications with LLMs through composability ⚡\n",
    "\n",
    "## Quick Install\n",
    "\n",
    "```bash\n",
    "# Hopefully this code block isn't split\n",
    "pip install langchain\n",
    "```\n",
    "\n",
    "As an open-source project in a rapidly developing field, we are extremely open to contributions.\n",
    "\"\"\""
   ],
   "metadata": {
    "collapsed": false,
    "ExecuteTime": {
     "start_time": "2024-01-23T15:51:54.199765Z",
     "end_time": "2024-01-23T15:51:54.204781Z"
    }
   }
  },
  {
   "cell_type": "code",
   "execution_count": 7,
   "outputs": [
    {
     "data": {
      "text/plain": "[Document(page_content='# 🦜️🔗 LangChain'),\n Document(page_content='⚡ Building applications with LLMs through composability ⚡'),\n Document(page_content='## Quick Install\\n\\n```bash'),\n Document(page_content=\"# Hopefully this code block isn't split\"),\n Document(page_content='pip install langchain'),\n Document(page_content='```'),\n Document(page_content='As an open-source project in a rapidly developing field, we'),\n Document(page_content='are extremely open to contributions.')]"
     },
     "execution_count": 7,
     "metadata": {},
     "output_type": "execute_result"
    }
   ],
   "source": [
    "md_splitter = RecursiveCharacterTextSplitter.from_language(\n",
    "    language=Language.MARKDOWN, chunk_size=60, chunk_overlap=0\n",
    ")\n",
    "md_docs = md_splitter.create_documents([markdown_text])\n",
    "md_docs"
   ],
   "metadata": {
    "collapsed": false,
    "ExecuteTime": {
     "start_time": "2024-01-23T15:52:00.614830Z",
     "end_time": "2024-01-23T15:52:00.620451Z"
    }
   }
  },
  {
   "cell_type": "markdown",
   "source": [
    "## Latex"
   ],
   "metadata": {
    "collapsed": false
   }
  },
  {
   "cell_type": "code",
   "execution_count": 8,
   "outputs": [],
   "source": [
    "latex_text = \"\"\"\n",
    "\\documentclass{article}\n",
    "\n",
    "\\begin{document}\n",
    "\n",
    "\\maketitle\n",
    "\n",
    "\\section{Introduction}\n",
    "Large language models (LLMs) are a type of machine learning model that can be trained on vast amounts of text data to generate human-like language. In recent years, LLMs have made significant advances in a variety of natural language processing tasks, including language translation, text generation, and sentiment analysis.\n",
    "\n",
    "\\subsection{History of LLMs}\n",
    "The earliest LLMs were developed in the 1980s and 1990s, but they were limited by the amount of data that could be processed and the computational power available at the time. In the past decade, however, advances in hardware and software have made it possible to train LLMs on massive datasets, leading to significant improvements in performance.\n",
    "\n",
    "\\subsection{Applications of LLMs}\n",
    "LLMs have many applications in industry, including chatbots, content creation, and virtual assistants. They can also be used in academia for research in linguistics, psychology, and computational linguistics.\n",
    "\n",
    "\\end{document}\n",
    "\"\"\""
   ],
   "metadata": {
    "collapsed": false,
    "ExecuteTime": {
     "start_time": "2024-01-23T15:52:47.477186Z",
     "end_time": "2024-01-23T15:52:47.483843Z"
    }
   }
  },
  {
   "cell_type": "code",
   "execution_count": 9,
   "outputs": [
    {
     "data": {
      "text/plain": "[Document(page_content='\\\\documentclass{article}\\n\\n\\x08egin{document}\\n\\n\\\\maketitle'),\n Document(page_content='\\\\section{Introduction}'),\n Document(page_content='Large language models (LLMs) are a type of machine learning'),\n Document(page_content='model that can be trained on vast amounts of text data to'),\n Document(page_content='generate human-like language. In recent years, LLMs have'),\n Document(page_content='made significant advances in a variety of natural language'),\n Document(page_content='processing tasks, including language translation, text'),\n Document(page_content='generation, and sentiment analysis.'),\n Document(page_content='\\\\subsection{History of LLMs}'),\n Document(page_content='The earliest LLMs were developed in the 1980s and 1990s,'),\n Document(page_content='but they were limited by the amount of data that could be'),\n Document(page_content='processed and the computational power available at the'),\n Document(page_content='time. In the past decade, however, advances in hardware and'),\n Document(page_content='software have made it possible to train LLMs on massive'),\n Document(page_content='datasets, leading to significant improvements in'),\n Document(page_content='performance.'),\n Document(page_content='\\\\subsection{Applications of LLMs}'),\n Document(page_content='LLMs have many applications in industry, including'),\n Document(page_content='chatbots, content creation, and virtual assistants. They'),\n Document(page_content='can also be used in academia for research in linguistics,'),\n Document(page_content='psychology, and computational linguistics.'),\n Document(page_content='\\\\end{document}')]"
     },
     "execution_count": 9,
     "metadata": {},
     "output_type": "execute_result"
    }
   ],
   "source": [
    "latex_splitter = RecursiveCharacterTextSplitter.from_language(\n",
    "    language=Language.MARKDOWN, chunk_size=60, chunk_overlap=0\n",
    ")\n",
    "latex_docs = latex_splitter.create_documents([latex_text])\n",
    "latex_docs"
   ],
   "metadata": {
    "collapsed": false,
    "ExecuteTime": {
     "start_time": "2024-01-23T15:52:53.474601Z",
     "end_time": "2024-01-23T15:52:53.475107Z"
    }
   }
  },
  {
   "cell_type": "markdown",
   "source": [
    "## HTML"
   ],
   "metadata": {
    "collapsed": false
   }
  },
  {
   "cell_type": "code",
   "execution_count": 10,
   "outputs": [],
   "source": [
    "html_text = \"\"\"\n",
    "<!DOCTYPE html>\n",
    "<html>\n",
    "    <head>\n",
    "        <title>🦜️🔗 LangChain</title>\n",
    "        <style>\n",
    "            body {\n",
    "                font-family: Arial, sans-serif;\n",
    "            }\n",
    "            h1 {\n",
    "                color: darkblue;\n",
    "            }\n",
    "        </style>\n",
    "    </head>\n",
    "    <body>\n",
    "        <div>\n",
    "            <h1>🦜️🔗 LangChain</h1>\n",
    "            <p>⚡ Building applications with LLMs through composability ⚡</p>\n",
    "        </div>\n",
    "        <div>\n",
    "            As an open-source project in a rapidly developing field, we are extremely open to contributions.\n",
    "        </div>\n",
    "    </body>\n",
    "</html>\n",
    "\"\"\""
   ],
   "metadata": {
    "collapsed": false,
    "ExecuteTime": {
     "start_time": "2024-01-23T15:55:06.252092Z",
     "end_time": "2024-01-23T15:55:06.255289Z"
    }
   }
  },
  {
   "cell_type": "code",
   "execution_count": 11,
   "outputs": [
    {
     "data": {
      "text/plain": "[Document(page_content='<!DOCTYPE html>\\n<html>'),\n Document(page_content='<head>\\n        <title>🦜️🔗 LangChain</title>'),\n Document(page_content='<style>\\n            body {\\n                font-family: Aria'),\n Document(page_content='l, sans-serif;\\n            }\\n            h1 {'),\n Document(page_content='color: darkblue;\\n            }\\n        </style>\\n    </head'),\n Document(page_content='>'),\n Document(page_content='<body>'),\n Document(page_content='<div>\\n            <h1>🦜️🔗 LangChain</h1>'),\n Document(page_content='<p>⚡ Building applications with LLMs through composability ⚡'),\n Document(page_content='</p>\\n        </div>'),\n Document(page_content='<div>\\n            As an open-source project in a rapidly dev'),\n Document(page_content='eloping field, we are extremely open to contributions.'),\n Document(page_content='</div>\\n    </body>\\n</html>')]"
     },
     "execution_count": 11,
     "metadata": {},
     "output_type": "execute_result"
    }
   ],
   "source": [
    "html_splitter = RecursiveCharacterTextSplitter.from_language(\n",
    "    language=Language.HTML, chunk_size=60, chunk_overlap=0\n",
    ")\n",
    "html_docs = html_splitter.create_documents([html_text])\n",
    "html_docs"
   ],
   "metadata": {
    "collapsed": false,
    "ExecuteTime": {
     "start_time": "2024-01-23T15:55:11.916142Z",
     "end_time": "2024-01-23T15:55:11.922707Z"
    }
   }
  },
  {
   "cell_type": "code",
   "execution_count": null,
   "outputs": [],
   "source": [],
   "metadata": {
    "collapsed": false
   }
  }
 ],
 "metadata": {
  "kernelspec": {
   "display_name": "Python 3",
   "language": "python",
   "name": "python3"
  },
  "language_info": {
   "codemirror_mode": {
    "name": "ipython",
    "version": 2
   },
   "file_extension": ".py",
   "mimetype": "text/x-python",
   "name": "python",
   "nbconvert_exporter": "python",
   "pygments_lexer": "ipython2",
   "version": "2.7.6"
  }
 },
 "nbformat": 4,
 "nbformat_minor": 0
}
