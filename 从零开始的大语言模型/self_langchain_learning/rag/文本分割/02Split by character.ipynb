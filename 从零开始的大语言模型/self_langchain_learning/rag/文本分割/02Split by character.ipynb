{
 "cells": [
  {
   "cell_type": "markdown",
   "source": [
    "# 通过字符集分割\n",
    "这是最简单的方法。这将基于字符(默认为“”)进行分割，并根据字符数测量块长度。\n",
    "\n",
    "1.如何分割文本:通过单个字符。\n",
    "\n",
    "2.如何测量块大小:通过字符数。"
   ],
   "metadata": {
    "collapsed": false
   }
  },
  {
   "cell_type": "code",
   "execution_count": 1,
   "outputs": [],
   "source": [
    "# This is a long document we can split up.\n",
    "with open(\"../../data/a.txt\",\"r\",encoding=\"utf-8\") as f:\n",
    "    state_of_the_union = f.read()"
   ],
   "metadata": {
    "collapsed": false,
    "ExecuteTime": {
     "start_time": "2024-01-23T15:40:59.093957Z",
     "end_time": "2024-01-23T15:40:59.095340Z"
    }
   }
  },
  {
   "cell_type": "code",
   "execution_count": 4,
   "outputs": [],
   "source": [
    "from langchain.text_splitter import CharacterTextSplitter\n",
    "\n",
    "text_splitter = CharacterTextSplitter(\n",
    "    separator=\"\\n\",\n",
    "    chunk_size=1000,\n",
    "    chunk_overlap=200,\n",
    "    length_function=len,\n",
    "    is_separator_regex=False,\n",
    ")"
   ],
   "metadata": {
    "collapsed": false,
    "ExecuteTime": {
     "start_time": "2024-01-23T15:41:46.531283Z",
     "end_time": "2024-01-23T15:41:46.535798Z"
    }
   }
  },
  {
   "cell_type": "code",
   "execution_count": 5,
   "outputs": [
    {
     "name": "stdout",
     "output_type": "stream",
     "text": [
      "page_content='阳市住房公积金服务中心内设机构和各分支机构职责\\n发布日期：2022-01-12 15:02\\u2003作者：gongjijin \\u2003阅读：3174\\xa0次\\u2003字体：[ 大 ]\\xa0[ 中 ]\\xa0[ 小 ]\\n\\xa0\\xa0\\xa0一、办公室 \\xa0 \\xa0 \\xa0电话：0816—2230032、2245881\\n\\xa0\\xa0 负责处理机关日常政务 ;负责文秘、机要、会务、档案、信息、信访、保密、安全、接待、绩效管理工作;负责机关财务管理、后勤保障工作;承办创建、社会治安综合治理等工作;承办中心党组工作;承办党风廉政建设和纪检监察日常工作。\\n\\xa0\\xa0\\xa0二、人事科 \\xa0 \\xa0 \\xa0电话：0816—6037187\\n\\xa0\\xa0 负责市住房公积金管理中心机构编制和人事管理工作;承办市住房公积金管理中心干部的任免、调整、交流、奖惩 工作;负责市住房公积金管理中心人事档案、工资福利、社会保险工作;负责市住房公积金管理中心人事制度和人才队伍建设;负责市住房公积金管理中心干部教育培训、日常管理、考核考评工作;负责承办市住房公积金管理中心党建日 常工作;负责市住房公积金管理中心聘用人员的录用及管理工作;做好市住房公积金管理中心退休干部的管理服务工作。\\n\\xa0\\xa0\\xa0三、业务发展科 \\xa0 \\xa0 \\xa0电话：0816—2223705\\xa0\\n\\xa0\\xa0 负责编制执行全市住房公积金的归集、提取、贷款年度计划;负责研究和拟订市住房公积金归集、提取、贷款政策、管理办法和操作规程;审核单位降低住房公积金缴存比例，缓缴住房公积金手续 ;负责市住房公积金归集、提取、贷款情况的统计、汇总和分析;承办市住房公积金管理委员会办公室日常工作。\\n\\xa0\\xa0\\xa0四、综合服务科 \\xa0 \\xa0 \\xa0电话：0816—2235602\\xa0\\n\\xa0\\xa0 负责对分支机构住房公积金归集、提取、贷款业务指导、监督和考核 ;负责住房公积金业务政策宣传和培训工作；负责住房公积金贷款的风险管理，做好贷后管理及逾期贷款催收工作；组织开展住房公积金系统信访、投诉案件的调查，群众来信来访的办理工作。\\n\\xa0\\xa0\\xa0五、财务会计科 \\xa0 \\xa0 \\xa0电话：0816—2231161'\n"
     ]
    }
   ],
   "source": [
    "texts = text_splitter.create_documents([state_of_the_union])\n",
    "print(texts[0])"
   ],
   "metadata": {
    "collapsed": false,
    "ExecuteTime": {
     "start_time": "2024-01-23T15:41:47.372186Z",
     "end_time": "2024-01-23T15:41:47.376233Z"
    }
   }
  },
  {
   "cell_type": "markdown",
   "source": [
    "下面是一个与文档一起传递元数据的示例，注意它与文档一起被拆分。"
   ],
   "metadata": {
    "collapsed": false
   }
  },
  {
   "cell_type": "code",
   "execution_count": 6,
   "outputs": [
    {
     "name": "stdout",
     "output_type": "stream",
     "text": [
      "page_content='阳市住房公积金服务中心内设机构和各分支机构职责\\n发布日期：2022-01-12 15:02\\u2003作者：gongjijin \\u2003阅读：3174\\xa0次\\u2003字体：[ 大 ]\\xa0[ 中 ]\\xa0[ 小 ]\\n\\xa0\\xa0\\xa0一、办公室 \\xa0 \\xa0 \\xa0电话：0816—2230032、2245881\\n\\xa0\\xa0 负责处理机关日常政务 ;负责文秘、机要、会务、档案、信息、信访、保密、安全、接待、绩效管理工作;负责机关财务管理、后勤保障工作;承办创建、社会治安综合治理等工作;承办中心党组工作;承办党风廉政建设和纪检监察日常工作。\\n\\xa0\\xa0\\xa0二、人事科 \\xa0 \\xa0 \\xa0电话：0816—6037187\\n\\xa0\\xa0 负责市住房公积金管理中心机构编制和人事管理工作;承办市住房公积金管理中心干部的任免、调整、交流、奖惩 工作;负责市住房公积金管理中心人事档案、工资福利、社会保险工作;负责市住房公积金管理中心人事制度和人才队伍建设;负责市住房公积金管理中心干部教育培训、日常管理、考核考评工作;负责承办市住房公积金管理中心党建日 常工作;负责市住房公积金管理中心聘用人员的录用及管理工作;做好市住房公积金管理中心退休干部的管理服务工作。\\n\\xa0\\xa0\\xa0三、业务发展科 \\xa0 \\xa0 \\xa0电话：0816—2223705\\xa0\\n\\xa0\\xa0 负责编制执行全市住房公积金的归集、提取、贷款年度计划;负责研究和拟订市住房公积金归集、提取、贷款政策、管理办法和操作规程;审核单位降低住房公积金缴存比例，缓缴住房公积金手续 ;负责市住房公积金归集、提取、贷款情况的统计、汇总和分析;承办市住房公积金管理委员会办公室日常工作。\\n\\xa0\\xa0\\xa0四、综合服务科 \\xa0 \\xa0 \\xa0电话：0816—2235602\\xa0\\n\\xa0\\xa0 负责对分支机构住房公积金归集、提取、贷款业务指导、监督和考核 ;负责住房公积金业务政策宣传和培训工作；负责住房公积金贷款的风险管理，做好贷后管理及逾期贷款催收工作；组织开展住房公积金系统信访、投诉案件的调查，群众来信来访的办理工作。\\n\\xa0\\xa0\\xa0五、财务会计科 \\xa0 \\xa0 \\xa0电话：0816—2231161' metadata={'document': 1}\n"
     ]
    }
   ],
   "source": [
    "metadatas = [{\"document\": 1}, {\"document\": 2}]\n",
    "documents = text_splitter.create_documents(\n",
    "    [state_of_the_union, state_of_the_union], metadatas=metadatas\n",
    ")\n",
    "print(documents[0])"
   ],
   "metadata": {
    "collapsed": false,
    "ExecuteTime": {
     "start_time": "2024-01-23T15:42:47.439107Z",
     "end_time": "2024-01-23T15:42:47.444302Z"
    }
   }
  },
  {
   "cell_type": "code",
   "execution_count": 7,
   "outputs": [
    {
     "data": {
      "text/plain": "'阳市住房公积金服务中心内设机构和各分支机构职责\\n发布日期：2022-01-12 15:02\\u2003作者：gongjijin \\u2003阅读：3174\\xa0次\\u2003字体：[ 大 ]\\xa0[ 中 ]\\xa0[ 小 ]\\n\\xa0\\xa0\\xa0一、办公室 \\xa0 \\xa0 \\xa0电话：0816—2230032、2245881\\n\\xa0\\xa0 负责处理机关日常政务 ;负责文秘、机要、会务、档案、信息、信访、保密、安全、接待、绩效管理工作;负责机关财务管理、后勤保障工作;承办创建、社会治安综合治理等工作;承办中心党组工作;承办党风廉政建设和纪检监察日常工作。\\n\\xa0\\xa0\\xa0二、人事科 \\xa0 \\xa0 \\xa0电话：0816—6037187\\n\\xa0\\xa0 负责市住房公积金管理中心机构编制和人事管理工作;承办市住房公积金管理中心干部的任免、调整、交流、奖惩 工作;负责市住房公积金管理中心人事档案、工资福利、社会保险工作;负责市住房公积金管理中心人事制度和人才队伍建设;负责市住房公积金管理中心干部教育培训、日常管理、考核考评工作;负责承办市住房公积金管理中心党建日 常工作;负责市住房公积金管理中心聘用人员的录用及管理工作;做好市住房公积金管理中心退休干部的管理服务工作。\\n\\xa0\\xa0\\xa0三、业务发展科 \\xa0 \\xa0 \\xa0电话：0816—2223705\\xa0\\n\\xa0\\xa0 负责编制执行全市住房公积金的归集、提取、贷款年度计划;负责研究和拟订市住房公积金归集、提取、贷款政策、管理办法和操作规程;审核单位降低住房公积金缴存比例，缓缴住房公积金手续 ;负责市住房公积金归集、提取、贷款情况的统计、汇总和分析;承办市住房公积金管理委员会办公室日常工作。\\n\\xa0\\xa0\\xa0四、综合服务科 \\xa0 \\xa0 \\xa0电话：0816—2235602\\xa0\\n\\xa0\\xa0 负责对分支机构住房公积金归集、提取、贷款业务指导、监督和考核 ;负责住房公积金业务政策宣传和培训工作；负责住房公积金贷款的风险管理，做好贷后管理及逾期贷款催收工作；组织开展住房公积金系统信访、投诉案件的调查，群众来信来访的办理工作。\\n\\xa0\\xa0\\xa0五、财务会计科 \\xa0 \\xa0 \\xa0电话：0816—2231161'"
     },
     "execution_count": 7,
     "metadata": {},
     "output_type": "execute_result"
    }
   ],
   "source": [
    "text_splitter.split_text(state_of_the_union)[0]"
   ],
   "metadata": {
    "collapsed": false,
    "ExecuteTime": {
     "start_time": "2024-01-23T15:46:04.524363Z",
     "end_time": "2024-01-23T15:46:04.526916Z"
    }
   }
  },
  {
   "cell_type": "code",
   "execution_count": null,
   "outputs": [],
   "source": [],
   "metadata": {
    "collapsed": false
   }
  }
 ],
 "metadata": {
  "kernelspec": {
   "display_name": "Python 3",
   "language": "python",
   "name": "python3"
  },
  "language_info": {
   "codemirror_mode": {
    "name": "ipython",
    "version": 2
   },
   "file_extension": ".py",
   "mimetype": "text/x-python",
   "name": "python",
   "nbconvert_exporter": "python",
   "pygments_lexer": "ipython2",
   "version": "2.7.6"
  }
 },
 "nbformat": 4,
 "nbformat_minor": 0
}
