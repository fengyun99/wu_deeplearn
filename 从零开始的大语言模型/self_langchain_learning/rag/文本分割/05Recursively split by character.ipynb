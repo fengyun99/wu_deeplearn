{
 "cells": [
  {
   "cell_type": "markdown",
   "source": [
    "# 按字符递归分割\n",
    "对于一般文本，推荐使用此文本拆分器。它由一个字符列表参数化。它试图按顺序分割它们，直到块足够小。默认列表为\\[\"\\n\\n\"， \"\\n\"， \"\"， \"\"]。这样做的效果是尽可能长时间地将所有段落(然后是句子，然后是单词)放在一起，因为这些段落通常看起来是文本中语义相关性最强的部分。\n",
    "\n",
    "1.如何分割文本:通过字符列表。\n",
    "\n",
    "2.如何测量块大小:通过字符数。"
   ],
   "metadata": {
    "collapsed": false
   }
  },
  {
   "cell_type": "code",
   "execution_count": 1,
   "outputs": [],
   "source": [
    "# This is a long document we can split up.\n",
    "with open(\"../../data/a.txt\",encoding=\"utf-8\") as f:\n",
    "    state_of_the_union = f.read()"
   ],
   "metadata": {
    "collapsed": false,
    "ExecuteTime": {
     "start_time": "2024-01-23T16:14:01.597646Z",
     "end_time": "2024-01-23T16:14:01.613798Z"
    }
   }
  },
  {
   "cell_type": "code",
   "execution_count": 2,
   "outputs": [],
   "source": [
    "from langchain.text_splitter import RecursiveCharacterTextSplitter"
   ],
   "metadata": {
    "collapsed": false,
    "ExecuteTime": {
     "start_time": "2024-01-23T16:14:08.100674Z",
     "end_time": "2024-01-23T16:14:08.262681Z"
    }
   }
  },
  {
   "cell_type": "code",
   "execution_count": 3,
   "outputs": [],
   "source": [
    "text_splitter = RecursiveCharacterTextSplitter(\n",
    "    # Set a really small chunk size, just to show.\n",
    "    chunk_size=100,\n",
    "    chunk_overlap=20,\n",
    "    length_function=len,\n",
    "    is_separator_regex=False,\n",
    ")"
   ],
   "metadata": {
    "collapsed": false,
    "ExecuteTime": {
     "start_time": "2024-01-23T16:14:14.546709Z",
     "end_time": "2024-01-23T16:14:14.552010Z"
    }
   }
  },
  {
   "cell_type": "code",
   "execution_count": 4,
   "outputs": [
    {
     "name": "stdout",
     "output_type": "stream",
     "text": [
      "page_content='阳市住房公积金服务中心内设机构和各分支机构职责\\n发布日期：2022-01-12 15:02\\u2003作者：gongjijin \\u2003阅读：3174\\xa0次\\u2003字体：[ 大 ]\\xa0[ 中 ]\\xa0[ 小 ]'\n",
      "page_content='一、办公室 \\xa0 \\xa0 \\xa0电话：0816—2230032、2245881'\n"
     ]
    }
   ],
   "source": [
    "texts = text_splitter.create_documents([state_of_the_union])\n",
    "print(texts[0])\n",
    "print(texts[1])"
   ],
   "metadata": {
    "collapsed": false,
    "ExecuteTime": {
     "start_time": "2024-01-23T16:14:25.436184Z",
     "end_time": "2024-01-23T16:14:25.492237Z"
    }
   }
  },
  {
   "cell_type": "code",
   "execution_count": 5,
   "outputs": [
    {
     "data": {
      "text/plain": "['阳市住房公积金服务中心内设机构和各分支机构职责\\n发布日期：2022-01-12 15:02\\u2003作者：gongjijin \\u2003阅读：3174\\xa0次\\u2003字体：[ 大 ]\\xa0[ 中 ]\\xa0[ 小 ]',\n '一、办公室 \\xa0 \\xa0 \\xa0电话：0816—2230032、2245881']"
     },
     "execution_count": 5,
     "metadata": {},
     "output_type": "execute_result"
    }
   ],
   "source": [
    "text_splitter.split_text(state_of_the_union)[:2]"
   ],
   "metadata": {
    "collapsed": false,
    "ExecuteTime": {
     "start_time": "2024-01-23T16:16:29.185338Z",
     "end_time": "2024-01-23T16:16:29.189858Z"
    }
   }
  },
  {
   "cell_type": "code",
   "execution_count": null,
   "outputs": [],
   "source": [],
   "metadata": {
    "collapsed": false
   }
  }
 ],
 "metadata": {
  "kernelspec": {
   "display_name": "Python 3",
   "language": "python",
   "name": "python3"
  },
  "language_info": {
   "codemirror_mode": {
    "name": "ipython",
    "version": 2
   },
   "file_extension": ".py",
   "mimetype": "text/x-python",
   "name": "python",
   "nbconvert_exporter": "python",
   "pygments_lexer": "ipython2",
   "version": "2.7.6"
  }
 },
 "nbformat": 4,
 "nbformat_minor": 0
}
