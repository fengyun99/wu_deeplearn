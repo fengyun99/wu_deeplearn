{
 "cells": [
  {
   "cell_type": "code",
   "execution_count": 1,
   "outputs": [
    {
     "data": {
      "text/plain": "True"
     },
     "execution_count": 1,
     "metadata": {},
     "output_type": "execute_result"
    }
   ],
   "source": [
    "from dotenv import find_dotenv,load_dotenv\n",
    "load_dotenv(find_dotenv())"
   ],
   "metadata": {
    "collapsed": false,
    "ExecuteTime": {
     "start_time": "2024-01-15T14:41:28.813201Z",
     "end_time": "2024-01-15T14:41:28.853950Z"
    }
   }
  },
  {
   "cell_type": "markdown",
   "source": [
    "## 长上下文重排\n",
    "无论您的模型的体系结构是什么，当您包含10个以上的检索文档时，都会有很大的性能下降。简而言之:当模型必须在长上下文中访问相关信息时，它们倾向于忽略所提供的文档。看到的:\n",
    "[模型长上下文检索内容消失.pdf](http://185.242.235.221:8011/python/paper/%E9%95%BF%E4%B8%8A%E4%B8%8B%E6%96%87%E5%AF%BC%E8%87%B4%E6%96%87%E6%9C%AC%E6%A8%A1%E5%9E%8B%E4%B8%A2%E5%A4%B1%E4%BF%A1%E6%81%AF.pdf)\n",
    "为了避免这个问题，您可以在检索后重新排序文档，以避免性能下降。\n"
   ],
   "metadata": {
    "collapsed": false
   }
  },
  {
   "cell_type": "code",
   "execution_count": 2,
   "outputs": [
    {
     "data": {
      "text/plain": "[Document(page_content='科比打输了复活赛'),\n Document(page_content='复活赛不是谁都能打赢的'),\n Document(page_content='猫雷打赢了复活赛'),\n Document(page_content='矮人科技适合于黎乐前辈'),\n Document(page_content='将自己的技术把控在自己的身上'),\n Document(page_content='张强决定进行一个新的项目'),\n Document(page_content='王小明喜欢上数学课'),\n Document(page_content='本年度最佳的互动奖颁发给了郭霖俊'),\n Document(page_content='以前的歌曲都听够了，现在最喜欢的歌是love story'),\n Document(page_content='This is just a random text.')]"
     },
     "execution_count": 2,
     "metadata": {},
     "output_type": "execute_result"
    }
   ],
   "source": [
    "from langchain.chains import LLMChain, StuffDocumentsChain\n",
    "from langchain.prompts import PromptTemplate\n",
    "from langchain_community.document_transformers import (\n",
    "    LongContextReorder,\n",
    ")\n",
    "from langchain_community.embeddings import HuggingFaceEmbeddings\n",
    "from langchain_community.vectorstores import Chroma\n",
    "from langchain_openai import OpenAI\n",
    "\n",
    "# Get embeddings.\n",
    "embeddings = HuggingFaceEmbeddings(model_name=r\"G:\\model\\all-MiniLM-L6-v2\")\n",
    "\n",
    "# 都是短文本\n",
    "texts = [\n",
    "    \"Basquetball is a great sport.\",\n",
    "    \"Fly me to the moon is one of my favourite songs.\",\n",
    "    \"The Celtics are my favourite team.\",\n",
    "    \"This is a document about the Boston Celtics\",\n",
    "    \"I simply love going to the movies\",\n",
    "    \"The Boston Celtics won the game by 20 points\",\n",
    "    \"This is just a random text.\",\n",
    "    \"Elden Ring is one of the best games in the last 15 years.\",\n",
    "    \"L. Kornet is one of the best Celtics players.\",\n",
    "    \"Larry Bird was an iconic NBA player.\",\n",
    "    \"王小明喜欢上数学课\",\n",
    "    \"张强决定进行一个新的项目\",\n",
    "    \"将自己的技术把控在自己的身上\",\n",
    "    \"以前的歌曲都听够了，现在最喜欢的歌是love story\",\n",
    "    \"本年度最佳的互动奖颁发给了郭霖俊\",\n",
    "    \"矮人科技适合于黎乐前辈\",\n",
    "    \"科比打输了复活赛\",\n",
    "    \"猫雷打赢了复活赛\",\n",
    "    \"复活赛不是谁都能打赢的\"\n",
    "]\n",
    "\n",
    "# Create a retriever\n",
    "retriever = Chroma.from_texts(texts, embedding=embeddings).as_retriever(\n",
    "    search_kwargs={\"k\": 10}\n",
    ")\n",
    "query = \"你能告诉我科比打没打赢复活赛?\"\n",
    "\n",
    "# Get relevant documents ordered by relevance score\n",
    "docs = retriever.get_relevant_documents(query)\n",
    "docs"
   ],
   "metadata": {
    "collapsed": false,
    "ExecuteTime": {
     "start_time": "2024-01-15T14:41:28.848924Z",
     "end_time": "2024-01-15T14:41:29.667315Z"
    }
   }
  },
  {
   "cell_type": "code",
   "execution_count": 3,
   "outputs": [
    {
     "data": {
      "text/plain": "[Document(page_content='复活赛不是谁都能打赢的'),\n Document(page_content='矮人科技适合于黎乐前辈'),\n Document(page_content='张强决定进行一个新的项目'),\n Document(page_content='本年度最佳的互动奖颁发给了郭霖俊'),\n Document(page_content='This is just a random text.'),\n Document(page_content='以前的歌曲都听够了，现在最喜欢的歌是love story'),\n Document(page_content='王小明喜欢上数学课'),\n Document(page_content='将自己的技术把控在自己的身上'),\n Document(page_content='猫雷打赢了复活赛'),\n Document(page_content='科比打输了复活赛')]"
     },
     "execution_count": 3,
     "metadata": {},
     "output_type": "execute_result"
    }
   ],
   "source": [
    "# Reorder the documents:\n",
    "# Less relevant document will be at the middle of the list and more\n",
    "# relevant elements at beginning / end.\n",
    "reordering = LongContextReorder()\n",
    "reordered_docs = reordering.transform_documents(docs)\n",
    "\n",
    "# Confirm that the 4 relevant documents are at beginning and end.\n",
    "reordered_docs"
   ],
   "metadata": {
    "collapsed": false,
    "ExecuteTime": {
     "start_time": "2024-01-15T14:41:29.669831Z",
     "end_time": "2024-01-15T14:41:29.675343Z"
    }
   }
  },
  {
   "cell_type": "code",
   "execution_count": 4,
   "outputs": [
    {
     "data": {
      "text/plain": "'\\n\\n科比打输了复活赛。'"
     },
     "execution_count": 4,
     "metadata": {},
     "output_type": "execute_result"
    }
   ],
   "source": [
    "# We prepare and run a custom Stuff chain with reordered docs as context.\n",
    "\n",
    "# Override prompts\n",
    "document_prompt = PromptTemplate(\n",
    "    input_variables=[\"page_content\"], template=\"{page_content}\"\n",
    ")\n",
    "document_variable_name = \"context\"\n",
    "llm = OpenAI()\n",
    "stuff_prompt_override = \"\"\"Given this text extracts:\n",
    "-----\n",
    "{context}\n",
    "-----\n",
    "Please answer the following question:\n",
    "{query}\"\"\"\n",
    "prompt = PromptTemplate(\n",
    "    template=stuff_prompt_override, input_variables=[\"context\", \"query\"]\n",
    ")\n",
    "\n",
    "# Instantiate the chain\n",
    "llm_chain = LLMChain(llm=llm, prompt=prompt)\n",
    "chain = StuffDocumentsChain(\n",
    "    llm_chain=llm_chain,\n",
    "    document_prompt=document_prompt,\n",
    "    document_variable_name=document_variable_name,\n",
    ")\n",
    "chain.run(input_documents=reordered_docs, query=query)"
   ],
   "metadata": {
    "collapsed": false,
    "ExecuteTime": {
     "start_time": "2024-01-15T14:41:29.685858Z",
     "end_time": "2024-01-15T14:41:35.241508Z"
    }
   }
  },
  {
   "cell_type": "code",
   "execution_count": 4,
   "outputs": [],
   "source": [],
   "metadata": {
    "collapsed": false,
    "ExecuteTime": {
     "start_time": "2024-01-15T14:41:35.241005Z",
     "end_time": "2024-01-15T14:41:35.245513Z"
    }
   }
  }
 ],
 "metadata": {
  "kernelspec": {
   "display_name": "Python 3",
   "language": "python",
   "name": "python3"
  },
  "language_info": {
   "codemirror_mode": {
    "name": "ipython",
    "version": 2
   },
   "file_extension": ".py",
   "mimetype": "text/x-python",
   "name": "python",
   "nbconvert_exporter": "python",
   "pygments_lexer": "ipython2",
   "version": "2.7.6"
  }
 },
 "nbformat": 4,
 "nbformat_minor": 0
}
