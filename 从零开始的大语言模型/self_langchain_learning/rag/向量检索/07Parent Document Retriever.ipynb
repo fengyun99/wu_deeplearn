{
 "cells": [
  {
   "cell_type": "code",
   "execution_count": 1,
   "outputs": [
    {
     "data": {
      "text/plain": "True"
     },
     "execution_count": 1,
     "metadata": {},
     "output_type": "execute_result"
    }
   ],
   "source": [
    "from dotenv import find_dotenv,load_dotenv\n",
    "load_dotenv(find_dotenv())"
   ],
   "metadata": {
    "collapsed": false,
    "ExecuteTime": {
     "start_time": "2024-01-15T17:33:13.816165Z",
     "end_time": "2024-01-15T17:33:13.830377Z"
    }
   }
  },
  {
   "cell_type": "markdown",
   "source": [
    "# 父文档检索器\n",
    "在分割文档进行检索时，经常会有相互冲突的需求:\n",
    "1. 您可能希望使用较小的文档，以便它们的嵌入可以最准确地反映其含义。如果时间过长，嵌入内容就会失去意义。\n",
    "2. 您希望拥有足够长的文档，以便保留每个块的上下文。"
   ],
   "metadata": {
    "collapsed": false
   }
  },
  {
   "cell_type": "markdown",
   "source": [
    "`ParentDocumentRetriever`通过分割和存储小块数据来实现这种平衡。在检索期间，它首先获取小块，然后查找这些块的父id并返回那些较大的文档。\n",
    "注意，“父文档”指的是小块源自的文档。这可以是整个原始文档，也可以是更大的块。"
   ],
   "metadata": {
    "collapsed": false
   }
  },
  {
   "cell_type": "code",
   "execution_count": 2,
   "outputs": [],
   "source": [
    "from langchain.retrievers import ParentDocumentRetriever"
   ],
   "metadata": {
    "collapsed": false,
    "ExecuteTime": {
     "start_time": "2024-01-15T17:33:13.832383Z",
     "end_time": "2024-01-15T17:33:15.772251Z"
    }
   }
  },
  {
   "cell_type": "code",
   "execution_count": 3,
   "outputs": [],
   "source": [
    "from langchain.storage import InMemoryStore\n",
    "from langchain.text_splitter import RecursiveCharacterTextSplitter\n",
    "from langchain_community.document_loaders import TextLoader\n",
    "from langchain_community.vectorstores import Chroma\n",
    "from langchain_openai import OpenAIEmbeddings"
   ],
   "metadata": {
    "collapsed": false,
    "ExecuteTime": {
     "start_time": "2024-01-15T17:33:22.522513Z",
     "end_time": "2024-01-15T17:33:22.969820Z"
    }
   }
  },
  {
   "cell_type": "code",
   "execution_count": 5,
   "outputs": [],
   "source": [
    "loaders = [\n",
    "    TextLoader(\"../../data/2015北京年报.txt\",encoding='utf-8'),\n",
    "    TextLoader(\"../../data/2016北京年报.txt\",encoding='utf-8'),\n",
    "]\n",
    "docs = []\n",
    "for loader in loaders:\n",
    "    docs.extend(loader.load())"
   ],
   "metadata": {
    "collapsed": false,
    "ExecuteTime": {
     "start_time": "2024-01-15T17:34:09.350404Z",
     "end_time": "2024-01-15T17:34:09.355305Z"
    }
   }
  },
  {
   "cell_type": "markdown",
   "source": [
    "## 检索完整文档\n",
    "在这种模式下，我们希望检索完整的文档。因此，我们只指定一个子拆分器。"
   ],
   "metadata": {
    "collapsed": false
   }
  },
  {
   "cell_type": "code",
   "execution_count": 6,
   "outputs": [],
   "source": [
    "# This text splitter is used to create the child documents\n",
    "child_splitter = RecursiveCharacterTextSplitter(chunk_size=400)\n",
    "# The vectorstore to use to index the child chunks\n",
    "vectorstore = Chroma(\n",
    "    collection_name=\"full_documents\", embedding_function=OpenAIEmbeddings()\n",
    ")\n",
    "# The storage layer for the parent documents\n",
    "store = InMemoryStore()\n",
    "retriever = ParentDocumentRetriever(\n",
    "    vectorstore=vectorstore,\n",
    "    docstore=store,\n",
    "    child_splitter=child_splitter,\n",
    ")"
   ],
   "metadata": {
    "collapsed": false,
    "ExecuteTime": {
     "start_time": "2024-01-15T17:35:27.524290Z",
     "end_time": "2024-01-15T17:35:28.316238Z"
    }
   }
  },
  {
   "cell_type": "code",
   "execution_count": 7,
   "outputs": [],
   "source": [
    "retriever.add_documents(docs, ids=None)"
   ],
   "metadata": {
    "collapsed": false,
    "ExecuteTime": {
     "start_time": "2024-01-15T17:35:35.101835Z",
     "end_time": "2024-01-15T17:36:18.685422Z"
    }
   }
  },
  {
   "cell_type": "markdown",
   "source": [
    "这应该产生两个键，因为我们添加了两个文档。"
   ],
   "metadata": {
    "collapsed": false
   }
  },
  {
   "cell_type": "code",
   "execution_count": 8,
   "outputs": [
    {
     "data": {
      "text/plain": "['fba6ad33-3a78-4359-9b2c-1f83b36bf651',\n '510ac612-e694-4f5e-9d0e-eef2a328e5ef']"
     },
     "execution_count": 8,
     "metadata": {},
     "output_type": "execute_result"
    }
   ],
   "source": [
    "list(store.yield_keys())"
   ],
   "metadata": {
    "collapsed": false,
    "ExecuteTime": {
     "start_time": "2024-01-15T17:36:18.689425Z",
     "end_time": "2024-01-15T17:36:18.692586Z"
    }
   }
  },
  {
   "cell_type": "markdown",
   "source": [
    "现在我们调用向量存储搜索功能——我们应该看到它返回小块(因为我们存储的是小块)。"
   ],
   "metadata": {
    "collapsed": false
   }
  },
  {
   "cell_type": "code",
   "execution_count": 9,
   "outputs": [],
   "source": [
    "sub_docs = vectorstore.similarity_search(\"2015年的购买国债\")"
   ],
   "metadata": {
    "collapsed": false,
    "ExecuteTime": {
     "start_time": "2024-01-15T17:36:51.962746Z",
     "end_time": "2024-01-15T17:36:56.121341Z"
    }
   }
  },
  {
   "cell_type": "code",
   "execution_count": 10,
   "outputs": [
    {
     "name": "stdout",
     "output_type": "stream",
     "text": [
      "（四）购买国债\n",
      "2015年，未发生新购买、兑付、转让、收回国债情况。期末国债余额4.26亿元，与上年相比无变化。\n",
      "\n",
      "（五）资金存储\n",
      "截至2015年底，管理中心结余资金存款348.31亿元，其中，活期4.02亿元，1年以内定期（含）121.15亿元，1年以上定期172.79亿元，其他(协议、协定、通知存款等)50.35亿元。\n",
      "\n",
      "（六）资金运用率\n",
      "2015年住房公积金提取、贷款业务量大幅增加，结余资金大幅减少，资金使用效率进一步提升。截至2015年底，资金运用率（住房公积金个人住房贷款余额、项目贷款余额和购买国债余额的总和与缴存余额的比率）89.6%，比上年同期增加9.9个百分点。\n"
     ]
    }
   ],
   "source": [
    "print(sub_docs[0].page_content)"
   ],
   "metadata": {
    "collapsed": false,
    "ExecuteTime": {
     "start_time": "2024-01-15T17:37:10.620500Z",
     "end_time": "2024-01-15T17:37:10.631617Z"
    }
   }
  },
  {
   "cell_type": "markdown",
   "source": [
    "现在让我们从整个检索器中检索。这将返回较大的文档——因为它返回较小块所在的文档。"
   ],
   "metadata": {
    "collapsed": false
   }
  },
  {
   "cell_type": "code",
   "execution_count": 11,
   "outputs": [],
   "source": [
    "retrieved_docs = retriever.get_relevant_documents(\"2015年的购买国债\")"
   ],
   "metadata": {
    "collapsed": false,
    "ExecuteTime": {
     "start_time": "2024-01-15T17:37:56.787578Z",
     "end_time": "2024-01-15T17:38:00.689897Z"
    }
   }
  },
  {
   "cell_type": "code",
   "execution_count": 12,
   "outputs": [
    {
     "data": {
      "text/plain": "5638"
     },
     "execution_count": 12,
     "metadata": {},
     "output_type": "execute_result"
    }
   ],
   "source": [
    "len(retrieved_docs[0].page_content)"
   ],
   "metadata": {
    "collapsed": false,
    "ExecuteTime": {
     "start_time": "2024-01-15T17:38:05.513098Z",
     "end_time": "2024-01-15T17:38:05.539186Z"
    }
   }
  },
  {
   "cell_type": "markdown",
   "source": [
    "## 检索更大的块\n",
    "有时，完整的文档可能太大而不想原样检索它们。在这种情况下，我们真正想做的是首先将原始文档分成较大的块，然后再分成较小的块。然后我们索引较小的块，但在检索时，我们检索较大的块(但仍然不是完整的文档)。"
   ],
   "metadata": {
    "collapsed": false
   }
  },
  {
   "cell_type": "code",
   "execution_count": 13,
   "outputs": [],
   "source": [
    "# This text splitter is used to create the parent documents\n",
    "parent_splitter = RecursiveCharacterTextSplitter(chunk_size=2000)\n",
    "# This text splitter is used to create the child documents\n",
    "# It should create documents smaller than the parent\n",
    "child_splitter = RecursiveCharacterTextSplitter(chunk_size=400)\n",
    "# The vectorstore to use to index the child chunks\n",
    "vectorstore = Chroma(\n",
    "    collection_name=\"split_parents\", embedding_function=OpenAIEmbeddings()\n",
    ")\n",
    "# The storage layer for the parent documents\n",
    "store = InMemoryStore()"
   ],
   "metadata": {
    "collapsed": false,
    "ExecuteTime": {
     "start_time": "2024-01-15T17:38:46.711540Z",
     "end_time": "2024-01-15T17:38:46.771070Z"
    }
   }
  },
  {
   "cell_type": "code",
   "execution_count": 14,
   "outputs": [],
   "source": [
    "retriever = ParentDocumentRetriever(\n",
    "    vectorstore=vectorstore,\n",
    "    docstore=store,\n",
    "    child_splitter=child_splitter,\n",
    "    parent_splitter=parent_splitter,\n",
    ")"
   ],
   "metadata": {
    "collapsed": false,
    "ExecuteTime": {
     "start_time": "2024-01-15T17:38:52.325728Z",
     "end_time": "2024-01-15T17:38:52.350253Z"
    }
   }
  },
  {
   "cell_type": "code",
   "execution_count": 15,
   "outputs": [],
   "source": [
    "retriever.add_documents(docs)"
   ],
   "metadata": {
    "collapsed": false,
    "ExecuteTime": {
     "start_time": "2024-01-15T17:38:57.349965Z",
     "end_time": "2024-01-15T17:39:46.640356Z"
    }
   }
  },
  {
   "cell_type": "markdown",
   "source": [
    "我们可以看到，现在有两个以上的文档-这些是较大的块。"
   ],
   "metadata": {
    "collapsed": false
   }
  },
  {
   "cell_type": "code",
   "execution_count": 16,
   "outputs": [
    {
     "data": {
      "text/plain": "8"
     },
     "execution_count": 16,
     "metadata": {},
     "output_type": "execute_result"
    }
   ],
   "source": [
    "len(list(store.yield_keys()))"
   ],
   "metadata": {
    "collapsed": false,
    "ExecuteTime": {
     "start_time": "2024-01-15T17:39:46.643965Z",
     "end_time": "2024-01-15T17:39:46.645972Z"
    }
   }
  },
  {
   "cell_type": "markdown",
   "source": [
    "让我们确保底层向量存储仍然检索小块。"
   ],
   "metadata": {
    "collapsed": false
   }
  },
  {
   "cell_type": "code",
   "execution_count": 17,
   "outputs": [],
   "source": [
    "sub_docs = vectorstore.similarity_search(\"2015年的购买国债\")"
   ],
   "metadata": {
    "collapsed": false,
    "ExecuteTime": {
     "start_time": "2024-01-15T17:40:04.031777Z",
     "end_time": "2024-01-15T17:40:07.504420Z"
    }
   }
  },
  {
   "cell_type": "code",
   "execution_count": 18,
   "outputs": [
    {
     "name": "stdout",
     "output_type": "stream",
     "text": [
      "（四）购买国债\n",
      "2015年，未发生新购买、兑付、转让、收回国债情况。期末国债余额4.26亿元，与上年相比无变化。\n",
      "\n",
      "（五）资金存储\n",
      "截至2015年底，管理中心结余资金存款348.31亿元，其中，活期4.02亿元，1年以内定期（含）121.15亿元，1年以上定期172.79亿元，其他(协议、协定、通知存款等)50.35亿元。\n",
      "\n",
      "（六）资金运用率\n",
      "2015年住房公积金提取、贷款业务量大幅增加，结余资金大幅减少，资金使用效率进一步提升。截至2015年底，资金运用率（住房公积金个人住房贷款余额、项目贷款余额和购买国债余额的总和与缴存余额的比率）89.6%，比上年同期增加9.9个百分点。\n"
     ]
    }
   ],
   "source": [
    "print(sub_docs[0].page_content)"
   ],
   "metadata": {
    "collapsed": false,
    "ExecuteTime": {
     "start_time": "2024-01-15T17:40:20.355375Z",
     "end_time": "2024-01-15T17:40:20.369241Z"
    }
   }
  },
  {
   "cell_type": "code",
   "execution_count": 19,
   "outputs": [],
   "source": [
    "retrieved_docs = retriever.get_relevant_documents(\"2015年的购买国债\")"
   ],
   "metadata": {
    "collapsed": false,
    "ExecuteTime": {
     "start_time": "2024-01-15T17:40:40.934355Z",
     "end_time": "2024-01-15T17:40:48.005673Z"
    }
   }
  },
  {
   "cell_type": "code",
   "execution_count": 20,
   "outputs": [
    {
     "data": {
      "text/plain": "1901"
     },
     "execution_count": 20,
     "metadata": {},
     "output_type": "execute_result"
    }
   ],
   "source": [
    "len(retrieved_docs[0].page_content)"
   ],
   "metadata": {
    "collapsed": false,
    "ExecuteTime": {
     "start_time": "2024-01-15T17:40:50.946429Z",
     "end_time": "2024-01-15T17:40:50.970133Z"
    }
   }
  },
  {
   "cell_type": "code",
   "execution_count": 21,
   "outputs": [
    {
     "name": "stdout",
     "output_type": "stream",
     "text": [
      "（三）委托贷款\n",
      "1.住房公积金个人贷款\n",
      "2015年，管理中心积极落实住房城乡建设部、财政部、中国人民银行相关文件精神，制定出台多项住房公积金个人贷款惠民政策，最大限度地满足职工基本住房需求，帮助广大缴存职工实现住房梦。北京地区全年发放住房公积金个人贷款848.86亿元，涉及住房101367套，回收贷款228.98亿元，同比增长175.6%、105.6%、54.0%，贷款支持住房套数、发放金额、回收金额均创历史新高。截至2015年底，北京地区累计发放住房公积金个人贷款3918.13亿元，涉及住房85.55万套，在贷住房46.50万套，贷款余额2491.69亿元，同比增长33.1%。\n",
      "2015年，北京地区发放异地购房贷款4740万元，涉及住房54套；发放贴息贷款14125万元，涉及住房152套，贴息1091.83万元。累计发放贴息贷款47.3亿元，涉及住房13312套。\n",
      "北京地区住房公积金个人贷款率（年末住房公积金个人贷款余额与年末住房公积金缴存余额的比率）为85.9%，比上年同期增加11.7个百分点。\n",
      "自2015年1月1日起，个人贷款最高额度由80万元调整为120万元。按规定4次下调贷款利率，目前5年期以上贷款利率为3.25%。受委托办理住房公积金个人住房贷款业务的银行为中国工商银行、中国建设银行、中国农业银行、中国银行、交通银行、招商银行、中信银行和北京银行，共计8家，与上年相比无变化。\n",
      "2.保障性住房建设项目贷款\n",
      "按照住房城乡建设部的统一部署，根据市委、市政府工作要求，管理中心累计发放经适房、公租房、棚户区改造定向安置房项目贷款35个，建筑面积共855.18万平方米，涉及8.27万套住房。2015年，依据合同约定，按照工程进度，向11个项目发放贷款13.65亿元。当年应还贷款本金34.86亿元，实际回收贷款本金44.96亿元。截至2015年底，累计发放项目贷款181.02亿元，项目贷款余额102.60亿元。\n",
      "\n",
      "（四）购买国债\n",
      "2015年，未发生新购买、兑付、转让、收回国债情况。期末国债余额4.26亿元，与上年相比无变化。\n",
      "\n",
      "（五）资金存储\n",
      "截至2015年底，管理中心结余资金存款348.31亿元，其中，活期4.02亿元，1年以内定期（含）121.15亿元，1年以上定期172.79亿元，其他(协议、协定、通知存款等)50.35亿元。\n",
      "\n",
      "（六）资金运用率\n",
      "2015年住房公积金提取、贷款业务量大幅增加，结余资金大幅减少，资金使用效率进一步提升。截至2015年底，资金运用率（住房公积金个人住房贷款余额、项目贷款余额和购买国债余额的总和与缴存余额的比率）89.6%，比上年同期增加9.9个百分点。\n",
      "\n",
      "\n",
      "三、主要财务数据\n",
      "（一）业务收入\n",
      "2015全年,住房公积金业务收入共计1088734.64万元，同比增长6.4%。其中，存款(含增值收益存款)利息收入157379.86万元，委托贷款利息收入930128.01万元，国债利息收入517.15万元，其他收入709.62万元。\n",
      "\n",
      "（二）业务支出\n",
      "2015全年,住房公积金业务支出共计300088.48万元，同比降低45.2%。其中，缴存职工账户余额的利息支出251072.41万元，归集手续费用支出676.66万元，委托贷款手续费支出45299.35万元，其他支出3040.06万元（主要是项目贷款应交税金）。同时，经市财政局批复后支出与住房公积金业务相关的专项经费32993.82万元（主要为公积金贷款资产委托管理费、公积金个人住房贷款贴息经费、综合信息管理系统升级改造、运维服务等业务支出费用）。\n",
      "\n",
      "（三）增值收益\n",
      "管理中心在利率连续下调的背景下，通过加强资金综合调度，提升资金运用率，优先安排个贷资金发放，减少银行存款，住房公积金增值收益大幅提高。2015全年，住房公积金增值收益788646.16万元，创历史新高，同比增长65.8%。增值收益率（增值收益与月均缴存余额的比率）2.9%，比上年同期增加 0.9个百分点。\n",
      "\n",
      "（四）增值收益分配\n",
      "按照《住房公积金管理条例》（中华人民共和国国务院令第350号）和《财政部关于住房公积金财务管理补充规定的通知》（财综字〔1999〕149号）规定，2015全年，提取贷款风险准备金146182.27万元，提取管理费用38743.39万元，提取城市廉租房（公共租赁住房）建设补充资金62281.36万元，上缴财政的城市廉租房（公共租赁住房）建设补充资金541439.13万元。截至2015年底，贷款（包括住房公积金个人贷款和保障性住房项目贷款）风险准备金余额646770.58万元。\n"
     ]
    }
   ],
   "source": [
    "print(retrieved_docs[0].page_content)"
   ],
   "metadata": {
    "collapsed": false,
    "ExecuteTime": {
     "start_time": "2024-01-15T17:40:57.876153Z",
     "end_time": "2024-01-15T17:40:57.917094Z"
    }
   }
  },
  {
   "cell_type": "code",
   "execution_count": null,
   "outputs": [],
   "source": [],
   "metadata": {
    "collapsed": false
   }
  }
 ],
 "metadata": {
  "kernelspec": {
   "display_name": "Python 3",
   "language": "python",
   "name": "python3"
  },
  "language_info": {
   "codemirror_mode": {
    "name": "ipython",
    "version": 2
   },
   "file_extension": ".py",
   "mimetype": "text/x-python",
   "name": "python",
   "nbconvert_exporter": "python",
   "pygments_lexer": "ipython2",
   "version": "2.7.6"
  }
 },
 "nbformat": 4,
 "nbformat_minor": 0
}
