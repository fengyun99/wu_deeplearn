{
 "cells": [
  {
   "cell_type": "code",
   "execution_count": 1,
   "outputs": [
    {
     "data": {
      "text/plain": "True"
     },
     "execution_count": 1,
     "metadata": {},
     "output_type": "execute_result"
    }
   ],
   "source": [
    "from dotenv import find_dotenv,load_dotenv\n",
    "load_dotenv(find_dotenv())"
   ],
   "metadata": {
    "collapsed": false,
    "ExecuteTime": {
     "start_time": "2024-01-15T14:32:31.914035Z",
     "end_time": "2024-01-15T14:32:31.930747Z"
    }
   }
  },
  {
   "cell_type": "markdown",
   "source": [
    "## 上下文压缩\n",
    "检索的一个挑战是，当您将数据摄取到系统中时，您通常不知道文档存储系统将面临的特定查询。这意味着与查询最相关的信息可能隐藏在包含大量不相关文本的文档中。在应用程序中传递完整的文档可能会导致LLM调用成本更高，响应也更差。\n",
    "上下文压缩就是为了解决这个问题。其思想很简单:与其按原样立即返回检索到的文档，不如使用给定查询的上下文压缩它们，以便只返回相关信息。这里的“压缩”既指压缩单个文档的内容，也指过滤掉整个文档。\n",
    "要使用上下文压缩检索器，您需要:\n",
    "- 基本检索器\n",
    "- 文档压缩器"
   ],
   "metadata": {
    "collapsed": false
   }
  },
  {
   "cell_type": "markdown",
   "source": [
    "上下文压缩检索器将查询传递给基本检索器，获取初始文档并通过文档压缩器传递它们。Document Compressor获取一个文档列表，并通过减少文档的内容或完全删除文档来缩短它。"
   ],
   "metadata": {
    "collapsed": false
   }
  },
  {
   "cell_type": "code",
   "execution_count": 2,
   "outputs": [],
   "source": [
    "# Helper function for printing docs\n",
    "\n",
    "\n",
    "def pretty_print_docs(docs):\n",
    "    print(\n",
    "        f\"\\n{'-' * 100}\\n\".join(\n",
    "            [f\"Document {i+1}:\\n\\n\" + d.page_content for i, d in enumerate(docs)]\n",
    "        )\n",
    "    )"
   ],
   "metadata": {
    "collapsed": false,
    "ExecuteTime": {
     "start_time": "2024-01-15T14:32:50.801736Z",
     "end_time": "2024-01-15T14:32:50.824370Z"
    }
   }
  },
  {
   "cell_type": "markdown",
   "source": [
    "## 使用一个寻常的RAG\n",
    "让我们首先初始化一个简单的向量存储检索器，并存储文档(以块为单位)。我们可以看到，给定一个示例问题，我们的检索器返回一两个相关的文档和一些不相关的文档。即使是相关的文档也有很多不相关的信息。"
   ],
   "metadata": {
    "collapsed": false
   }
  },
  {
   "cell_type": "code",
   "execution_count": 3,
   "outputs": [
    {
     "name": "stderr",
     "output_type": "stream",
     "text": [
      "Created a chunk of size 720, which is longer than the specified 500\n",
      "Created a chunk of size 818, which is longer than the specified 500\n",
      "Created a chunk of size 727, which is longer than the specified 500\n"
     ]
    },
    {
     "name": "stdout",
     "output_type": "stream",
     "text": [
      "Document 1:\n",
      "\n",
      "（二）业务支出\n",
      "2015全年,住房公积金业务支出共计300088.48万元，同比降低45.2%。其中，缴存职工账户余额的利息支出251072.41万元，归集手续费用支出676.66万元，委托贷款手续费支出45299.35万元，其他支出3040.06万元（主要是项目贷款应交税金）。同时，经市财政局批复后支出与住房公积金业务相关的专项经费32993.82万元（主要为公积金贷款资产委托管理费、公积金个人住房贷款贴息经费、综合信息管理系统升级改造、运维服务等业务支出费用）。\n",
      "\n",
      "（三）增值收益\n",
      "管理中心在利率连续下调的背景下，通过加强资金综合调度，提升资金运用率，优先安排个贷资金发放，减少银行存款，住房公积金增值收益大幅提高。2015全年，住房公积金增值收益788646.16万元，创历史新高，同比增长65.8%。增值收益率（增值收益与月均缴存余额的比率）2.9%，比上年同期增加 0.9个百分点。\n",
      "----------------------------------------------------------------------------------------------------\n",
      "Document 2:\n",
      "\n",
      "（二）提取业务\n",
      "2015全年提取住房公积金1117.38万笔、920.62亿元。提取的金额中，住房消费提取占87.8%（购买、建造、翻建、大修自住住房占77.7 %，偿还购房贷款本息占8.4%，租赁住房占1.7%）；非住房消费提取占12.2%（离休和退休提取占9.8%，完全丧失劳动能力并与单位终止劳动关系提取占0.2%，户口迁出本市或出境定居占0.3%,其他占1.9%）。\n",
      "----------------------------------------------------------------------------------------------------\n",
      "Document 3:\n",
      "\n",
      "（四）购买国债\n",
      "2015年，未发生新购买、兑付、转让、收回国债情况。期末国债余额4.26亿元，与上年相比无变化。\n",
      "\n",
      "（五）资金存储\n",
      "截至2015年底，管理中心结余资金存款348.31亿元，其中，活期4.02亿元，1年以内定期（含）121.15亿元，1年以上定期172.79亿元，其他(协议、协定、通知存款等)50.35亿元。\n",
      "\n",
      "（六）资金运用率\n",
      "2015年住房公积金提取、贷款业务量大幅增加，结余资金大幅减少，资金使用效率进一步提升。截至2015年底，资金运用率（住房公积金个人住房贷款余额、项目贷款余额和购买国债余额的总和与缴存余额的比率）89.6%，比上年同期增加9.9个百分点。\n",
      "\n",
      "\n",
      "三、主要财务数据\n",
      "（一）业务收入\n",
      "2015全年,住房公积金业务收入共计1088734.64万元，同比增长6.4%。其中，存款(含增值收益存款)利息收入157379.86万元，委托贷款利息收入930128.01万元，国债利息收入517.15万元，其他收入709.62万元。\n",
      "----------------------------------------------------------------------------------------------------\n",
      "Document 4:\n",
      "\n",
      "（三）历史遗留风险资产\n",
      "截至2015年底，不存在历史遗留风险资产。\n",
      "\n",
      "\n",
      "五、社会经济效益\n",
      "（一）缴存业务\n",
      "2015年住房公积金实缴人数和缴存额增长率分别为14.0%和13.8%。缴存职工的构成情况：按单位性质，国家机关和事业单位占18.7%，国有企业占20.2%，城镇集体企业占0.7%，外商投资企业占11.8%，城镇私营企业及其他城镇企业占36.4%，民办非企业单位和社会团体占0.7%，其他占11.5%。\n",
      "按收入水平，低收入群体（住房公积金缴存基数低于2014年本市职工平均工资）占53.1%，中等收入群体（住房公积金缴存基数介于2014年本市职工平均工资1倍-3倍之间）占38.5 %，高收入群体（住房公积金缴存基数高于2014年本市职工平均工资3倍）占8.4%。\n"
     ]
    }
   ],
   "source": [
    "from langchain.text_splitter import CharacterTextSplitter\n",
    "from langchain_community.document_loaders import TextLoader\n",
    "from langchain_community.vectorstores import FAISS\n",
    "from langchain_openai import OpenAIEmbeddings\n",
    "\n",
    "documents = TextLoader(\"../../data/2015北京年报.txt\",encoding='utf-8').load()\n",
    "text_splitter = CharacterTextSplitter(chunk_size=500, chunk_overlap=0)\n",
    "texts = text_splitter.split_documents(documents)\n",
    "retriever = FAISS.from_documents(texts, OpenAIEmbeddings()).as_retriever()\n",
    "\n",
    "docs = retriever.get_relevant_documents(\n",
    "    \"增值收益及其收益率为多少?\"\n",
    ")\n",
    "pretty_print_docs(docs)"
   ],
   "metadata": {
    "collapsed": false,
    "ExecuteTime": {
     "start_time": "2024-01-15T14:33:01.904783Z",
     "end_time": "2024-01-15T14:33:14.364969Z"
    }
   }
  },
  {
   "cell_type": "markdown",
   "source": [
    "## 使用`LLMChainExtractor`添加上下文压缩\n",
    "现在让我们用一个`ContextualCompressionRetriever`来包装我们的基本检索器。我们将添加一个`LLMChainExtractor`，它将遍历最初返回的文档，并仅从每个文档中提取与查询相关的内容。"
   ],
   "metadata": {
    "collapsed": false
   }
  },
  {
   "cell_type": "code",
   "execution_count": 4,
   "outputs": [
    {
     "name": "stderr",
     "output_type": "stream",
     "text": [
      "E:\\anaconda3\\envs\\langchain\\Lib\\site-packages\\langchain\\chains\\llm.py:316: UserWarning: The predict_and_parse method is deprecated, instead pass an output parser directly to LLMChain.\n",
      "  warnings.warn(\n",
      "E:\\anaconda3\\envs\\langchain\\Lib\\site-packages\\langchain\\chains\\llm.py:316: UserWarning: The predict_and_parse method is deprecated, instead pass an output parser directly to LLMChain.\n",
      "  warnings.warn(\n",
      "E:\\anaconda3\\envs\\langchain\\Lib\\site-packages\\langchain\\chains\\llm.py:316: UserWarning: The predict_and_parse method is deprecated, instead pass an output parser directly to LLMChain.\n",
      "  warnings.warn(\n",
      "E:\\anaconda3\\envs\\langchain\\Lib\\site-packages\\langchain\\chains\\llm.py:316: UserWarning: The predict_and_parse method is deprecated, instead pass an output parser directly to LLMChain.\n",
      "  warnings.warn(\n"
     ]
    },
    {
     "name": "stdout",
     "output_type": "stream",
     "text": [
      "Document 1:\n",
      "\n",
      "住房公积金增值收益788646.16万元，创历史新高，同比增长65.8%。增值收益率（增值收益与月均缴存余额的比率）2.9%，比上年同期增加 0.9个百分点。\n",
      "----------------------------------------------------------------------------------------------------\n",
      "Document 2:\n",
      "\n",
      "2015全年提取住房公积金1117.38万笔、920.62亿元。提取的金额中，住房消费提取占87.8%（购买、建造、翻建、大修自住住房占77.7 %，偿还购房贷款本息占8.4%，租赁住房占1.7%）；非住房消费提取占12.2%（离休和退休提取占9.8%，完全丧失劳动能力并与单位终止劳动关系提取占0.2%，户口迁出本市或出境定居占0.3%,其他占1.9%）。\n",
      "----------------------------------------------------------------------------------------------------\n",
      "Document 3:\n",
      "\n",
      "存款(含增值收益存款)利息收入157379.86万元，委托贷款利息收入930128.01万元，国债利息收入517.15万元\n",
      "----------------------------------------------------------------------------------------------------\n",
      "Document 4:\n",
      "\n",
      "2015年住房公积金实缴人数和缴存额增长率分别为14.0%和13.8%。\n"
     ]
    }
   ],
   "source": [
    "from langchain.retrievers import ContextualCompressionRetriever\n",
    "from langchain.retrievers.document_compressors import LLMChainExtractor\n",
    "from langchain_openai import OpenAI\n",
    "\n",
    "llm = OpenAI(temperature=0)\n",
    "compressor = LLMChainExtractor.from_llm(llm)\n",
    "compression_retriever = ContextualCompressionRetriever(\n",
    "    base_compressor=compressor, base_retriever=retriever\n",
    ")\n",
    "\n",
    "compressed_docs = compression_retriever.get_relevant_documents(\n",
    "    \"增值收益及其收益率为多少?\"\n",
    ")\n",
    "pretty_print_docs(compressed_docs)"
   ],
   "metadata": {
    "collapsed": false,
    "ExecuteTime": {
     "start_time": "2024-01-15T14:33:22.033256Z",
     "end_time": "2024-01-15T14:33:43.602816Z"
    }
   }
  },
  {
   "cell_type": "markdown",
   "source": [
    "## 更多内置压缩器:过滤器\n",
    "### LLMChainFilter\n",
    "`LLMChainFilter`是一个稍微简单但更健壮的压缩器，它使用LLM链来决定过滤掉哪些最初检索到的文档以及返回哪些文档，而不需要操作文档内容。"
   ],
   "metadata": {
    "collapsed": false
   }
  },
  {
   "cell_type": "code",
   "execution_count": 5,
   "outputs": [
    {
     "name": "stderr",
     "output_type": "stream",
     "text": [
      "E:\\anaconda3\\envs\\langchain\\Lib\\site-packages\\langchain\\chains\\llm.py:316: UserWarning: The predict_and_parse method is deprecated, instead pass an output parser directly to LLMChain.\n",
      "  warnings.warn(\n",
      "E:\\anaconda3\\envs\\langchain\\Lib\\site-packages\\langchain\\chains\\llm.py:316: UserWarning: The predict_and_parse method is deprecated, instead pass an output parser directly to LLMChain.\n",
      "  warnings.warn(\n",
      "E:\\anaconda3\\envs\\langchain\\Lib\\site-packages\\langchain\\chains\\llm.py:316: UserWarning: The predict_and_parse method is deprecated, instead pass an output parser directly to LLMChain.\n",
      "  warnings.warn(\n",
      "E:\\anaconda3\\envs\\langchain\\Lib\\site-packages\\langchain\\chains\\llm.py:316: UserWarning: The predict_and_parse method is deprecated, instead pass an output parser directly to LLMChain.\n",
      "  warnings.warn(\n"
     ]
    },
    {
     "name": "stdout",
     "output_type": "stream",
     "text": [
      "Document 1:\n",
      "\n",
      "（二）业务支出\n",
      "2015全年,住房公积金业务支出共计300088.48万元，同比降低45.2%。其中，缴存职工账户余额的利息支出251072.41万元，归集手续费用支出676.66万元，委托贷款手续费支出45299.35万元，其他支出3040.06万元（主要是项目贷款应交税金）。同时，经市财政局批复后支出与住房公积金业务相关的专项经费32993.82万元（主要为公积金贷款资产委托管理费、公积金个人住房贷款贴息经费、综合信息管理系统升级改造、运维服务等业务支出费用）。\n",
      "\n",
      "（三）增值收益\n",
      "管理中心在利率连续下调的背景下，通过加强资金综合调度，提升资金运用率，优先安排个贷资金发放，减少银行存款，住房公积金增值收益大幅提高。2015全年，住房公积金增值收益788646.16万元，创历史新高，同比增长65.8%。增值收益率（增值收益与月均缴存余额的比率）2.9%，比上年同期增加 0.9个百分点。\n",
      "----------------------------------------------------------------------------------------------------\n",
      "Document 2:\n",
      "\n",
      "（二）提取业务\n",
      "2015全年提取住房公积金1117.38万笔、920.62亿元。提取的金额中，住房消费提取占87.8%（购买、建造、翻建、大修自住住房占77.7 %，偿还购房贷款本息占8.4%，租赁住房占1.7%）；非住房消费提取占12.2%（离休和退休提取占9.8%，完全丧失劳动能力并与单位终止劳动关系提取占0.2%，户口迁出本市或出境定居占0.3%,其他占1.9%）。\n",
      "----------------------------------------------------------------------------------------------------\n",
      "Document 3:\n",
      "\n",
      "（四）购买国债\n",
      "2015年，未发生新购买、兑付、转让、收回国债情况。期末国债余额4.26亿元，与上年相比无变化。\n",
      "\n",
      "（五）资金存储\n",
      "截至2015年底，管理中心结余资金存款348.31亿元，其中，活期4.02亿元，1年以内定期（含）121.15亿元，1年以上定期172.79亿元，其他(协议、协定、通知存款等)50.35亿元。\n",
      "\n",
      "（六）资金运用率\n",
      "2015年住房公积金提取、贷款业务量大幅增加，结余资金大幅减少，资金使用效率进一步提升。截至2015年底，资金运用率（住房公积金个人住房贷款余额、项目贷款余额和购买国债余额的总和与缴存余额的比率）89.6%，比上年同期增加9.9个百分点。\n",
      "\n",
      "\n",
      "三、主要财务数据\n",
      "（一）业务收入\n",
      "2015全年,住房公积金业务收入共计1088734.64万元，同比增长6.4%。其中，存款(含增值收益存款)利息收入157379.86万元，委托贷款利息收入930128.01万元，国债利息收入517.15万元，其他收入709.62万元。\n"
     ]
    }
   ],
   "source": [
    "from langchain.retrievers.document_compressors import LLMChainFilter\n",
    "\n",
    "_filter = LLMChainFilter.from_llm(llm)\n",
    "compression_retriever = ContextualCompressionRetriever(\n",
    "    base_compressor=_filter, base_retriever=retriever\n",
    ")\n",
    "\n",
    "compressed_docs = compression_retriever.get_relevant_documents(\n",
    "    \"增值收益及其收益率为多少?\"\n",
    ")\n",
    "pretty_print_docs(compressed_docs)"
   ],
   "metadata": {
    "collapsed": false,
    "ExecuteTime": {
     "start_time": "2024-01-15T14:33:43.603817Z",
     "end_time": "2024-01-15T14:33:59.075900Z"
    }
   }
  },
  {
   "cell_type": "markdown",
   "source": [
    "### EmbeddingsFilter\n",
    "对每个检索到的文档进行额外的LLM调用既昂贵又缓慢。EmbeddingsFilter通过嵌入文档和查询并只返回那些与查询具有足够相似嵌入的文档，提供了一种更便宜和更快的选择。"
   ],
   "metadata": {
    "collapsed": false
   }
  },
  {
   "cell_type": "code",
   "execution_count": 6,
   "outputs": [
    {
     "name": "stdout",
     "output_type": "stream",
     "text": [
      "Document 1:\n",
      "\n",
      "（二）业务支出\n",
      "2015全年,住房公积金业务支出共计300088.48万元，同比降低45.2%。其中，缴存职工账户余额的利息支出251072.41万元，归集手续费用支出676.66万元，委托贷款手续费支出45299.35万元，其他支出3040.06万元（主要是项目贷款应交税金）。同时，经市财政局批复后支出与住房公积金业务相关的专项经费32993.82万元（主要为公积金贷款资产委托管理费、公积金个人住房贷款贴息经费、综合信息管理系统升级改造、运维服务等业务支出费用）。\n",
      "\n",
      "（三）增值收益\n",
      "管理中心在利率连续下调的背景下，通过加强资金综合调度，提升资金运用率，优先安排个贷资金发放，减少银行存款，住房公积金增值收益大幅提高。2015全年，住房公积金增值收益788646.16万元，创历史新高，同比增长65.8%。增值收益率（增值收益与月均缴存余额的比率）2.9%，比上年同期增加 0.9个百分点。\n",
      "----------------------------------------------------------------------------------------------------\n",
      "Document 2:\n",
      "\n",
      "（二）提取业务\n",
      "2015全年提取住房公积金1117.38万笔、920.62亿元。提取的金额中，住房消费提取占87.8%（购买、建造、翻建、大修自住住房占77.7 %，偿还购房贷款本息占8.4%，租赁住房占1.7%）；非住房消费提取占12.2%（离休和退休提取占9.8%，完全丧失劳动能力并与单位终止劳动关系提取占0.2%，户口迁出本市或出境定居占0.3%,其他占1.9%）。\n",
      "----------------------------------------------------------------------------------------------------\n",
      "Document 3:\n",
      "\n",
      "（四）购买国债\n",
      "2015年，未发生新购买、兑付、转让、收回国债情况。期末国债余额4.26亿元，与上年相比无变化。\n",
      "\n",
      "（五）资金存储\n",
      "截至2015年底，管理中心结余资金存款348.31亿元，其中，活期4.02亿元，1年以内定期（含）121.15亿元，1年以上定期172.79亿元，其他(协议、协定、通知存款等)50.35亿元。\n",
      "\n",
      "（六）资金运用率\n",
      "2015年住房公积金提取、贷款业务量大幅增加，结余资金大幅减少，资金使用效率进一步提升。截至2015年底，资金运用率（住房公积金个人住房贷款余额、项目贷款余额和购买国债余额的总和与缴存余额的比率）89.6%，比上年同期增加9.9个百分点。\n",
      "\n",
      "\n",
      "三、主要财务数据\n",
      "（一）业务收入\n",
      "2015全年,住房公积金业务收入共计1088734.64万元，同比增长6.4%。其中，存款(含增值收益存款)利息收入157379.86万元，委托贷款利息收入930128.01万元，国债利息收入517.15万元，其他收入709.62万元。\n",
      "----------------------------------------------------------------------------------------------------\n",
      "Document 4:\n",
      "\n",
      "（三）历史遗留风险资产\n",
      "截至2015年底，不存在历史遗留风险资产。\n",
      "\n",
      "\n",
      "五、社会经济效益\n",
      "（一）缴存业务\n",
      "2015年住房公积金实缴人数和缴存额增长率分别为14.0%和13.8%。缴存职工的构成情况：按单位性质，国家机关和事业单位占18.7%，国有企业占20.2%，城镇集体企业占0.7%，外商投资企业占11.8%，城镇私营企业及其他城镇企业占36.4%，民办非企业单位和社会团体占0.7%，其他占11.5%。\n",
      "按收入水平，低收入群体（住房公积金缴存基数低于2014年本市职工平均工资）占53.1%，中等收入群体（住房公积金缴存基数介于2014年本市职工平均工资1倍-3倍之间）占38.5 %，高收入群体（住房公积金缴存基数高于2014年本市职工平均工资3倍）占8.4%。\n"
     ]
    }
   ],
   "source": [
    "from langchain.retrievers.document_compressors import EmbeddingsFilter\n",
    "from langchain_openai import OpenAIEmbeddings\n",
    "\n",
    "embeddings = OpenAIEmbeddings()\n",
    "embeddings_filter = EmbeddingsFilter(embeddings=embeddings, similarity_threshold=0.76)\n",
    "compression_retriever = ContextualCompressionRetriever(\n",
    "    base_compressor=embeddings_filter, base_retriever=retriever\n",
    ")\n",
    "\n",
    "compressed_docs = compression_retriever.get_relevant_documents(\n",
    "    \"增值收益及其收益率为多少?\"\n",
    ")\n",
    "pretty_print_docs(compressed_docs)"
   ],
   "metadata": {
    "collapsed": false,
    "ExecuteTime": {
     "start_time": "2024-01-15T14:33:59.079045Z",
     "end_time": "2024-01-15T14:34:11.651514Z"
    }
   }
  },
  {
   "cell_type": "markdown",
   "source": [
    "## 将上下文压缩和文件转换器串在一起\n",
    "使用`DocumentCompressorPipeline`，我们还可以很容易地按顺序组合多个压缩器。除了压缩器，我们还可以在管道中添加`BaseDocumentTransformer`，它不执行任何上下文压缩，而只是对一组文档执行一些转换。例如，`TextSplitter`可以用作文档转换器，将文档分成更小的部分，`EmbeddingsRedundantFilter`可以用于根据文档之间的嵌入相似性过滤掉冗余文档。"
   ],
   "metadata": {
    "collapsed": false
   }
  },
  {
   "cell_type": "markdown",
   "source": [
    "下面我们创建一个压缩器管道，首先将我们的文档分成更小的块，然后删除冗余的文档，然后根据与查询的相关性进行过滤。"
   ],
   "metadata": {
    "collapsed": false
   }
  },
  {
   "cell_type": "code",
   "execution_count": 7,
   "outputs": [],
   "source": [
    "from langchain.retrievers.document_compressors import DocumentCompressorPipeline\n",
    "from langchain.text_splitter import CharacterTextSplitter\n",
    "from langchain_community.document_transformers import EmbeddingsRedundantFilter\n",
    "\n",
    "splitter = CharacterTextSplitter(chunk_size=300, chunk_overlap=0, separator=\"\\n\")\n",
    "redundant_filter = EmbeddingsRedundantFilter(embeddings=embeddings)\n",
    "relevant_filter = EmbeddingsFilter(embeddings=embeddings, similarity_threshold=0.76)\n",
    "pipeline_compressor = DocumentCompressorPipeline(\n",
    "    transformers=[splitter, redundant_filter, relevant_filter]\n",
    ")"
   ],
   "metadata": {
    "collapsed": false,
    "ExecuteTime": {
     "start_time": "2024-01-15T14:34:27.604900Z",
     "end_time": "2024-01-15T14:34:27.615393Z"
    }
   }
  },
  {
   "cell_type": "code",
   "execution_count": 8,
   "outputs": [
    {
     "name": "stdout",
     "output_type": "stream",
     "text": [
      "Document 1:\n",
      "\n",
      "管理中心在利率连续下调的背景下，通过加强资金综合调度，提升资金运用率，优先安排个贷资金发放，减少银行存款，住房公积金增值收益大幅提高。2015全年，住房公积金增值收益788646.16万元，创历史新高，同比增长65.8%。增值收益率（增值收益与月均缴存余额的比率）2.9%，比上年同期增加 0.9个百分点。\n",
      "----------------------------------------------------------------------------------------------------\n",
      "Document 2:\n",
      "\n",
      "（一）业务收入\n",
      "2015全年,住房公积金业务收入共计1088734.64万元，同比增长6.4%。其中，存款(含增值收益存款)利息收入157379.86万元，委托贷款利息收入930128.01万元，国债利息收入517.15万元，其他收入709.62万元。\n",
      "----------------------------------------------------------------------------------------------------\n",
      "Document 3:\n",
      "\n",
      "按收入水平，低收入群体（住房公积金缴存基数低于2014年本市职工平均工资）占53.1%，中等收入群体（住房公积金缴存基数介于2014年本市职工平均工资1倍-3倍之间）占38.5 %，高收入群体（住房公积金缴存基数高于2014年本市职工平均工资3倍）占8.4%。\n",
      "----------------------------------------------------------------------------------------------------\n",
      "Document 4:\n",
      "\n",
      "（二）提取业务\n",
      "2015全年提取住房公积金1117.38万笔、920.62亿元。提取的金额中，住房消费提取占87.8%（购买、建造、翻建、大修自住住房占77.7 %，偿还购房贷款本息占8.4%，租赁住房占1.7%）；非住房消费提取占12.2%（离休和退休提取占9.8%，完全丧失劳动能力并与单位终止劳动关系提取占0.2%，户口迁出本市或出境定居占0.3%,其他占1.9%）。\n",
      "----------------------------------------------------------------------------------------------------\n",
      "Document 5:\n",
      "\n",
      "（三）历史遗留风险资产\n",
      "截至2015年底，不存在历史遗留风险资产。\n",
      "五、社会经济效益\n",
      "（一）缴存业务\n",
      "2015年住房公积金实缴人数和缴存额增长率分别为14.0%和13.8%。缴存职工的构成情况：按单位性质，国家机关和事业单位占18.7%，国有企业占20.2%，城镇集体企业占0.7%，外商投资企业占11.8%，城镇私营企业及其他城镇企业占36.4%，民办非企业单位和社会团体占0.7%，其他占11.5%。\n",
      "----------------------------------------------------------------------------------------------------\n",
      "Document 6:\n",
      "\n",
      "（二）业务支出\n",
      "2015全年,住房公积金业务支出共计300088.48万元，同比降低45.2%。其中，缴存职工账户余额的利息支出251072.41万元，归集手续费用支出676.66万元，委托贷款手续费支出45299.35万元，其他支出3040.06万元（主要是项目贷款应交税金）。同时，经市财政局批复后支出与住房公积金业务相关的专项经费32993.82万元（主要为公积金贷款资产委托管理费、公积金个人住房贷款贴息经费、综合信息管理系统升级改造、运维服务等业务支出费用）。\n",
      "（三）增值收益\n",
      "----------------------------------------------------------------------------------------------------\n",
      "Document 7:\n",
      "\n",
      "（四）购买国债\n",
      "2015年，未发生新购买、兑付、转让、收回国债情况。期末国债余额4.26亿元，与上年相比无变化。\n",
      "（五）资金存储\n",
      "截至2015年底，管理中心结余资金存款348.31亿元，其中，活期4.02亿元，1年以内定期（含）121.15亿元，1年以上定期172.79亿元，其他(协议、协定、通知存款等)50.35亿元。\n",
      "（六）资金运用率\n",
      "2015年住房公积金提取、贷款业务量大幅增加，结余资金大幅减少，资金使用效率进一步提升。截至2015年底，资金运用率（住房公积金个人住房贷款余额、项目贷款余额和购买国债余额的总和与缴存余额的比率）89.6%，比上年同期增加9.9个百分点。\n",
      "三、主要财务数据\n"
     ]
    }
   ],
   "source": [
    "compression_retriever = ContextualCompressionRetriever(\n",
    "    base_compressor=pipeline_compressor, base_retriever=retriever\n",
    ")\n",
    "\n",
    "compressed_docs = compression_retriever.get_relevant_documents(\n",
    "    \"增值收益及其收益率为多少?\"\n",
    ")\n",
    "pretty_print_docs(compressed_docs)"
   ],
   "metadata": {
    "collapsed": false,
    "ExecuteTime": {
     "start_time": "2024-01-15T14:34:32.542802Z",
     "end_time": "2024-01-15T14:34:42.017621Z"
    }
   }
  },
  {
   "cell_type": "code",
   "execution_count": null,
   "outputs": [],
   "source": [],
   "metadata": {
    "collapsed": false
   }
  }
 ],
 "metadata": {
  "kernelspec": {
   "display_name": "Python 3",
   "language": "python",
   "name": "python3"
  },
  "language_info": {
   "codemirror_mode": {
    "name": "ipython",
    "version": 2
   },
   "file_extension": ".py",
   "mimetype": "text/x-python",
   "name": "python",
   "nbconvert_exporter": "python",
   "pygments_lexer": "ipython2",
   "version": "2.7.6"
  }
 },
 "nbformat": 4,
 "nbformat_minor": 0
}
