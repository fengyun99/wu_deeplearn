{
 "cells": [
  {
   "cell_type": "markdown",
   "source": [
    "每一轮对话需要抽取的内容，首先是用户会进行提问，我们需要对用户的问题进行意图识别（NLU），然后将NLU提取出来的内容进行状态跟踪，换句话就是记录现在用户语义的状态，通过状态来匹配需要进行的对话策略（业务对象），"
   ],
   "metadata": {
    "collapsed": false
   }
  }
 ],
 "metadata": {
  "kernelspec": {
   "display_name": "Python 3",
   "language": "python",
   "name": "python3"
  },
  "language_info": {
   "codemirror_mode": {
    "name": "ipython",
    "version": 2
   },
   "file_extension": ".py",
   "mimetype": "text/x-python",
   "name": "python",
   "nbconvert_exporter": "python",
   "pygments_lexer": "ipython2",
   "version": "2.7.6"
  }
 },
 "nbformat": 4,
 "nbformat_minor": 0
}
