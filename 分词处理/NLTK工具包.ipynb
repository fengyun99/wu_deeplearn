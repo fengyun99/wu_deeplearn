{
 "cells": [
  {
   "cell_type": "code",
   "execution_count": 1,
   "outputs": [
    {
     "name": "stdout",
     "output_type": "stream",
     "text": [
      "Looking in indexes: https://pypi.tuna.tsinghua.edu.cn/simple\n",
      "Requirement already satisfied: nltk in e:\\anaconda3\\envs\\deeplearn\\lib\\site-packages (3.8.1)\n",
      "Requirement already satisfied: click in e:\\anaconda3\\envs\\deeplearn\\lib\\site-packages (from nltk) (8.1.3)\n",
      "Requirement already satisfied: joblib in e:\\anaconda3\\envs\\deeplearn\\lib\\site-packages (from nltk) (1.2.0)\n",
      "Requirement already satisfied: regex>=2021.8.3 in e:\\anaconda3\\envs\\deeplearn\\lib\\site-packages (from nltk) (2023.3.23)\n",
      "Requirement already satisfied: tqdm in e:\\anaconda3\\envs\\deeplearn\\lib\\site-packages (from nltk) (4.65.0)\n",
      "Requirement already satisfied: colorama in e:\\anaconda3\\envs\\deeplearn\\lib\\site-packages (from click->nltk) (0.4.6)\n"
     ]
    },
    {
     "name": "stderr",
     "output_type": "stream",
     "text": [
      "WARNING: Ignoring invalid distribution -rotobuf (e:\\anaconda3\\envs\\deeplearn\\lib\\site-packages)\n",
      "WARNING: Ignoring invalid distribution -umpy (e:\\anaconda3\\envs\\deeplearn\\lib\\site-packages)\n",
      "WARNING: Ignoring invalid distribution -rotobuf (e:\\anaconda3\\envs\\deeplearn\\lib\\site-packages)\n",
      "WARNING: Ignoring invalid distribution -umpy (e:\\anaconda3\\envs\\deeplearn\\lib\\site-packages)\n"
     ]
    }
   ],
   "source": [
    "! pip install nltk"
   ],
   "metadata": {
    "collapsed": false,
    "ExecuteTime": {
     "start_time": "2023-06-02T11:55:38.787578Z",
     "end_time": "2023-06-02T11:55:41.244662Z"
    }
   }
  },
  {
   "cell_type": "code",
   "execution_count": 2,
   "outputs": [],
   "source": [
    "import nltk\n",
    "# nltk.download()"
   ],
   "metadata": {
    "collapsed": false,
    "ExecuteTime": {
     "start_time": "2023-06-02T11:55:41.245662Z",
     "end_time": "2023-06-02T11:55:42.740749Z"
    }
   }
  },
  {
   "cell_type": "code",
   "execution_count": 3,
   "outputs": [],
   "source": [
    "# 分词\n",
    "from nltk.tokenize import word_tokenize\n",
    "from nltk.text import Text"
   ],
   "metadata": {
    "collapsed": false,
    "ExecuteTime": {
     "start_time": "2023-06-02T11:55:42.741661Z",
     "end_time": "2023-06-02T11:55:42.755969Z"
    }
   }
  },
  {
   "cell_type": "code",
   "execution_count": 4,
   "outputs": [],
   "source": [
    "input_str = \"Today's weather is good, very windy and sunny, we have no classes in the afternoon, We have to play basketball tomorrow.\""
   ],
   "metadata": {
    "collapsed": false,
    "ExecuteTime": {
     "start_time": "2023-06-02T11:55:42.756969Z",
     "end_time": "2023-06-02T11:55:42.781217Z"
    }
   }
  },
  {
   "cell_type": "code",
   "execution_count": 5,
   "outputs": [],
   "source": [
    "tokens = word_tokenize(input_str)"
   ],
   "metadata": {
    "collapsed": false,
    "ExecuteTime": {
     "start_time": "2023-06-02T11:55:42.772452Z",
     "end_time": "2023-06-02T11:55:42.789103Z"
    }
   }
  },
  {
   "cell_type": "code",
   "execution_count": 6,
   "outputs": [],
   "source": [
    "tokens = [word.lower() for word in tokens]"
   ],
   "metadata": {
    "collapsed": false,
    "ExecuteTime": {
     "start_time": "2023-06-02T11:55:42.789103Z",
     "end_time": "2023-06-02T11:55:42.803553Z"
    }
   }
  },
  {
   "cell_type": "code",
   "execution_count": 7,
   "outputs": [
    {
     "data": {
      "text/plain": "['today',\n \"'s\",\n 'weather',\n 'is',\n 'good',\n ',',\n 'very',\n 'windy',\n 'and',\n 'sunny',\n ',',\n 'we',\n 'have',\n 'no',\n 'classes',\n 'in',\n 'the',\n 'afternoon',\n ',',\n 'we',\n 'have',\n 'to',\n 'play',\n 'basketball',\n 'tomorrow',\n '.']"
     },
     "execution_count": 7,
     "metadata": {},
     "output_type": "execute_result"
    }
   ],
   "source": [
    "tokens[:]"
   ],
   "metadata": {
    "collapsed": false,
    "ExecuteTime": {
     "start_time": "2023-06-02T11:55:42.803553Z",
     "end_time": "2023-06-02T11:55:42.849353Z"
    }
   }
  },
  {
   "cell_type": "code",
   "execution_count": 8,
   "outputs": [],
   "source": [
    "# 创建text对象，方便后续操作\n",
    "t = Text(tokens)"
   ],
   "metadata": {
    "collapsed": false,
    "ExecuteTime": {
     "start_time": "2023-06-02T11:55:42.820309Z",
     "end_time": "2023-06-02T11:55:42.851343Z"
    }
   }
  },
  {
   "cell_type": "code",
   "execution_count": 9,
   "outputs": [
    {
     "data": {
      "text/plain": "1"
     },
     "execution_count": 9,
     "metadata": {},
     "output_type": "execute_result"
    }
   ],
   "source": [
    "t.count('good')"
   ],
   "metadata": {
    "collapsed": false,
    "ExecuteTime": {
     "start_time": "2023-06-02T11:55:42.838326Z",
     "end_time": "2023-06-02T11:55:42.862867Z"
    }
   }
  },
  {
   "cell_type": "code",
   "execution_count": 10,
   "outputs": [
    {
     "data": {
      "text/plain": "4"
     },
     "execution_count": 10,
     "metadata": {},
     "output_type": "execute_result"
    }
   ],
   "source": [
    "t.index('good')"
   ],
   "metadata": {
    "collapsed": false,
    "ExecuteTime": {
     "start_time": "2023-06-02T11:55:42.853345Z",
     "end_time": "2023-06-02T11:55:42.867880Z"
    }
   }
  },
  {
   "cell_type": "code",
   "execution_count": 11,
   "outputs": [
    {
     "data": {
      "text/plain": "<Figure size 640x480 with 1 Axes>",
      "image/png": "[encoded data removed]"
     },
     "metadata": {},
     "output_type": "display_data"
    },
    {
     "data": {
      "text/plain": "<Axes: xlabel='Samples', ylabel='Counts'>"
     },
     "execution_count": 11,
     "metadata": {},
     "output_type": "execute_result"
    }
   ],
   "source": [
    "t.plot(8)"
   ],
   "metadata": {
    "collapsed": false,
    "ExecuteTime": {
     "start_time": "2023-06-02T11:55:42.868867Z",
     "end_time": "2023-06-02T11:55:43.399037Z"
    }
   }
  },
  {
   "cell_type": "code",
   "execution_count": 12,
   "outputs": [
    {
     "name": "stdout",
     "output_type": "stream",
     "text": [
      "Help on module nltk.text in nltk:\n",
      "\n",
      "NAME\n",
      "    nltk.text\n",
      "\n",
      "DESCRIPTION\n",
      "    This module brings together a variety of NLTK functionality for\n",
      "    text analysis, and provides simple, interactive interfaces.\n",
      "    Functionality includes: concordancing, collocation discovery,\n",
      "    regular expression search over tokenized strings, and\n",
      "    distributional similarity.\n",
      "\n",
      "CLASSES\n",
      "    builtins.object\n",
      "        ConcordanceIndex\n",
      "        ContextIndex\n",
      "        Text\n",
      "            TextCollection\n",
      "        TokenSearcher\n",
      "    \n",
      "    class ConcordanceIndex(builtins.object)\n",
      "     |  ConcordanceIndex(tokens, key=<function ConcordanceIndex.<lambda> at 0x000002F064868040>)\n",
      "     |  \n",
      "     |  An index that can be used to look up the offset locations at which\n",
      "     |  a given word occurs in a document.\n",
      "     |  \n",
      "     |  Methods defined here:\n",
      "     |  \n",
      "     |  __init__(self, tokens, key=<function ConcordanceIndex.<lambda> at 0x000002F064868040>)\n",
      "     |      Construct a new concordance index.\n",
      "     |      \n",
      "     |      :param tokens: The document (list of tokens) that this\n",
      "     |          concordance index was created from.  This list can be used\n",
      "     |          to access the context of a given word occurrence.\n",
      "     |      :param key: A function that maps each token to a normalized\n",
      "     |          version that will be used as a key in the index.  E.g., if\n",
      "     |          you use ``key=lambda s:s.lower()``, then the index will be\n",
      "     |          case-insensitive.\n",
      "     |  \n",
      "     |  __repr__(self)\n",
      "     |      Return repr(self).\n",
      "     |  \n",
      "     |  find_concordance(self, word, width=80)\n",
      "     |      Find all concordance lines given the query word.\n",
      "     |      \n",
      "     |      Provided with a list of words, these will be found as a phrase.\n",
      "     |  \n",
      "     |  offsets(self, word)\n",
      "     |      :rtype: list(int)\n",
      "     |      :return: A list of the offset positions at which the given\n",
      "     |          word occurs.  If a key function was specified for the\n",
      "     |          index, then given word's key will be looked up.\n",
      "     |  \n",
      "     |  print_concordance(self, word, width=80, lines=25)\n",
      "     |      Print concordance lines given the query word.\n",
      "     |      :param word: The target word or phrase (a list of strings)\n",
      "     |      :type word: str or list\n",
      "     |      :param lines: The number of lines to display (default=25)\n",
      "     |      :type lines: int\n",
      "     |      :param width: The width of each line, in characters (default=80)\n",
      "     |      :type width: int\n",
      "     |      :param save: The option to save the concordance.\n",
      "     |      :type save: bool\n",
      "     |  \n",
      "     |  tokens(self)\n",
      "     |      :rtype: list(str)\n",
      "     |      :return: The document that this concordance index was\n",
      "     |          created from.\n",
      "     |  \n",
      "     |  ----------------------------------------------------------------------\n",
      "     |  Data descriptors defined here:\n",
      "     |  \n",
      "     |  __dict__\n",
      "     |      dictionary for instance variables (if defined)\n",
      "     |  \n",
      "     |  __weakref__\n",
      "     |      list of weak references to the object (if defined)\n",
      "    \n",
      "    class ContextIndex(builtins.object)\n",
      "     |  ContextIndex(tokens, context_func=None, filter=None, key=<function ContextIndex.<lambda> at 0x000002F06484BC70>)\n",
      "     |  \n",
      "     |  A bidirectional index between words and their 'contexts' in a text.\n",
      "     |  The context of a word is usually defined to be the words that occur\n",
      "     |  in a fixed window around the word; but other definitions may also\n",
      "     |  be used by providing a custom context function.\n",
      "     |  \n",
      "     |  Methods defined here:\n",
      "     |  \n",
      "     |  __init__(self, tokens, context_func=None, filter=None, key=<function ContextIndex.<lambda> at 0x000002F06484BC70>)\n",
      "     |      Initialize self.  See help(type(self)) for accurate signature.\n",
      "     |  \n",
      "     |  common_contexts(self, words, fail_on_unknown=False)\n",
      "     |      Find contexts where the specified words can all appear; and\n",
      "     |      return a frequency distribution mapping each context to the\n",
      "     |      number of times that context was used.\n",
      "     |      \n",
      "     |      :param words: The words used to seed the similarity search\n",
      "     |      :type words: str\n",
      "     |      :param fail_on_unknown: If true, then raise a value error if\n",
      "     |          any of the given words do not occur at all in the index.\n",
      "     |  \n",
      "     |  similar_words(self, word, n=20)\n",
      "     |  \n",
      "     |  tokens(self)\n",
      "     |      :rtype: list(str)\n",
      "     |      :return: The document that this context index was\n",
      "     |          created from.\n",
      "     |  \n",
      "     |  word_similarity_dict(self, word)\n",
      "     |      Return a dictionary mapping from words to 'similarity scores,'\n",
      "     |      indicating how often these two words occur in the same\n",
      "     |      context.\n",
      "     |  \n",
      "     |  ----------------------------------------------------------------------\n",
      "     |  Data descriptors defined here:\n",
      "     |  \n",
      "     |  __dict__\n",
      "     |      dictionary for instance variables (if defined)\n",
      "     |  \n",
      "     |  __weakref__\n",
      "     |      list of weak references to the object (if defined)\n",
      "    \n",
      "    class Text(builtins.object)\n",
      "     |  Text(tokens, name=None)\n",
      "     |  \n",
      "     |  A wrapper around a sequence of simple (string) tokens, which is\n",
      "     |  intended to support initial exploration of texts (via the\n",
      "     |  interactive console).  Its methods perform a variety of analyses\n",
      "     |  on the text's contexts (e.g., counting, concordancing, collocation\n",
      "     |  discovery), and display the results.  If you wish to write a\n",
      "     |  program which makes use of these analyses, then you should bypass\n",
      "     |  the ``Text`` class, and use the appropriate analysis function or\n",
      "     |  class directly instead.\n",
      "     |  \n",
      "     |  A ``Text`` is typically initialized from a given document or\n",
      "     |  corpus.  E.g.:\n",
      "     |  \n",
      "     |  >>> import nltk.corpus\n",
      "     |  >>> from nltk.text import Text\n",
      "     |  >>> moby = Text(nltk.corpus.gutenberg.words('melville-moby_dick.txt'))\n",
      "     |  \n",
      "     |  Methods defined here:\n",
      "     |  \n",
      "     |  __getitem__(self, i)\n",
      "     |  \n",
      "     |  __init__(self, tokens, name=None)\n",
      "     |      Create a Text object.\n",
      "     |      \n",
      "     |      :param tokens: The source text.\n",
      "     |      :type tokens: sequence of str\n",
      "     |  \n",
      "     |  __len__(self)\n",
      "     |  \n",
      "     |  __repr__(self)\n",
      "     |      Return repr(self).\n",
      "     |  \n",
      "     |  __str__(self)\n",
      "     |      Return str(self).\n",
      "     |  \n",
      "     |  collocation_list(self, num=20, window_size=2)\n",
      "     |      Return collocations derived from the text, ignoring stopwords.\n",
      "     |      \n",
      "     |          >>> from nltk.book import text4\n",
      "     |          >>> text4.collocation_list()[:2]\n",
      "     |          [('United', 'States'), ('fellow', 'citizens')]\n",
      "     |      \n",
      "     |      :param num: The maximum number of collocations to return.\n",
      "     |      :type num: int\n",
      "     |      :param window_size: The number of tokens spanned by a collocation (default=2)\n",
      "     |      :type window_size: int\n",
      "     |      :rtype: list(tuple(str, str))\n",
      "     |  \n",
      "     |  collocations(self, num=20, window_size=2)\n",
      "     |      Print collocations derived from the text, ignoring stopwords.\n",
      "     |      \n",
      "     |          >>> from nltk.book import text4\n",
      "     |          >>> text4.collocations() # doctest: +NORMALIZE_WHITESPACE\n",
      "     |          United States; fellow citizens; years ago; four years; Federal\n",
      "     |          Government; General Government; American people; Vice President; God\n",
      "     |          bless; Chief Justice; one another; fellow Americans; Old World;\n",
      "     |          Almighty God; Fellow citizens; Chief Magistrate; every citizen; Indian\n",
      "     |          tribes; public debt; foreign nations\n",
      "     |      \n",
      "     |      \n",
      "     |      :param num: The maximum number of collocations to print.\n",
      "     |      :type num: int\n",
      "     |      :param window_size: The number of tokens spanned by a collocation (default=2)\n",
      "     |      :type window_size: int\n",
      "     |  \n",
      "     |  common_contexts(self, words, num=20)\n",
      "     |      Find contexts where the specified words appear; list\n",
      "     |      most frequent common contexts first.\n",
      "     |      \n",
      "     |      :param words: The words used to seed the similarity search\n",
      "     |      :type words: str\n",
      "     |      :param num: The number of words to generate (default=20)\n",
      "     |      :type num: int\n",
      "     |      :seealso: ContextIndex.common_contexts()\n",
      "     |  \n",
      "     |  concordance(self, word, width=79, lines=25)\n",
      "     |      Prints a concordance for ``word`` with the specified context window.\n",
      "     |      Word matching is not case-sensitive.\n",
      "     |      \n",
      "     |      :param word: The target word or phrase (a list of strings)\n",
      "     |      :type word: str or list\n",
      "     |      :param width: The width of each line, in characters (default=80)\n",
      "     |      :type width: int\n",
      "     |      :param lines: The number of lines to display (default=25)\n",
      "     |      :type lines: int\n",
      "     |      \n",
      "     |      :seealso: ``ConcordanceIndex``\n",
      "     |  \n",
      "     |  concordance_list(self, word, width=79, lines=25)\n",
      "     |      Generate a concordance for ``word`` with the specified context window.\n",
      "     |      Word matching is not case-sensitive.\n",
      "     |      \n",
      "     |      :param word: The target word or phrase (a list of strings)\n",
      "     |      :type word: str or list\n",
      "     |      :param width: The width of each line, in characters (default=80)\n",
      "     |      :type width: int\n",
      "     |      :param lines: The number of lines to display (default=25)\n",
      "     |      :type lines: int\n",
      "     |      \n",
      "     |      :seealso: ``ConcordanceIndex``\n",
      "     |  \n",
      "     |  count(self, word)\n",
      "     |      Count the number of times this word appears in the text.\n",
      "     |  \n",
      "     |  dispersion_plot(self, words)\n",
      "     |      Produce a plot showing the distribution of the words through the text.\n",
      "     |      Requires pylab to be installed.\n",
      "     |      \n",
      "     |      :param words: The words to be plotted\n",
      "     |      :type words: list(str)\n",
      "     |      :seealso: nltk.draw.dispersion_plot()\n",
      "     |  \n",
      "     |  findall(self, regexp)\n",
      "     |      Find instances of the regular expression in the text.\n",
      "     |      The text is a list of tokens, and a regexp pattern to match\n",
      "     |      a single token must be surrounded by angle brackets.  E.g.\n",
      "     |      \n",
      "     |      >>> from nltk.book import text1, text5, text9\n",
      "     |      >>> text5.findall(\"<.*><.*><bro>\")\n",
      "     |      you rule bro; telling you bro; u twizted bro\n",
      "     |      >>> text1.findall(\"<a>(<.*>)<man>\")\n",
      "     |      monied; nervous; dangerous; white; white; white; pious; queer; good;\n",
      "     |      mature; white; Cape; great; wise; wise; butterless; white; fiendish;\n",
      "     |      pale; furious; better; certain; complete; dismasted; younger; brave;\n",
      "     |      brave; brave; brave\n",
      "     |      >>> text9.findall(\"<th.*>{3,}\")\n",
      "     |      thread through those; the thought that; that the thing; the thing\n",
      "     |      that; that that thing; through these than through; them that the;\n",
      "     |      through the thick; them that they; thought that the\n",
      "     |      \n",
      "     |      :param regexp: A regular expression\n",
      "     |      :type regexp: str\n",
      "     |  \n",
      "     |  generate(self, length=100, text_seed=None, random_seed=42)\n",
      "     |      Print random text, generated using a trigram language model.\n",
      "     |      See also `help(nltk.lm)`.\n",
      "     |      \n",
      "     |      :param length: The length of text to generate (default=100)\n",
      "     |      :type length: int\n",
      "     |      \n",
      "     |      :param text_seed: Generation can be conditioned on preceding context.\n",
      "     |      :type text_seed: list(str)\n",
      "     |      \n",
      "     |      :param random_seed: A random seed or an instance of `random.Random`. If provided,\n",
      "     |          makes the random sampling part of generation reproducible. (default=42)\n",
      "     |      :type random_seed: int\n",
      "     |  \n",
      "     |  index(self, word)\n",
      "     |      Find the index of the first occurrence of the word in the text.\n",
      "     |  \n",
      "     |  plot(self, *args)\n",
      "     |      See documentation for FreqDist.plot()\n",
      "     |      :seealso: nltk.prob.FreqDist.plot()\n",
      "     |  \n",
      "     |  readability(self, method)\n",
      "     |  \n",
      "     |  similar(self, word, num=20)\n",
      "     |      Distributional similarity: find other words which appear in the\n",
      "     |      same contexts as the specified word; list most similar words first.\n",
      "     |      \n",
      "     |      :param word: The word used to seed the similarity search\n",
      "     |      :type word: str\n",
      "     |      :param num: The number of words to generate (default=20)\n",
      "     |      :type num: int\n",
      "     |      :seealso: ContextIndex.similar_words()\n",
      "     |  \n",
      "     |  vocab(self)\n",
      "     |      :seealso: nltk.prob.FreqDist\n",
      "     |  \n",
      "     |  ----------------------------------------------------------------------\n",
      "     |  Data descriptors defined here:\n",
      "     |  \n",
      "     |  __dict__\n",
      "     |      dictionary for instance variables (if defined)\n",
      "     |  \n",
      "     |  __weakref__\n",
      "     |      list of weak references to the object (if defined)\n",
      "    \n",
      "    class TextCollection(Text)\n",
      "     |  TextCollection(source)\n",
      "     |  \n",
      "     |  A collection of texts, which can be loaded with list of texts, or\n",
      "     |  with a corpus consisting of one or more texts, and which supports\n",
      "     |  counting, concordancing, collocation discovery, etc.  Initialize a\n",
      "     |  TextCollection as follows:\n",
      "     |  \n",
      "     |  >>> import nltk.corpus\n",
      "     |  >>> from nltk.text import TextCollection\n",
      "     |  >>> from nltk.book import text1, text2, text3\n",
      "     |  >>> gutenberg = TextCollection(nltk.corpus.gutenberg)\n",
      "     |  >>> mytexts = TextCollection([text1, text2, text3])\n",
      "     |  \n",
      "     |  Iterating over a TextCollection produces all the tokens of all the\n",
      "     |  texts in order.\n",
      "     |  \n",
      "     |  Method resolution order:\n",
      "     |      TextCollection\n",
      "     |      Text\n",
      "     |      builtins.object\n",
      "     |  \n",
      "     |  Methods defined here:\n",
      "     |  \n",
      "     |  __init__(self, source)\n",
      "     |      Create a Text object.\n",
      "     |      \n",
      "     |      :param tokens: The source text.\n",
      "     |      :type tokens: sequence of str\n",
      "     |  \n",
      "     |  idf(self, term)\n",
      "     |      The number of texts in the corpus divided by the\n",
      "     |      number of texts that the term appears in.\n",
      "     |      If a term does not appear in the corpus, 0.0 is returned.\n",
      "     |  \n",
      "     |  tf(self, term, text)\n",
      "     |      The frequency of the term in text.\n",
      "     |  \n",
      "     |  tf_idf(self, term, text)\n",
      "     |  \n",
      "     |  ----------------------------------------------------------------------\n",
      "     |  Methods inherited from Text:\n",
      "     |  \n",
      "     |  __getitem__(self, i)\n",
      "     |  \n",
      "     |  __len__(self)\n",
      "     |  \n",
      "     |  __repr__(self)\n",
      "     |      Return repr(self).\n",
      "     |  \n",
      "     |  __str__(self)\n",
      "     |      Return str(self).\n",
      "     |  \n",
      "     |  collocation_list(self, num=20, window_size=2)\n",
      "     |      Return collocations derived from the text, ignoring stopwords.\n",
      "     |      \n",
      "     |          >>> from nltk.book import text4\n",
      "     |          >>> text4.collocation_list()[:2]\n",
      "     |          [('United', 'States'), ('fellow', 'citizens')]\n",
      "     |      \n",
      "     |      :param num: The maximum number of collocations to return.\n",
      "     |      :type num: int\n",
      "     |      :param window_size: The number of tokens spanned by a collocation (default=2)\n",
      "     |      :type window_size: int\n",
      "     |      :rtype: list(tuple(str, str))\n",
      "     |  \n",
      "     |  collocations(self, num=20, window_size=2)\n",
      "     |      Print collocations derived from the text, ignoring stopwords.\n",
      "     |      \n",
      "     |          >>> from nltk.book import text4\n",
      "     |          >>> text4.collocations() # doctest: +NORMALIZE_WHITESPACE\n",
      "     |          United States; fellow citizens; years ago; four years; Federal\n",
      "     |          Government; General Government; American people; Vice President; God\n",
      "     |          bless; Chief Justice; one another; fellow Americans; Old World;\n",
      "     |          Almighty God; Fellow citizens; Chief Magistrate; every citizen; Indian\n",
      "     |          tribes; public debt; foreign nations\n",
      "     |      \n",
      "     |      \n",
      "     |      :param num: The maximum number of collocations to print.\n",
      "     |      :type num: int\n",
      "     |      :param window_size: The number of tokens spanned by a collocation (default=2)\n",
      "     |      :type window_size: int\n",
      "     |  \n",
      "     |  common_contexts(self, words, num=20)\n",
      "     |      Find contexts where the specified words appear; list\n",
      "     |      most frequent common contexts first.\n",
      "     |      \n",
      "     |      :param words: The words used to seed the similarity search\n",
      "     |      :type words: str\n",
      "     |      :param num: The number of words to generate (default=20)\n",
      "     |      :type num: int\n",
      "     |      :seealso: ContextIndex.common_contexts()\n",
      "     |  \n",
      "     |  concordance(self, word, width=79, lines=25)\n",
      "     |      Prints a concordance for ``word`` with the specified context window.\n",
      "     |      Word matching is not case-sensitive.\n",
      "     |      \n",
      "     |      :param word: The target word or phrase (a list of strings)\n",
      "     |      :type word: str or list\n",
      "     |      :param width: The width of each line, in characters (default=80)\n",
      "     |      :type width: int\n",
      "     |      :param lines: The number of lines to display (default=25)\n",
      "     |      :type lines: int\n",
      "     |      \n",
      "     |      :seealso: ``ConcordanceIndex``\n",
      "     |  \n",
      "     |  concordance_list(self, word, width=79, lines=25)\n",
      "     |      Generate a concordance for ``word`` with the specified context window.\n",
      "     |      Word matching is not case-sensitive.\n",
      "     |      \n",
      "     |      :param word: The target word or phrase (a list of strings)\n",
      "     |      :type word: str or list\n",
      "     |      :param width: The width of each line, in characters (default=80)\n",
      "     |      :type width: int\n",
      "     |      :param lines: The number of lines to display (default=25)\n",
      "     |      :type lines: int\n",
      "     |      \n",
      "     |      :seealso: ``ConcordanceIndex``\n",
      "     |  \n",
      "     |  count(self, word)\n",
      "     |      Count the number of times this word appears in the text.\n",
      "     |  \n",
      "     |  dispersion_plot(self, words)\n",
      "     |      Produce a plot showing the distribution of the words through the text.\n",
      "     |      Requires pylab to be installed.\n",
      "     |      \n",
      "     |      :param words: The words to be plotted\n",
      "     |      :type words: list(str)\n",
      "     |      :seealso: nltk.draw.dispersion_plot()\n",
      "     |  \n",
      "     |  findall(self, regexp)\n",
      "     |      Find instances of the regular expression in the text.\n",
      "     |      The text is a list of tokens, and a regexp pattern to match\n",
      "     |      a single token must be surrounded by angle brackets.  E.g.\n",
      "     |      \n",
      "     |      >>> from nltk.book import text1, text5, text9\n",
      "     |      >>> text5.findall(\"<.*><.*><bro>\")\n",
      "     |      you rule bro; telling you bro; u twizted bro\n",
      "     |      >>> text1.findall(\"<a>(<.*>)<man>\")\n",
      "     |      monied; nervous; dangerous; white; white; white; pious; queer; good;\n",
      "     |      mature; white; Cape; great; wise; wise; butterless; white; fiendish;\n",
      "     |      pale; furious; better; certain; complete; dismasted; younger; brave;\n",
      "     |      brave; brave; brave\n",
      "     |      >>> text9.findall(\"<th.*>{3,}\")\n",
      "     |      thread through those; the thought that; that the thing; the thing\n",
      "     |      that; that that thing; through these than through; them that the;\n",
      "     |      through the thick; them that they; thought that the\n",
      "     |      \n",
      "     |      :param regexp: A regular expression\n",
      "     |      :type regexp: str\n",
      "     |  \n",
      "     |  generate(self, length=100, text_seed=None, random_seed=42)\n",
      "     |      Print random text, generated using a trigram language model.\n",
      "     |      See also `help(nltk.lm)`.\n",
      "     |      \n",
      "     |      :param length: The length of text to generate (default=100)\n",
      "     |      :type length: int\n",
      "     |      \n",
      "     |      :param text_seed: Generation can be conditioned on preceding context.\n",
      "     |      :type text_seed: list(str)\n",
      "     |      \n",
      "     |      :param random_seed: A random seed or an instance of `random.Random`. If provided,\n",
      "     |          makes the random sampling part of generation reproducible. (default=42)\n",
      "     |      :type random_seed: int\n",
      "     |  \n",
      "     |  index(self, word)\n",
      "     |      Find the index of the first occurrence of the word in the text.\n",
      "     |  \n",
      "     |  plot(self, *args)\n",
      "     |      See documentation for FreqDist.plot()\n",
      "     |      :seealso: nltk.prob.FreqDist.plot()\n",
      "     |  \n",
      "     |  readability(self, method)\n",
      "     |  \n",
      "     |  similar(self, word, num=20)\n",
      "     |      Distributional similarity: find other words which appear in the\n",
      "     |      same contexts as the specified word; list most similar words first.\n",
      "     |      \n",
      "     |      :param word: The word used to seed the similarity search\n",
      "     |      :type word: str\n",
      "     |      :param num: The number of words to generate (default=20)\n",
      "     |      :type num: int\n",
      "     |      :seealso: ContextIndex.similar_words()\n",
      "     |  \n",
      "     |  vocab(self)\n",
      "     |      :seealso: nltk.prob.FreqDist\n",
      "     |  \n",
      "     |  ----------------------------------------------------------------------\n",
      "     |  Data descriptors inherited from Text:\n",
      "     |  \n",
      "     |  __dict__\n",
      "     |      dictionary for instance variables (if defined)\n",
      "     |  \n",
      "     |  __weakref__\n",
      "     |      list of weak references to the object (if defined)\n",
      "    \n",
      "    class TokenSearcher(builtins.object)\n",
      "     |  TokenSearcher(tokens)\n",
      "     |  \n",
      "     |  A class that makes it easier to use regular expressions to search\n",
      "     |  over tokenized strings.  The tokenized string is converted to a\n",
      "     |  string where tokens are marked with angle brackets -- e.g.,\n",
      "     |  ``'<the><window><is><still><open>'``.  The regular expression\n",
      "     |  passed to the ``findall()`` method is modified to treat angle\n",
      "     |  brackets as non-capturing parentheses, in addition to matching the\n",
      "     |  token boundaries; and to have ``'.'`` not match the angle brackets.\n",
      "     |  \n",
      "     |  Methods defined here:\n",
      "     |  \n",
      "     |  __init__(self, tokens)\n",
      "     |      Initialize self.  See help(type(self)) for accurate signature.\n",
      "     |  \n",
      "     |  findall(self, regexp)\n",
      "     |      Find instances of the regular expression in the text.\n",
      "     |      The text is a list of tokens, and a regexp pattern to match\n",
      "     |      a single token must be surrounded by angle brackets.  E.g.\n",
      "     |      \n",
      "     |      >>> from nltk.text import TokenSearcher\n",
      "     |      >>> from nltk.book import text1, text5, text9\n",
      "     |      >>> text5.findall(\"<.*><.*><bro>\")\n",
      "     |      you rule bro; telling you bro; u twizted bro\n",
      "     |      >>> text1.findall(\"<a>(<.*>)<man>\")\n",
      "     |      monied; nervous; dangerous; white; white; white; pious; queer; good;\n",
      "     |      mature; white; Cape; great; wise; wise; butterless; white; fiendish;\n",
      "     |      pale; furious; better; certain; complete; dismasted; younger; brave;\n",
      "     |      brave; brave; brave\n",
      "     |      >>> text9.findall(\"<th.*>{3,}\")\n",
      "     |      thread through those; the thought that; that the thing; the thing\n",
      "     |      that; that that thing; through these than through; them that the;\n",
      "     |      through the thick; them that they; thought that the\n",
      "     |      \n",
      "     |      :param regexp: A regular expression\n",
      "     |      :type regexp: str\n",
      "     |  \n",
      "     |  ----------------------------------------------------------------------\n",
      "     |  Data descriptors defined here:\n",
      "     |  \n",
      "     |  __dict__\n",
      "     |      dictionary for instance variables (if defined)\n",
      "     |  \n",
      "     |  __weakref__\n",
      "     |      list of weak references to the object (if defined)\n",
      "\n",
      "DATA\n",
      "    __all__ = ['ContextIndex', 'ConcordanceIndex', 'TokenSearcher', 'Text'...\n",
      "\n",
      "FILE\n",
      "    e:\\anaconda3\\envs\\deeplearn\\lib\\site-packages\\nltk\\text.py\n",
      "\n",
      "\n"
     ]
    }
   ],
   "source": [
    "help(nltk.text)"
   ],
   "metadata": {
    "collapsed": false,
    "ExecuteTime": {
     "start_time": "2023-06-02T11:55:43.400036Z",
     "end_time": "2023-06-02T11:55:43.473209Z"
    }
   }
  },
  {
   "cell_type": "code",
   "execution_count": 13,
   "outputs": [
    {
     "data": {
      "text/plain": "'Stopwords Corpus  This corpus contains lists of stop words for several languages.  These are high-frequency grammatical words which are usually ignored in text retrieval applications.  They were obtained from: http://anoncvs.postgresql.org/cvsweb.cgi/pgsql/src/backend/snowball/stopwords/  The stop words for the Romanian language were obtained from: http://arlc.ro/resources/  The English list has been augmented https://github.com/nltk/nltk_data/issues/22  The German list has been corrected https://github.com/nltk/nltk_data/pull/49  A Kazakh list has been added https://github.com/nltk/nltk_data/pull/52  A Nepali list has been added https://github.com/nltk/nltk_data/pull/83  An Azerbaijani list has been added https://github.com/nltk/nltk_data/pull/100  A Greek list has been added https://github.com/nltk/nltk_data/pull/103  An Indonesian list has been added https://github.com/nltk/nltk_data/pull/112 '"
     },
     "execution_count": 13,
     "metadata": {},
     "output_type": "execute_result"
    }
   ],
   "source": [
    "# 停用词(对文件影响小的词语)\n",
    "from nltk.corpus import stopwords\n",
    "stopwords.readme().replace('\\n',' ')"
   ],
   "metadata": {
    "collapsed": false,
    "ExecuteTime": {
     "start_time": "2023-06-02T11:55:43.414037Z",
     "end_time": "2023-06-02T11:55:43.482208Z"
    }
   }
  },
  {
   "cell_type": "code",
   "execution_count": 14,
   "outputs": [
    {
     "data": {
      "text/plain": "['arabic',\n 'azerbaijani',\n 'basque',\n 'bengali',\n 'catalan',\n 'chinese',\n 'danish',\n 'dutch',\n 'english',\n 'finnish',\n 'french',\n 'german',\n 'greek',\n 'hebrew',\n 'hinglish',\n 'hungarian',\n 'indonesian',\n 'italian',\n 'kazakh',\n 'nepali',\n 'norwegian',\n 'portuguese',\n 'romanian',\n 'russian',\n 'slovene',\n 'spanish',\n 'swedish',\n 'tajik',\n 'turkish']"
     },
     "execution_count": 14,
     "metadata": {},
     "output_type": "execute_result"
    }
   ],
   "source": [
    "stopwords.fileids()"
   ],
   "metadata": {
    "collapsed": false,
    "ExecuteTime": {
     "start_time": "2023-06-02T11:55:43.431035Z",
     "end_time": "2023-06-02T11:55:43.483209Z"
    }
   }
  },
  {
   "cell_type": "code",
   "execution_count": 15,
   "outputs": [
    {
     "data": {
      "text/plain": "\"i me my myself we our ours ourselves you you're you've you'll you'd your yours yourself yourselves he him his himself she she's her hers herself it it's its itself they them their theirs themselves what which who whom this that that'll these those am is are was were be been being have has had having do does did doing a an the and but if or because as until while of at by for with about against between into through during before after above below to from up down in out on off over under again further then once here there when where why how all any both each few more most other some such no nor not only own same so than too very s t can will just don don't should should've now d ll m o re ve y ain aren aren't couldn couldn't didn didn't doesn doesn't hadn hadn't hasn hasn't haven haven't isn isn't ma mightn mightn't mustn mustn't needn needn't shan shan't shouldn shouldn't wasn wasn't weren weren't won won't wouldn wouldn't \""
     },
     "execution_count": 15,
     "metadata": {},
     "output_type": "execute_result"
    }
   ],
   "source": [
    "stopwords.raw('english').replace('\\n',' ')"
   ],
   "metadata": {
    "collapsed": false,
    "ExecuteTime": {
     "start_time": "2023-06-02T11:55:43.445335Z",
     "end_time": "2023-06-02T11:55:43.483209Z"
    }
   }
  },
  {
   "cell_type": "code",
   "execution_count": 16,
   "outputs": [
    {
     "data": {
      "text/plain": "{\"'s\",\n ',',\n '.',\n 'afternoon',\n 'and',\n 'basketball',\n 'classes',\n 'good',\n 'have',\n 'in',\n 'is',\n 'no',\n 'play',\n 'sunny',\n 'the',\n 'to',\n 'today',\n 'tomorrow',\n 'very',\n 'we',\n 'weather',\n 'windy'}"
     },
     "execution_count": 16,
     "metadata": {},
     "output_type": "execute_result"
    }
   ],
   "source": [
    "test_words = [word.lower() for word in tokens]\n",
    "test_words_set = set(test_words)\n",
    "test_words_set"
   ],
   "metadata": {
    "collapsed": false,
    "ExecuteTime": {
     "start_time": "2023-06-02T11:55:43.460690Z",
     "end_time": "2023-06-02T11:55:43.483209Z"
    }
   }
  },
  {
   "cell_type": "code",
   "execution_count": 17,
   "outputs": [
    {
     "data": {
      "text/plain": "{'and', 'have', 'in', 'is', 'no', 'the', 'to', 'very', 'we'}"
     },
     "execution_count": 17,
     "metadata": {},
     "output_type": "execute_result"
    }
   ],
   "source": [
    "test_words_set.intersection(set(stopwords.words('english')))"
   ],
   "metadata": {
    "collapsed": false,
    "ExecuteTime": {
     "start_time": "2023-06-02T11:55:43.476200Z",
     "end_time": "2023-06-02T11:55:43.491253Z"
    }
   }
  },
  {
   "cell_type": "code",
   "execution_count": 18,
   "outputs": [
    {
     "data": {
      "text/plain": "['play',\n \"'s\",\n 'good',\n ',',\n '.',\n 'tomorrow',\n 'afternoon',\n 'weather',\n 'sunny',\n 'classes',\n 'today',\n 'windy',\n 'basketball']"
     },
     "execution_count": 18,
     "metadata": {},
     "output_type": "execute_result"
    }
   ],
   "source": [
    "# 过滤停用词\n",
    "filter1 = [w for w in test_words_set if (w not in stopwords.words('english'))]\n",
    "filter1"
   ],
   "metadata": {
    "collapsed": false,
    "ExecuteTime": {
     "start_time": "2023-06-02T11:55:43.491253Z",
     "end_time": "2023-06-02T11:55:43.566238Z"
    }
   }
  },
  {
   "cell_type": "code",
   "execution_count": 19,
   "outputs": [
    {
     "data": {
      "text/plain": "[('today', 'NN'),\n (\"'s\", 'POS'),\n ('weather', 'NN'),\n ('is', 'VBZ'),\n ('good', 'JJ'),\n (',', ','),\n ('very', 'RB'),\n ('windy', 'JJ'),\n ('and', 'CC'),\n ('sunny', 'JJ'),\n (',', ','),\n ('we', 'PRP'),\n ('have', 'VBP'),\n ('no', 'DT'),\n ('classes', 'NNS'),\n ('in', 'IN'),\n ('the', 'DT'),\n ('afternoon', 'NN'),\n (',', ','),\n ('we', 'PRP'),\n ('have', 'VBP'),\n ('to', 'TO'),\n ('play', 'VB'),\n ('basketball', 'NN'),\n ('tomorrow', 'NN'),\n ('.', '.')]"
     },
     "execution_count": 19,
     "metadata": {},
     "output_type": "execute_result"
    }
   ],
   "source": [
    "# 词性标注\n",
    "from nltk import pos_tag\n",
    "tags = pos_tag(tokens)\n",
    "tags"
   ],
   "metadata": {
    "collapsed": false,
    "ExecuteTime": {
     "start_time": "2023-06-02T11:55:43.507540Z",
     "end_time": "2023-06-02T11:55:43.632245Z"
    }
   }
  },
  {
   "cell_type": "code",
   "execution_count": 20,
   "outputs": [],
   "source": [
    "# 分块\n",
    "from nltk.chunk import RegexpChunkParser"
   ],
   "metadata": {
    "collapsed": false,
    "ExecuteTime": {
     "start_time": "2023-06-02T11:55:43.633245Z",
     "end_time": "2023-06-02T11:55:43.675764Z"
    }
   }
  },
  {
   "cell_type": "code",
   "execution_count": 21,
   "outputs": [
    {
     "name": "stdout",
     "output_type": "stream",
     "text": [
      "(S (MY_NP the/DT little/JJ yellow/JJ dog/NN) died/VBD)\n"
     ]
    }
   ],
   "source": [
    "sentence = [('the','DT'),('little','JJ'),('yellow','JJ'),('dog','NN'),('died','VBD')]\n",
    "grammar = \"MY_NP: {<DT>?<JJ>*<NN>}\"\n",
    "cp = nltk.RegexpParser(grammar) # 生成规则\n",
    "result = cp.parse(sentence) #进行分块\n",
    "print(result)\n",
    "\n",
    "result.draw() #调用matplotlib库画出来"
   ],
   "metadata": {
    "collapsed": false,
    "ExecuteTime": {
     "start_time": "2023-06-02T11:55:43.647245Z",
     "end_time": "2023-06-02T11:55:46.105011Z"
    }
   }
  },
  {
   "cell_type": "code",
   "execution_count": 22,
   "outputs": [
    {
     "name": "stdout",
     "output_type": "stream",
     "text": [
      "(S\n",
      "  (PERSON Edison/NNP)\n",
      "  went/VBD\n",
      "  to/TO\n",
      "  (ORGANIZATION Tsinghua/NNP University/NNP)\n",
      "  today/NN\n",
      "  ./.)\n"
     ]
    }
   ],
   "source": [
    "# 命名实体识别 P9\n",
    "from nltk import ne_chunk\n",
    "sentence = \"Edison went to Tsinghua University today.\"\n",
    "print(ne_chunk(pos_tag(word_tokenize(sentence))))"
   ],
   "metadata": {
    "collapsed": false,
    "ExecuteTime": {
     "start_time": "2023-06-02T11:55:46.097058Z",
     "end_time": "2023-06-02T11:55:46.174782Z"
    }
   }
  },
  {
   "cell_type": "code",
   "execution_count": 23,
   "outputs": [
    {
     "name": "stdout",
     "output_type": "stream",
     "text": [
      "原始数据：   RT @Aminla #Test\n",
      "Tom's newly listed Co  &amp; Mary's unlisted   Group to supply tech for n1TK.\n",
      "h $TSLA $AAPL http:// t.co/x34afs \n",
      "\n",
      "去掉特殊标签后的:    RT  \n",
      "Tom's newly listed Co   Mary's unlisted   Group to supply tech for n1TK.\n",
      "h $TSLA $AAPL http:// t.co/x34afs \n",
      "\n",
      "去掉价值符号后的：   RT  \n",
      "Tom's newly listed Co   Mary's unlisted   Group to supply tech for n1TK.\n",
      "h   http:// t.co/x34afs \n",
      "\n",
      "去掉超链接后的:    RT  \n",
      "Tom's newly listed Co   Mary's unlisted   Group to supply tech for n1TK.\n",
      "h    \n",
      "\n",
      "去掉专门名词缩写后:      \n",
      "Tom' newly listed    Mary' unlisted   Group  supply tech for n1TK.\n",
      "    \n",
      "\n",
      "去掉空格后：  Tom' newly listed Mary' unlisted Group supply tech for n1TK.  \n",
      "\n",
      "分词结果： ['Tom', \"'\", 'newly', 'listed', 'Mary', \"'\", 'unlisted', 'Group', 'supply', 'tech', 'for', 'n1TK', '.'] \n",
      "\n",
      "去停用词后结果： ['Tom', \"'\", 'newly', 'listed', 'Mary', \"'\", 'unlisted', 'Group', 'supply', 'tech', 'n1TK', '.'] \n",
      "\n",
      "过滤后： Tom ' newly listed Mary ' unlisted Group supply tech n1TK .\n"
     ]
    }
   ],
   "source": [
    "# 数据清洗实例\n",
    "import re\n",
    "from nltk.corpus import stopwords\n",
    "# 输入数据\n",
    "s = '  RT @Aminla #Test\\nTom\\'s newly listed Co  &amp; Mary\\'s unlisted   Group to supply tech for n1TK.\\nh $TSLA $AAPL http:// t.co/x34afs'\n",
    "# 指定停用词\n",
    "cache_english_stopwords = stopwords.words('english')\n",
    "\n",
    "def text_clean(text):\n",
    "    print('原始数据：', text, '\\n')\n",
    "\n",
    "    # 去掉HTML标签(e.g. &amp;)\n",
    "    text_no_special_entities = re.sub(r'\\&\\w*;|#\\w*|@\\w*','',text)\n",
    "    print('去掉特殊标签后的: ', text_no_special_entities, '\\n')\n",
    "\n",
    "    # 去掉一些价值符号\n",
    "    text_no_tickers = re.sub(r'\\$\\w*','',text_no_special_entities)\n",
    "    print('去掉价值符号后的：', text_no_tickers, '\\n')\n",
    "\n",
    "    # 去掉超链接\n",
    "    text_no_hyperlinks = re.sub(r'http?:\\/\\/.*\\/\\w*','',text_no_tickers)\n",
    "    print('去掉超链接后的: ', text_no_hyperlinks, '\\n')\n",
    "\n",
    "    # 去掉一些专门名词缩写，简单来说就是字母比较少的词\n",
    "    text_no_small_words = re.sub(r'\\b\\w{1,2}\\b','', text_no_hyperlinks)\n",
    "    print('去掉专门名词缩写后: ',text_no_small_words, '\\n')\n",
    "\n",
    "    # 去掉多余的空格\n",
    "    text_no_whitespace = re.sub(r'\\s\\s+',' ',text_no_small_words)\n",
    "    text_no_whitespace = text_no_whitespace.lstrip(' ')\n",
    "    print('去掉空格后： ', text_no_whitespace, '\\n')\n",
    "\n",
    "    # 分词\n",
    "    tokens = word_tokenize(text_no_whitespace)\n",
    "    print('分词结果：', tokens, '\\n')\n",
    "\n",
    "    # 去停用词\n",
    "    list_no_stopwords = [i for i in tokens if i not in cache_english_stopwords]\n",
    "    print('去停用词后结果：', list_no_stopwords,'\\n')\n",
    "\n",
    "    # 过滤后结果\n",
    "    text_filtered = ' '.join(list_no_stopwords)\n",
    "    print('过滤后：', text_filtered)\n",
    "\n",
    "text_clean(s)"
   ],
   "metadata": {
    "collapsed": false,
    "ExecuteTime": {
     "start_time": "2023-06-02T11:55:46.177020Z",
     "end_time": "2023-06-02T11:55:46.217814Z"
    }
   }
  },
  {
   "cell_type": "code",
   "execution_count": 24,
   "outputs": [
    {
     "name": "stderr",
     "output_type": "stream",
     "text": [
      "[nltk_data] Downloading package treebank to\n",
      "[nltk_data]     C:\\Users\\ASUS\\AppData\\Roaming\\nltk_data...\n",
      "[nltk_data]   Package treebank is already up-to-date!\n"
     ]
    },
    {
     "data": {
      "text/plain": "True"
     },
     "execution_count": 24,
     "metadata": {},
     "output_type": "execute_result"
    }
   ],
   "source": [
    "nltk.download('treebank')"
   ],
   "metadata": {
    "collapsed": false,
    "ExecuteTime": {
     "start_time": "2023-06-02T11:55:46.189830Z",
     "end_time": "2023-06-02T11:55:46.906983Z"
    }
   }
  },
  {
   "cell_type": "code",
   "execution_count": 25,
   "outputs": [
    {
     "name": "stdout",
     "output_type": "stream",
     "text": [
      "*** Introductory Examples for the NLTK Book ***\n",
      "Loading text1, ..., text9 and sent1, ..., sent9\n",
      "Type the name of the text or sentence to view it.\n",
      "Type: 'texts()' or 'sents()' to list the materials.\n",
      "text1: Moby Dick by Herman Melville 1851\n",
      "text2: Sense and Sensibility by Jane Austen 1811\n",
      "text3: The Book of Genesis\n",
      "text4: Inaugural Address Corpus\n",
      "text5: Chat Corpus\n",
      "text6: Monty Python and the Holy Grail\n",
      "text7: Wall Street Journal\n",
      "text8: Personals Corpus\n",
      "text9: The Man Who Was Thursday by G . K . Chesterton 1908\n"
     ]
    }
   ],
   "source": [
    "from nltk.book import *"
   ],
   "metadata": {
    "collapsed": false,
    "ExecuteTime": {
     "start_time": "2023-06-02T11:55:46.906983Z",
     "end_time": "2023-06-02T11:55:50.452394Z"
    }
   }
  },
  {
   "cell_type": "code",
   "execution_count": 26,
   "outputs": [
    {
     "data": {
      "text/plain": "<Text: Moby Dick by Herman Melville 1851>"
     },
     "execution_count": 26,
     "metadata": {},
     "output_type": "execute_result"
    }
   ],
   "source": [
    "text1"
   ],
   "metadata": {
    "collapsed": false,
    "ExecuteTime": {
     "start_time": "2023-06-02T11:55:50.450999Z",
     "end_time": "2023-06-02T11:55:50.511532Z"
    }
   }
  },
  {
   "cell_type": "code",
   "execution_count": 27,
   "outputs": [
    {
     "name": "stdout",
     "output_type": "stream",
     "text": [
      "Displaying 11 of 11 matches:\n",
      "ong the former , one was of a most monstrous size . ... This came towards us , \n",
      "ON OF THE PSALMS . \" Touching that monstrous bulk of the whale or ork we have r\n",
      "ll over with a heathenish array of monstrous clubs and spears . Some were thick\n",
      "d as you gazed , and wondered what monstrous cannibal and savage could ever hav\n",
      "that has survived the flood ; most monstrous and most mountainous ! That Himmal\n",
      "they might scout at Moby Dick as a monstrous fable , or still worse and more de\n",
      "th of Radney .'\" CHAPTER 55 Of the Monstrous Pictures of Whales . I shall ere l\n",
      "ing Scenes . In connexion with the monstrous pictures of whales , I am strongly\n",
      "ere to enter upon those still more monstrous stories of them which are to be fo\n",
      "ght have been rummaged out of this monstrous cabinet there is no telling . But \n",
      "of Whale - Bones ; for Whales of a monstrous size are oftentimes cast up dead u\n"
     ]
    }
   ],
   "source": [
    "# 搜索文本中单词\n",
    "text1.concordance(\"monstrous\")"
   ],
   "metadata": {
    "collapsed": false,
    "ExecuteTime": {
     "start_time": "2023-06-02T11:55:50.468124Z",
     "end_time": "2023-06-02T11:55:50.572166Z"
    }
   }
  },
  {
   "cell_type": "code",
   "execution_count": 28,
   "outputs": [
    {
     "name": "stdout",
     "output_type": "stream",
     "text": [
      "Displaying 25 of 79 matches:\n",
      ", however , and , as a mark of his affection for the three girls , he left them\n",
      "t . It was very well known that no affection was ever supposed to exist between\n",
      "deration of politeness or maternal affection on the side of the former , the tw\n",
      "d the suspicion -- the hope of his affection for me may warrant , without impru\n",
      "hich forbade the indulgence of his affection . She knew that his mother neither\n",
      "rd she gave one with still greater affection . Though her late conversation wit\n",
      " can never hope to feel or inspire affection again , and if her home be uncomfo\n",
      "m of the sense , elegance , mutual affection , and domestic comfort of the fami\n",
      ", and which recommended him to her affection beyond every thing else . His soci\n",
      "ween the parties might forward the affection of Mr . Willoughby , an equally st\n",
      " the most pointed assurance of her affection . Elinor could not be surprised at\n",
      "he natural consequence of a strong affection in a young and ardent mind . This \n",
      " opinion . But by an appeal to her affection for her mother , by representing t\n",
      " every alteration of a place which affection had established as perfect with hi\n",
      "e will always have one claim of my affection , which no other can possibly shar\n",
      "f the evening declared at once his affection and happiness . \" Shall we see you\n",
      "ause he took leave of us with less affection than his usual behaviour has shewn\n",
      "ness .\" \" I want no proof of their affection ,\" said Elinor ; \" but of their en\n",
      "onths , without telling her of his affection ;-- that they should part without \n",
      "ould be the natural result of your affection for her . She used to be all unres\n",
      "distinguished Elinor by no mark of affection . Marianne saw and listened with i\n",
      "th no inclination for expense , no affection for strangers , no profession , an\n",
      "till distinguished her by the same affection which once she had felt no doubt o\n",
      "al of her confidence in Edward ' s affection , to the remembrance of every mark\n",
      " was made ? Had he never owned his affection to yourself ?\" \" Oh , no ; but if \n"
     ]
    }
   ],
   "source": [
    "text2.concordance(\"affection\")"
   ],
   "metadata": {
    "collapsed": false,
    "ExecuteTime": {
     "start_time": "2023-06-02T11:55:50.543217Z",
     "end_time": "2023-06-02T11:55:50.594079Z"
    }
   }
  },
  {
   "cell_type": "code",
   "execution_count": 29,
   "outputs": [
    {
     "name": "stdout",
     "output_type": "stream",
     "text": [
      "true contemptible christian abundant few part mean careful puzzled\n",
      "mystifying passing curious loving wise doleful gamesome singular\n",
      "delightfully perilous fearless\n"
     ]
    }
   ],
   "source": [
    "# 文本中和下列单词类似的单词\n",
    "text1.similar(\"monstrous\")"
   ],
   "metadata": {
    "collapsed": false,
    "ExecuteTime": {
     "start_time": "2023-06-02T11:55:50.589080Z",
     "end_time": "2023-06-02T11:55:51.652451Z"
    }
   }
  },
  {
   "cell_type": "code",
   "execution_count": 30,
   "outputs": [
    {
     "name": "stdout",
     "output_type": "stream",
     "text": [
      "very so exceedingly heartily a as good great extremely remarkably\n",
      "sweet vast amazingly\n"
     ]
    }
   ],
   "source": [
    "text2.similar(\"monstrous\")"
   ],
   "metadata": {
    "collapsed": false,
    "ExecuteTime": {
     "start_time": "2023-06-02T11:55:51.653453Z",
     "end_time": "2023-06-02T11:55:52.226779Z"
    }
   }
  },
  {
   "cell_type": "code",
   "execution_count": 31,
   "outputs": [
    {
     "name": "stdout",
     "output_type": "stream",
     "text": [
      "am_glad a_pretty a_lucky is_pretty be_glad\n"
     ]
    }
   ],
   "source": [
    "text2.common_contexts([\"monstrous\", \"very\"])"
   ],
   "metadata": {
    "collapsed": false,
    "ExecuteTime": {
     "start_time": "2023-06-02T11:55:52.226779Z",
     "end_time": "2023-06-02T11:55:52.270408Z"
    }
   }
  },
  {
   "cell_type": "code",
   "execution_count": 32,
   "outputs": [
    {
     "data": {
      "text/plain": "<Figure size 640x480 with 1 Axes>",
      "image/png": "[encoded data removed]"
     },
     "metadata": {},
     "output_type": "display_data"
    }
   ],
   "source": [
    "text4.dispersion_plot([\"citizens\", \"democracy\", \"freedom\", \"duties\", \"America\"])"
   ],
   "metadata": {
    "collapsed": false,
    "ExecuteTime": {
     "start_time": "2023-06-02T11:55:52.243505Z",
     "end_time": "2023-06-02T11:55:52.384858Z"
    }
   }
  },
  {
   "cell_type": "code",
   "execution_count": 33,
   "outputs": [
    {
     "name": "stderr",
     "output_type": "stream",
     "text": [
      "Building ngram index...\n"
     ]
    },
    {
     "name": "stdout",
     "output_type": "stream",
     "text": [
      "laid by her , and said unto Cain , Where art thou , and said , Go to ,\n",
      "I will not do it for ten ' s sons ; we dreamed each man according to\n",
      "their generatio the firstborn said unto Laban , Because I said , Nay ,\n",
      "but Sarah shall her name be . , duke Elah , duke Shobal , and Akan .\n",
      "and looked upon my affliction . Bashemath Ishmael ' s blood , but Isra\n",
      "for as a prince hast thou found of all the cattle in the valley , and\n",
      "the wo The\n"
     ]
    },
    {
     "data": {
      "text/plain": "\"laid by her , and said unto Cain , Where art thou , and said , Go to ,\\nI will not do it for ten ' s sons ; we dreamed each man according to\\ntheir generatio the firstborn said unto Laban , Because I said , Nay ,\\nbut Sarah shall her name be . , duke Elah , duke Shobal , and Akan .\\nand looked upon my affliction . Bashemath Ishmael ' s blood , but Isra\\nfor as a prince hast thou found of all the cattle in the valley , and\\nthe wo The\""
     },
     "execution_count": 33,
     "metadata": {},
     "output_type": "execute_result"
    }
   ],
   "source": [
    "# 产生随机文本\n",
    "text3.generate()"
   ],
   "metadata": {
    "collapsed": false,
    "ExecuteTime": {
     "start_time": "2023-06-02T11:55:52.382857Z",
     "end_time": "2023-06-02T11:55:53.135060Z"
    }
   }
  },
  {
   "cell_type": "code",
   "execution_count": 34,
   "outputs": [
    {
     "data": {
      "text/plain": "44764"
     },
     "execution_count": 34,
     "metadata": {},
     "output_type": "execute_result"
    }
   ],
   "source": [
    "# 计数词汇\n",
    "len(text3)"
   ],
   "metadata": {
    "collapsed": false,
    "ExecuteTime": {
     "start_time": "2023-06-02T11:57:34.077779Z",
     "end_time": "2023-06-02T11:57:34.114251Z"
    }
   }
  },
  {
   "cell_type": "code",
   "execution_count": 35,
   "outputs": [
    {
     "data": {
      "text/plain": "['!',\n \"'\",\n '(',\n ')',\n ',',\n ',)',\n '.',\n '.)',\n ':',\n ';',\n ';)',\n '?',\n '?)',\n 'A',\n 'Abel',\n 'Abelmizraim',\n 'Abidah',\n 'Abide',\n 'Abimael',\n 'Abimelech',\n 'Abr',\n 'Abrah',\n 'Abraham',\n 'Abram',\n 'Accad',\n 'Achbor',\n 'Adah',\n 'Adam',\n 'Adbeel',\n 'Admah',\n 'Adullamite',\n 'After',\n 'Aholibamah',\n 'Ahuzzath',\n 'Ajah',\n 'Akan',\n 'All',\n 'Allonbachuth',\n 'Almighty',\n 'Almodad',\n 'Also',\n 'Alvah',\n 'Alvan',\n 'Am',\n 'Amal',\n 'Amalek',\n 'Amalekites',\n 'Ammon',\n 'Amorite',\n 'Amorites',\n 'Amraphel',\n 'An',\n 'Anah',\n 'Anamim',\n 'And',\n 'Aner',\n 'Angel',\n 'Appoint',\n 'Aram',\n 'Aran',\n 'Ararat',\n 'Arbah',\n 'Ard',\n 'Are',\n 'Areli',\n 'Arioch',\n 'Arise',\n 'Arkite',\n 'Arodi',\n 'Arphaxad',\n 'Art',\n 'Arvadite',\n 'As',\n 'Asenath',\n 'Ashbel',\n 'Asher',\n 'Ashkenaz',\n 'Ashteroth',\n 'Ask',\n 'Asshur',\n 'Asshurim',\n 'Assyr',\n 'Assyria',\n 'At',\n 'Atad',\n 'Avith',\n 'Baalhanan',\n 'Babel',\n 'Bashemath',\n 'Be',\n 'Because',\n 'Becher',\n 'Bedad',\n 'Beeri',\n 'Beerlahairoi',\n 'Beersheba',\n 'Behold',\n 'Bela',\n 'Belah',\n 'Benam',\n 'Benjamin',\n 'Beno',\n 'Beor',\n 'Bera',\n 'Bered',\n 'Beriah',\n 'Bethel',\n 'Bethlehem',\n 'Bethuel',\n 'Beware',\n 'Bilhah',\n 'Bilhan',\n 'Binding',\n 'Birsha',\n 'Bless',\n 'Blessed',\n 'Both',\n 'Bow',\n 'Bozrah',\n 'Bring',\n 'But',\n 'Buz',\n 'By',\n 'Cain',\n 'Cainan',\n 'Calah',\n 'Calneh',\n 'Can',\n 'Cana',\n 'Canaan',\n 'Canaanite',\n 'Canaanites',\n 'Canaanitish',\n 'Caphtorim',\n 'Carmi',\n 'Casluhim',\n 'Cast',\n 'Cause',\n 'Chaldees',\n 'Chedorlaomer',\n 'Cheran',\n 'Cherubims',\n 'Chesed',\n 'Chezib',\n 'Come',\n 'Cursed',\n 'Cush',\n 'Damascus',\n 'Dan',\n 'Day',\n 'Deborah',\n 'Dedan',\n 'Deliver',\n 'Diklah',\n 'Din',\n 'Dinah',\n 'Dinhabah',\n 'Discern',\n 'Dishan',\n 'Dishon',\n 'Do',\n 'Dodanim',\n 'Dothan',\n 'Drink',\n 'Duke',\n 'Dumah',\n 'Earth',\n 'Ebal',\n 'Eber',\n 'Edar',\n 'Eden',\n 'Edom',\n 'Edomites',\n 'Egy',\n 'Egypt',\n 'Egyptia',\n 'Egyptian',\n 'Egyptians',\n 'Ehi',\n 'Elah',\n 'Elam',\n 'Elbethel',\n 'Eldaah',\n 'EleloheIsrael',\n 'Eliezer',\n 'Eliphaz',\n 'Elishah',\n 'Ellasar',\n 'Elon',\n 'Elparan',\n 'Emins',\n 'En',\n 'Enmishpat',\n 'Eno',\n 'Enoch',\n 'Enos',\n 'Ephah',\n 'Epher',\n 'Ephra',\n 'Ephraim',\n 'Ephrath',\n 'Ephron',\n 'Er',\n 'Erech',\n 'Eri',\n 'Es',\n 'Esau',\n 'Escape',\n 'Esek',\n 'Eshban',\n 'Eshcol',\n 'Ethiopia',\n 'Euphrat',\n 'Euphrates',\n 'Eve',\n 'Even',\n 'Every',\n 'Except',\n 'Ezbon',\n 'Ezer',\n 'Fear',\n 'Feed',\n 'Fifteen',\n 'Fill',\n 'For',\n 'Forasmuch',\n 'Forgive',\n 'From',\n 'Fulfil',\n 'G',\n 'Gad',\n 'Gaham',\n 'Galeed',\n 'Gatam',\n 'Gather',\n 'Gaza',\n 'Gentiles',\n 'Gera',\n 'Gerar',\n 'Gershon',\n 'Get',\n 'Gether',\n 'Gihon',\n 'Gilead',\n 'Girgashites',\n 'Girgasite',\n 'Give',\n 'Go',\n 'God',\n 'Gomer',\n 'Gomorrah',\n 'Goshen',\n 'Guni',\n 'Hadad',\n 'Hadar',\n 'Hadoram',\n 'Hagar',\n 'Haggi',\n 'Hai',\n 'Ham',\n 'Hamathite',\n 'Hamor',\n 'Hamul',\n 'Hanoch',\n 'Happy',\n 'Haran',\n 'Hast',\n 'Haste',\n 'Have',\n 'Havilah',\n 'Hazarmaveth',\n 'Hazezontamar',\n 'Hazo',\n 'He',\n 'Hear',\n 'Heaven',\n 'Heber',\n 'Hebrew',\n 'Hebrews',\n 'Hebron',\n 'Hemam',\n 'Hemdan',\n 'Here',\n 'Hereby',\n 'Heth',\n 'Hezron',\n 'Hiddekel',\n 'Hinder',\n 'Hirah',\n 'His',\n 'Hitti',\n 'Hittite',\n 'Hittites',\n 'Hivite',\n 'Hobah',\n 'Hori',\n 'Horite',\n 'Horites',\n 'How',\n 'Hul',\n 'Huppim',\n 'Husham',\n 'Hushim',\n 'Huz',\n 'I',\n 'If',\n 'In',\n 'Irad',\n 'Iram',\n 'Is',\n 'Isa',\n 'Isaac',\n 'Iscah',\n 'Ishbak',\n 'Ishmael',\n 'Ishmeelites',\n 'Ishuah',\n 'Isra',\n 'Israel',\n 'Issachar',\n 'Isui',\n 'It',\n 'Ithran',\n 'Jaalam',\n 'Jabal',\n 'Jabbok',\n 'Jac',\n 'Jachin',\n 'Jacob',\n 'Jahleel',\n 'Jahzeel',\n 'Jamin',\n 'Japhe',\n 'Japheth',\n 'Jared',\n 'Javan',\n 'Jebusite',\n 'Jebusites',\n 'Jegarsahadutha',\n 'Jehovahjireh',\n 'Jemuel',\n 'Jerah',\n 'Jetheth',\n 'Jetur',\n 'Jeush',\n 'Jezer',\n 'Jidlaph',\n 'Jimnah',\n 'Job',\n 'Jobab',\n 'Jokshan',\n 'Joktan',\n 'Jordan',\n 'Joseph',\n 'Jubal',\n 'Judah',\n 'Judge',\n 'Judith',\n 'Kadesh',\n 'Kadmonites',\n 'Karnaim',\n 'Kedar',\n 'Kedemah',\n 'Kemuel',\n 'Kenaz',\n 'Kenites',\n 'Kenizzites',\n 'Keturah',\n 'Kiriathaim',\n 'Kirjatharba',\n 'Kittim',\n 'Know',\n 'Kohath',\n 'Kor',\n 'Korah',\n 'LO',\n 'LORD',\n 'Laban',\n 'Lahairoi',\n 'Lamech',\n 'Lasha',\n 'Lay',\n 'Leah',\n 'Lehabim',\n 'Lest',\n 'Let',\n 'Letushim',\n 'Leummim',\n 'Levi',\n 'Lie',\n 'Lift',\n 'Lo',\n 'Look',\n 'Lot',\n 'Lotan',\n 'Lud',\n 'Ludim',\n 'Luz',\n 'Maachah',\n 'Machir',\n 'Machpelah',\n 'Madai',\n 'Magdiel',\n 'Magog',\n 'Mahalaleel',\n 'Mahalath',\n 'Mahanaim',\n 'Make',\n 'Malchiel',\n 'Male',\n 'Mam',\n 'Mamre',\n 'Man',\n 'Manahath',\n 'Manass',\n 'Manasseh',\n 'Mash',\n 'Masrekah',\n 'Massa',\n 'Matred',\n 'Me',\n 'Medan',\n 'Mehetabel',\n 'Mehujael',\n 'Melchizedek',\n 'Merari',\n 'Mesha',\n 'Meshech',\n 'Mesopotamia',\n 'Methusa',\n 'Methusael',\n 'Methuselah',\n 'Mezahab',\n 'Mibsam',\n 'Mibzar',\n 'Midian',\n 'Midianites',\n 'Milcah',\n 'Mishma',\n 'Mizpah',\n 'Mizraim',\n 'Mizz',\n 'Moab',\n 'Moabites',\n 'Moreh',\n 'Moreover',\n 'Moriah',\n 'Muppim',\n 'My',\n 'Naamah',\n 'Naaman',\n 'Nahath',\n 'Nahor',\n 'Naphish',\n 'Naphtali',\n 'Naphtuhim',\n 'Nay',\n 'Nebajoth',\n 'Neither',\n 'Night',\n 'Nimrod',\n 'Nineveh',\n 'Noah',\n 'Nod',\n 'Not',\n 'Now',\n 'O',\n 'Obal',\n 'Of',\n 'Oh',\n 'Ohad',\n 'Omar',\n 'On',\n 'Onam',\n 'Onan',\n 'Only',\n 'Ophir',\n 'Our',\n 'Out',\n 'Padan',\n 'Padanaram',\n 'Paran',\n 'Pass',\n 'Pathrusim',\n 'Pau',\n 'Peace',\n 'Peleg',\n 'Peniel',\n 'Penuel',\n 'Peradventure',\n 'Perizzit',\n 'Perizzite',\n 'Perizzites',\n 'Phallu',\n 'Phara',\n 'Pharaoh',\n 'Pharez',\n 'Phichol',\n 'Philistim',\n 'Philistines',\n 'Phut',\n 'Phuvah',\n 'Pildash',\n 'Pinon',\n 'Pison',\n 'Potiphar',\n 'Potipherah',\n 'Put',\n 'Raamah',\n 'Rachel',\n 'Rameses',\n 'Rebek',\n 'Rebekah',\n 'Rehoboth',\n 'Remain',\n 'Rephaims',\n 'Resen',\n 'Return',\n 'Reu',\n 'Reub',\n 'Reuben',\n 'Reuel',\n 'Reumah',\n 'Riphath',\n 'Rosh',\n 'Sabtah',\n 'Sabtech',\n 'Said',\n 'Salah',\n 'Salem',\n 'Samlah',\n 'Sarah',\n 'Sarai',\n 'Saul',\n 'Save',\n 'Say',\n 'Se',\n 'Seba',\n 'See',\n 'Seeing',\n 'Seir',\n 'Sell',\n 'Send',\n 'Sephar',\n 'Serah',\n 'Sered',\n 'Serug',\n 'Set',\n 'Seth',\n 'Shalem',\n 'Shall',\n 'Shalt',\n 'Shammah',\n 'Shaul',\n 'Shaveh',\n 'She',\n 'Sheba',\n 'Shebah',\n 'Shechem',\n 'Shed',\n 'Shel',\n 'Shelah',\n 'Sheleph',\n 'Shem',\n 'Shemeber',\n 'Shepho',\n 'Shillem',\n 'Shiloh',\n 'Shimron',\n 'Shinab',\n 'Shinar',\n 'Shobal',\n 'Should',\n 'Shuah',\n 'Shuni',\n 'Shur',\n 'Sichem',\n 'Siddim',\n 'Sidon',\n 'Simeon',\n 'Sinite',\n 'Sitnah',\n 'Slay',\n 'So',\n 'Sod',\n 'Sodom',\n 'Sojourn',\n 'Some',\n 'Spake',\n 'Speak',\n 'Spirit',\n 'Stand',\n 'Succoth',\n 'Surely',\n 'Swear',\n 'Syrian',\n 'Take',\n 'Tamar',\n 'Tarshish',\n 'Tebah',\n 'Tell',\n 'Tema',\n 'Teman',\n 'Temani',\n 'Terah',\n 'Thahash',\n 'That',\n 'The',\n 'Then',\n 'There',\n 'Therefore',\n 'These',\n 'They',\n 'Thirty',\n 'This',\n 'Thorns',\n 'Thou',\n 'Thus',\n 'Thy',\n 'Tidal',\n 'Timna',\n 'Timnah',\n 'Timnath',\n 'Tiras',\n 'To',\n 'Togarmah',\n 'Tola',\n 'Tubal',\n 'Tubalcain',\n 'Twelve',\n 'Two',\n 'Unstable',\n 'Until',\n 'Unto',\n 'Up',\n 'Upon',\n 'Ur',\n 'Uz',\n 'Uzal',\n 'We',\n 'What',\n 'When',\n 'Whence',\n 'Where',\n 'Whereas',\n 'Wherefore',\n 'Which',\n 'While',\n 'Who',\n 'Whose',\n 'Whoso',\n 'Why',\n 'Wilt',\n 'With',\n 'Woman',\n 'Ye',\n 'Yea',\n 'Yet',\n 'Zaavan',\n 'Zaphnathpaaneah',\n 'Zar',\n 'Zarah',\n 'Zeboiim',\n 'Zeboim',\n 'Zebul',\n 'Zebulun',\n 'Zemarite',\n 'Zepho',\n 'Zerah',\n 'Zibeon',\n 'Zidon',\n 'Zillah',\n 'Zilpah',\n 'Zimran',\n 'Ziphion',\n 'Zo',\n 'Zoar',\n 'Zohar',\n 'Zuzims',\n 'a',\n 'abated',\n 'abide',\n 'able',\n 'abode',\n 'abomination',\n 'about',\n 'above',\n 'abroad',\n 'absent',\n 'abundantly',\n 'accept',\n 'accepted',\n 'according',\n 'acknowledged',\n 'activity',\n 'add',\n 'adder',\n 'afar',\n 'afflict',\n 'affliction',\n 'afraid',\n 'after',\n 'afterward',\n 'afterwards',\n 'aga',\n 'again',\n 'against',\n 'age',\n 'aileth',\n 'air',\n 'al',\n 'alive',\n 'all',\n 'almon',\n 'alo',\n 'alone',\n 'aloud',\n 'also',\n 'altar',\n 'altogether',\n 'always',\n 'am',\n 'among',\n 'amongst',\n 'an',\n 'and',\n 'angel',\n 'angels',\n 'anger',\n 'angry',\n 'anguish',\n 'anointedst',\n 'anoth',\n 'another',\n 'answer',\n 'answered',\n 'any',\n 'anything',\n 'appe',\n 'appear',\n 'appeared',\n 'appease',\n 'appoint',\n 'appointed',\n 'aprons',\n 'archer',\n 'archers',\n 'are',\n 'arise',\n 'ark',\n 'armed',\n 'arms',\n 'army',\n 'arose',\n 'arrayed',\n 'art',\n 'artificer',\n 'as',\n 'ascending',\n 'ash',\n 'ashamed',\n 'ask',\n 'asked',\n 'asketh',\n 'ass',\n 'assembly',\n 'asses',\n 'assigned',\n 'asswaged',\n 'at',\n 'attained',\n 'audience',\n 'avenged',\n 'aw',\n 'awaked',\n 'away',\n 'awoke',\n 'back',\n 'backward',\n 'bad',\n 'bade',\n 'badest',\n 'badne',\n 'bak',\n 'bake',\n 'bakemeats',\n 'baker',\n 'bakers',\n 'balm',\n 'bands',\n 'bank',\n 'bare',\n 'barr',\n 'barren',\n 'basket',\n 'baskets',\n 'battle',\n 'bdellium',\n 'be',\n 'bear',\n 'beari',\n 'bearing',\n 'beast',\n 'beasts',\n 'beautiful',\n 'became',\n 'because',\n 'become',\n 'bed',\n 'been',\n 'befall',\n 'befell',\n 'before',\n 'began',\n 'begat',\n 'beget',\n 'begettest',\n 'begin',\n 'beginning',\n 'begotten',\n 'beguiled',\n 'beheld',\n 'behind',\n 'behold',\n 'being',\n 'believed',\n 'belly',\n 'belong',\n 'beneath',\n 'bereaved',\n 'beside',\n 'besides',\n 'besought',\n 'best',\n 'betimes',\n 'better',\n 'between',\n 'betwixt',\n 'beyond',\n 'binding',\n 'bird',\n 'birds',\n 'birthday',\n 'birthright',\n 'biteth',\n 'bitter',\n 'blame',\n 'blameless',\n 'blasted',\n 'bless',\n 'blessed',\n 'blesseth',\n 'blessi',\n 'blessing',\n 'blessings',\n 'blindness',\n 'blood',\n 'blossoms',\n 'bodies',\n 'boldly',\n 'bondman',\n 'bondmen',\n 'bondwoman',\n 'bone',\n 'bones',\n 'book',\n 'booths',\n 'border',\n 'borders',\n 'born',\n 'bosom',\n 'both',\n 'bottle',\n 'bou',\n 'boug',\n 'bough',\n 'bought',\n 'bound',\n 'bow',\n 'bowed',\n 'bowels',\n 'bowing',\n 'boys',\n 'bracelets',\n 'branches',\n 'brass',\n 'bre',\n 'breach',\n 'bread',\n 'breadth',\n 'break',\n 'breaketh',\n 'breaking',\n 'breasts',\n 'breath',\n 'breathed',\n 'breed',\n 'brethren',\n 'brick',\n 'brimstone',\n 'bring',\n 'brink',\n 'broken',\n 'brook',\n 'broth',\n 'brother',\n 'brought',\n 'brown',\n 'bruise',\n 'budded',\n 'build',\n 'builded',\n 'built',\n 'bulls',\n 'bundle',\n 'bundles',\n 'burdens',\n 'buried',\n 'burn',\n 'burning',\n 'burnt',\n 'bury',\n 'buryingplace',\n 'business',\n 'but',\n 'butler',\n 'butlers',\n 'butlership',\n 'butter',\n 'buy',\n 'by',\n 'cakes',\n 'calf',\n 'call',\n 'called',\n 'came',\n 'camel',\n 'camels',\n 'camest',\n 'can',\n 'cannot',\n 'canst',\n 'captain',\n 'captive',\n 'captives',\n 'carcases',\n 'carried',\n 'carry',\n 'cast',\n 'castles',\n 'catt',\n 'cattle',\n 'caught',\n 'cause',\n 'caused',\n 'cave',\n 'cease',\n 'ceased',\n 'certain',\n 'certainly',\n 'chain',\n 'chamber',\n 'change',\n 'changed',\n 'changes',\n 'charge',\n 'charged',\n 'chariot',\n 'chariots',\n 'chesnut',\n 'chi',\n 'chief',\n 'child',\n 'childless',\n 'childr',\n 'children',\n 'chode',\n 'choice',\n 'chose',\n 'circumcis',\n 'circumcise',\n 'circumcised',\n 'citi',\n 'cities',\n 'city',\n 'clave',\n 'clean',\n 'clear',\n 'cleave',\n 'clo',\n 'closed',\n 'clothed',\n 'clothes',\n 'cloud',\n 'clusters',\n 'co',\n 'coat',\n 'coats',\n 'coffin',\n 'cold',\n ...]"
     },
     "execution_count": 35,
     "metadata": {},
     "output_type": "execute_result"
    }
   ],
   "source": [
    "sorted(set(text3))"
   ],
   "metadata": {
    "collapsed": false,
    "ExecuteTime": {
     "start_time": "2023-06-02T11:59:20.198550Z",
     "end_time": "2023-06-02T11:59:20.246403Z"
    }
   }
  },
  {
   "cell_type": "code",
   "execution_count": 36,
   "outputs": [
    {
     "data": {
      "text/plain": "2789"
     },
     "execution_count": 36,
     "metadata": {},
     "output_type": "execute_result"
    }
   ],
   "source": [
    "len(set(text3))"
   ],
   "metadata": {
    "collapsed": false,
    "ExecuteTime": {
     "start_time": "2023-06-02T11:59:45.963620Z",
     "end_time": "2023-06-02T11:59:45.983346Z"
    }
   }
  },
  {
   "cell_type": "code",
   "execution_count": null,
   "outputs": [],
   "source": [],
   "metadata": {
    "collapsed": false
   }
  }
 ],
 "metadata": {
  "kernelspec": {
   "name": "deeplearn",
   "language": "python",
   "display_name": "deeplearn"
  },
  "language_info": {
   "codemirror_mode": {
    "name": "ipython",
    "version": 2
   },
   "file_extension": ".py",
   "mimetype": "text/x-python",
   "name": "python",
   "nbconvert_exporter": "python",
   "pygments_lexer": "ipython2",
   "version": "2.7.6"
  }
 },
 "nbformat": 4,
 "nbformat_minor": 0
}
